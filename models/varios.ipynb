{
 "cells": [
  {
   "cell_type": "code",
   "execution_count": 34,
   "metadata": {},
   "outputs": [],
   "source": [
    "%matplotlib inline\n",
    "import pandas as pd\n",
    "import matplotlib.pyplot as plt\n",
    "import numpy as np\n",
    "## Importando as bibliotecas necessarias\n",
    "from sklearn import preprocessing\n",
    "from sklearn.metrics import classification_report, confusion_matrix\n",
    "import itertools\n",
    "from sklearn.model_selection import train_test_split\n",
    "from sklearn.neighbors import KNeighborsClassifier\n",
    "from sklearn import metrics\n",
    "from sklearn.metrics import classification_report, confusion_matrix, accuracy_score\n",
    "from sklearn.neighbors import KNeighborsClassifier  \n",
    "import joblib\n"
   ]
  },
  {
   "cell_type": "code",
   "execution_count": 5,
   "metadata": {},
   "outputs": [
    {
     "data": {
      "text/html": [
       "<div>\n",
       "<style scoped>\n",
       "    .dataframe tbody tr th:only-of-type {\n",
       "        vertical-align: middle;\n",
       "    }\n",
       "\n",
       "    .dataframe tbody tr th {\n",
       "        vertical-align: top;\n",
       "    }\n",
       "\n",
       "    .dataframe thead th {\n",
       "        text-align: right;\n",
       "    }\n",
       "</style>\n",
       "<table border=\"1\" class=\"dataframe\">\n",
       "  <thead>\n",
       "    <tr style=\"text-align: right;\">\n",
       "      <th></th>\n",
       "      <th>0</th>\n",
       "      <th>1</th>\n",
       "      <th>2</th>\n",
       "      <th>3</th>\n",
       "      <th>4</th>\n",
       "      <th>5</th>\n",
       "      <th>6</th>\n",
       "      <th>7</th>\n",
       "      <th>8</th>\n",
       "      <th>9</th>\n",
       "      <th>...</th>\n",
       "      <th>71</th>\n",
       "      <th>72</th>\n",
       "      <th>73</th>\n",
       "      <th>74</th>\n",
       "      <th>75</th>\n",
       "      <th>76</th>\n",
       "      <th>77</th>\n",
       "      <th>78</th>\n",
       "      <th>79</th>\n",
       "      <th>80</th>\n",
       "    </tr>\n",
       "  </thead>\n",
       "  <tbody>\n",
       "    <tr>\n",
       "      <th>0</th>\n",
       "      <td>4429.13</td>\n",
       "      <td>131.57</td>\n",
       "      <td>-316.24</td>\n",
       "      <td>17.7</td>\n",
       "      <td>8909.00</td>\n",
       "      <td>7.00</td>\n",
       "      <td>-173.00</td>\n",
       "      <td>9.00</td>\n",
       "      <td>6820.84</td>\n",
       "      <td>-217.88</td>\n",
       "      <td>...</td>\n",
       "      <td>17.64</td>\n",
       "      <td>5057.8</td>\n",
       "      <td>138.32</td>\n",
       "      <td>42.94</td>\n",
       "      <td>89.68</td>\n",
       "      <td>7981.04</td>\n",
       "      <td>61.64</td>\n",
       "      <td>-140.03</td>\n",
       "      <td>-93.8</td>\n",
       "      <td>0</td>\n",
       "    </tr>\n",
       "    <tr>\n",
       "      <th>1</th>\n",
       "      <td>6305.88</td>\n",
       "      <td>187.32</td>\n",
       "      <td>-450.24</td>\n",
       "      <td>25.2</td>\n",
       "      <td>11759.88</td>\n",
       "      <td>9.24</td>\n",
       "      <td>-228.36</td>\n",
       "      <td>11.88</td>\n",
       "      <td>9575.41</td>\n",
       "      <td>-305.87</td>\n",
       "      <td>...</td>\n",
       "      <td>30.24</td>\n",
       "      <td>6788.1</td>\n",
       "      <td>185.64</td>\n",
       "      <td>57.63</td>\n",
       "      <td>120.36</td>\n",
       "      <td>10959.04</td>\n",
       "      <td>84.64</td>\n",
       "      <td>-192.28</td>\n",
       "      <td>-128.8</td>\n",
       "      <td>0</td>\n",
       "    </tr>\n",
       "    <tr>\n",
       "      <th>2</th>\n",
       "      <td>9984.31</td>\n",
       "      <td>296.59</td>\n",
       "      <td>-712.88</td>\n",
       "      <td>39.9</td>\n",
       "      <td>16748.92</td>\n",
       "      <td>13.16</td>\n",
       "      <td>-325.24</td>\n",
       "      <td>16.92</td>\n",
       "      <td>12723.49</td>\n",
       "      <td>-406.43</td>\n",
       "      <td>...</td>\n",
       "      <td>52.92</td>\n",
       "      <td>9583.2</td>\n",
       "      <td>262.08</td>\n",
       "      <td>81.36</td>\n",
       "      <td>169.92</td>\n",
       "      <td>18701.84</td>\n",
       "      <td>144.44</td>\n",
       "      <td>-328.13</td>\n",
       "      <td>-219.8</td>\n",
       "      <td>0</td>\n",
       "    </tr>\n",
       "    <tr>\n",
       "      <th>3</th>\n",
       "      <td>12611.76</td>\n",
       "      <td>374.64</td>\n",
       "      <td>-900.48</td>\n",
       "      <td>50.4</td>\n",
       "      <td>20847.06</td>\n",
       "      <td>16.38</td>\n",
       "      <td>-404.82</td>\n",
       "      <td>21.06</td>\n",
       "      <td>16133.91</td>\n",
       "      <td>-515.37</td>\n",
       "      <td>...</td>\n",
       "      <td>60.48</td>\n",
       "      <td>13310.0</td>\n",
       "      <td>364.00</td>\n",
       "      <td>113.00</td>\n",
       "      <td>236.00</td>\n",
       "      <td>22037.20</td>\n",
       "      <td>170.20</td>\n",
       "      <td>-386.65</td>\n",
       "      <td>-259.0</td>\n",
       "      <td>0</td>\n",
       "    </tr>\n",
       "    <tr>\n",
       "      <th>4</th>\n",
       "      <td>16064.98</td>\n",
       "      <td>477.22</td>\n",
       "      <td>-1147.04</td>\n",
       "      <td>64.2</td>\n",
       "      <td>24677.93</td>\n",
       "      <td>19.39</td>\n",
       "      <td>-479.21</td>\n",
       "      <td>24.93</td>\n",
       "      <td>20462.52</td>\n",
       "      <td>-653.64</td>\n",
       "      <td>...</td>\n",
       "      <td>69.72</td>\n",
       "      <td>17036.8</td>\n",
       "      <td>465.92</td>\n",
       "      <td>144.64</td>\n",
       "      <td>302.08</td>\n",
       "      <td>24776.96</td>\n",
       "      <td>191.36</td>\n",
       "      <td>-434.72</td>\n",
       "      <td>-291.2</td>\n",
       "      <td>0</td>\n",
       "    </tr>\n",
       "  </tbody>\n",
       "</table>\n",
       "<p>5 rows × 81 columns</p>\n",
       "</div>"
      ],
      "text/plain": [
       "         0       1        2     3         4      5       6      7         8   \\\n",
       "0   4429.13  131.57  -316.24  17.7   8909.00   7.00 -173.00   9.00   6820.84   \n",
       "1   6305.88  187.32  -450.24  25.2  11759.88   9.24 -228.36  11.88   9575.41   \n",
       "2   9984.31  296.59  -712.88  39.9  16748.92  13.16 -325.24  16.92  12723.49   \n",
       "3  12611.76  374.64  -900.48  50.4  20847.06  16.38 -404.82  21.06  16133.91   \n",
       "4  16064.98  477.22 -1147.04  64.2  24677.93  19.39 -479.21  24.93  20462.52   \n",
       "\n",
       "       9   ...     71       72      73      74      75        76      77  \\\n",
       "0 -217.88  ...  17.64   5057.8  138.32   42.94   89.68   7981.04   61.64   \n",
       "1 -305.87  ...  30.24   6788.1  185.64   57.63  120.36  10959.04   84.64   \n",
       "2 -406.43  ...  52.92   9583.2  262.08   81.36  169.92  18701.84  144.44   \n",
       "3 -515.37  ...  60.48  13310.0  364.00  113.00  236.00  22037.20  170.20   \n",
       "4 -653.64  ...  69.72  17036.8  465.92  144.64  302.08  24776.96  191.36   \n",
       "\n",
       "       78     79  80  \n",
       "0 -140.03  -93.8   0  \n",
       "1 -192.28 -128.8   0  \n",
       "2 -328.13 -219.8   0  \n",
       "3 -386.65 -259.0   0  \n",
       "4 -434.72 -291.2   0  \n",
       "\n",
       "[5 rows x 81 columns]"
      ]
     },
     "execution_count": 5,
     "metadata": {},
     "output_type": "execute_result"
    }
   ],
   "source": [
    "df = pd.read_csv('../Resultados/all.csv', header=None)\n",
    "df.head()"
   ]
  },
  {
   "cell_type": "code",
   "execution_count": 6,
   "metadata": {},
   "outputs": [
    {
     "name": "stdout",
     "output_type": "stream",
     "text": [
      "(21748, 81)\n"
     ]
    }
   ],
   "source": [
    "print(df.shape)"
   ]
  },
  {
   "cell_type": "code",
   "execution_count": 7,
   "metadata": {},
   "outputs": [
    {
     "name": "stdout",
     "output_type": "stream",
     "text": [
      "[0 1]\n"
     ]
    }
   ],
   "source": [
    "print(df[80].unique())"
   ]
  },
  {
   "cell_type": "code",
   "execution_count": 14,
   "metadata": {},
   "outputs": [],
   "source": [
    "from pandas.plotting import scatter_matrix\n",
    "from matplotlib import cm\n",
    "feature_df = df.iloc[:,0:80]\n",
    "X = np.asarray(feature_df)\n",
    "y = np.asarray(df.iloc[:,80])\n",
    "#cmap = cm.get_cmap('gnuplot')\n",
    "#scatter = pd.scatter_matrix(X, c = y, marker = 'o', s=40, hist_kwds={'bins':15}, figsize=(9,9), cmap = cmap)\n",
    "#plt.suptitle('Scatter-matrix for each input variable')\n",
    "#plt.savefig('fruits_scatter_matrix')"
   ]
  },
  {
   "cell_type": "code",
   "execution_count": 15,
   "metadata": {},
   "outputs": [],
   "source": [
    "from sklearn.model_selection import train_test_split\n",
    "X_train, X_test, y_train, y_test = train_test_split(X, y, random_state=0)\n",
    "from sklearn.preprocessing import MinMaxScaler\n",
    "scaler = MinMaxScaler()\n",
    "X_train = scaler.fit_transform(X_train)\n",
    "X_test = scaler.transform(X_test)"
   ]
  },
  {
   "cell_type": "code",
   "execution_count": 32,
   "metadata": {},
   "outputs": [],
   "source": [
    "def plot_confusion_matrix(cm, classes,\n",
    "                          normalize=False,\n",
    "                          title='Confusion matrix',\n",
    "                          cmap=plt.cm.Blues):\n",
    "    \"\"\"\n",
    "    This function prints and plots the confusion matrix.\n",
    "    Normalization can be applied by setting `normalize=True`.\n",
    "    \"\"\"\n",
    "    if normalize:\n",
    "        cm = cm.astype('float') / cm.sum(axis=1)[:, np.newaxis]\n",
    "        print(\"Normalized confusion matrix\")\n",
    "    else:\n",
    "        print('Confusion matrix, without normalization')\n",
    "\n",
    "    print(cm)\n",
    "\n",
    "    plt.imshow(cm, interpolation='nearest', cmap=cmap)\n",
    "    plt.title(title)\n",
    "    plt.colorbar()\n",
    "    tick_marks = np.arange(len(classes))\n",
    "    plt.xticks(tick_marks, classes, rotation=45)\n",
    "    plt.yticks(tick_marks, classes)\n",
    "\n",
    "    fmt = '.2f' if normalize else 'd'\n",
    "    thresh = cm.max() / 2.\n",
    "    for i, j in itertools.product(range(cm.shape[0]), range(cm.shape[1])):\n",
    "        plt.text(j, i, format(cm[i, j], fmt),\n",
    "                 horizontalalignment=\"center\",\n",
    "                 color=\"white\" if cm[i, j] > thresh else \"black\")\n",
    "\n",
    "    plt.tight_layout()\n",
    "    plt.ylabel('True label')\n",
    "    plt.xlabel('Predicted label')\n",
    "    plt.savefig(\"/tmp/confusion.png\", dpi=300)\n",
    "    plt.show()"
   ]
  },
  {
   "cell_type": "markdown",
   "metadata": {},
   "source": [
    "### Logistic Regression"
   ]
  },
  {
   "cell_type": "code",
   "execution_count": 36,
   "metadata": {},
   "outputs": [
    {
     "name": "stdout",
     "output_type": "stream",
     "text": [
      "Accuracy of Logistic regression classifier on training set: 0.99\n",
      "Accuracy of Logistic regression classifier on test set: 0.99\n",
      "              precision    recall  f1-score   support\n",
      "\n",
      "           0       0.99      0.99      0.99       304\n",
      "           1       1.00      1.00      1.00      5133\n",
      "\n",
      "    accuracy                           1.00      5437\n",
      "   macro avg       1.00      1.00      1.00      5437\n",
      "weighted avg       1.00      1.00      1.00      5437\n",
      "\n",
      "Confusion matrix, without normalization\n",
      "[[ 302    2]\n",
      " [   2 5131]]\n"
     ]
    },
    {
     "data": {
      "image/png": "[encoded data removed]",
      "text/plain": [
       "<Figure size 432x288 with 2 Axes>"
      ]
     },
     "metadata": {
      "needs_background": "light"
     },
     "output_type": "display_data"
    }
   ],
   "source": [
    "## Logistic Regression\n",
    "from sklearn.linear_model import LogisticRegression\n",
    "logreg = LogisticRegression()\n",
    "logreg.fit(X_train, y_train)\n",
    "print('Accuracy of Logistic regression classifier on training set: {:.2f}'.format(logreg.score(X_train, y_train)))\n",
    "print('Accuracy of Logistic regression classifier on test set: {:.2f}'.format(logreg.score(X_test, y_test)))\n",
    "cnf_matrix=confusion_matrix(y_test, pred)\n",
    "print(classification_report(y_test, pred))\n",
    "plot_confusion_matrix(cnf_matrix, classes=['MMPs(0)','No MMPs(1)'],normalize=False,  title='Confusion matrix')\n"
   ]
  },
  {
   "cell_type": "markdown",
   "metadata": {},
   "source": [
    "### Decision Tree"
   ]
  },
  {
   "cell_type": "code",
   "execution_count": 35,
   "metadata": {},
   "outputs": [
    {
     "name": "stdout",
     "output_type": "stream",
     "text": [
      "Accuracy of Decision Tree classifier on training set: 1.00\n",
      "Accuracy of Decision Tree classifier on test set: 1.00\n",
      "              precision    recall  f1-score   support\n",
      "\n",
      "           0       0.99      0.99      0.99       304\n",
      "           1       1.00      1.00      1.00      5133\n",
      "\n",
      "    accuracy                           1.00      5437\n",
      "   macro avg       1.00      1.00      1.00      5437\n",
      "weighted avg       1.00      1.00      1.00      5437\n",
      "\n",
      "Confusion matrix, without normalization\n",
      "[[ 302    2]\n",
      " [   2 5131]]\n"
     ]
    },
    {
     "data": {
      "image/png": "[encoded data removed]",
      "text/plain": [
       "<Figure size 432x288 with 2 Axes>"
      ]
     },
     "metadata": {
      "needs_background": "light"
     },
     "output_type": "display_data"
    }
   ],
   "source": [
    "## Decision Tree\n",
    "from sklearn.tree import DecisionTreeClassifier\n",
    "clf = DecisionTreeClassifier().fit(X_train, y_train)\n",
    "print('Accuracy of Decision Tree classifier on training set: {:.2f}'\n",
    "     .format(clf.score(X_train, y_train)))\n",
    "print('Accuracy of Decision Tree classifier on test set: {:.2f}'\n",
    "     .format(clf.score(X_test, y_test)))\n",
    "pred = clf.predict(X_test)\n",
    "cnf_matrix=confusion_matrix(y_test, pred)\n",
    "print(classification_report(y_test, pred))\n",
    "plot_confusion_matrix(cnf_matrix, classes=['MMPs(0)','No MMPs(1)'],normalize=False,  title='Confusion matrix')\n"
   ]
  },
  {
   "cell_type": "markdown",
   "metadata": {},
   "source": [
    "### KNN"
   ]
  },
  {
   "cell_type": "code",
   "execution_count": 37,
   "metadata": {},
   "outputs": [
    {
     "name": "stdout",
     "output_type": "stream",
     "text": [
      "Accuracy of K-NN classifier on training set: 1.00\n",
      "Accuracy of K-NN classifier on test set: 1.00\n",
      "              precision    recall  f1-score   support\n",
      "\n",
      "           0       1.00      1.00      1.00       304\n",
      "           1       1.00      1.00      1.00      5133\n",
      "\n",
      "    accuracy                           1.00      5437\n",
      "   macro avg       1.00      1.00      1.00      5437\n",
      "weighted avg       1.00      1.00      1.00      5437\n",
      "\n",
      "Confusion matrix, without normalization\n",
      "[[ 304    0]\n",
      " [   0 5133]]\n"
     ]
    },
    {
     "data": {
      "image/png": "[encoded data removed]",
      "text/plain": [
       "<Figure size 432x288 with 2 Axes>"
      ]
     },
     "metadata": {
      "needs_background": "light"
     },
     "output_type": "display_data"
    }
   ],
   "source": [
    "## Knn\n",
    "from sklearn.neighbors import KNeighborsClassifier\n",
    "knn = KNeighborsClassifier()\n",
    "knn.fit(X_train, y_train)\n",
    "print('Accuracy of K-NN classifier on training set: {:.2f}'\n",
    "     .format(knn.score(X_train, y_train)))\n",
    "print('Accuracy of K-NN classifier on test set: {:.2f}'\n",
    "     .format(knn.score(X_test, y_test)))\n",
    "pred = knn.predict(X_test)\n",
    "cnf_matrix=confusion_matrix(y_test, pred)\n",
    "print(classification_report(y_test, pred))\n",
    "plot_confusion_matrix(cnf_matrix, classes=['MMPs(0)','No MMPs(1)'],normalize=False,  title='Confusion matrix')\n"
   ]
  },
  {
   "cell_type": "markdown",
   "metadata": {},
   "source": [
    "### Linear Discriminant"
   ]
  },
  {
   "cell_type": "code",
   "execution_count": 38,
   "metadata": {},
   "outputs": [
    {
     "name": "stdout",
     "output_type": "stream",
     "text": [
      "Accuracy of LDA classifier on training set: 1.00\n",
      "Accuracy of LDA classifier on test set: 1.00\n",
      "              precision    recall  f1-score   support\n",
      "\n",
      "           0       1.00      0.91      0.96       304\n",
      "           1       0.99      1.00      1.00      5133\n",
      "\n",
      "    accuracy                           1.00      5437\n",
      "   macro avg       1.00      0.96      0.98      5437\n",
      "weighted avg       1.00      1.00      1.00      5437\n",
      "\n",
      "Confusion matrix, without normalization\n",
      "[[ 278   26]\n",
      " [   0 5133]]\n"
     ]
    },
    {
     "data": {
      "image/png": "[encoded data removed]",
      "text/plain": [
       "<Figure size 432x288 with 2 Axes>"
      ]
     },
     "metadata": {
      "needs_background": "light"
     },
     "output_type": "display_data"
    }
   ],
   "source": [
    "## Linear Discriminant\n",
    "from sklearn.discriminant_analysis import LinearDiscriminantAnalysis\n",
    "lda = LinearDiscriminantAnalysis()\n",
    "lda.fit(X_train, y_train)\n",
    "print('Accuracy of LDA classifier on training set: {:.2f}'\n",
    "     .format(lda.score(X_train, y_train)))\n",
    "print('Accuracy of LDA classifier on test set: {:.2f}'\n",
    "     .format(lda.score(X_test, y_test)))\n",
    "pred = lda.predict(X_test)\n",
    "cnf_matrix=confusion_matrix(y_test, pred)\n",
    "print(classification_report(y_test, pred))\n",
    "plot_confusion_matrix(cnf_matrix, classes=['MMPs(0)','No MMPs(1)'],normalize=False,  title='Confusion matrix')\n"
   ]
  },
  {
   "cell_type": "markdown",
   "metadata": {},
   "source": [
    "### Gaussian naive"
   ]
  },
  {
   "cell_type": "code",
   "execution_count": 39,
   "metadata": {},
   "outputs": [
    {
     "name": "stdout",
     "output_type": "stream",
     "text": [
      "Accuracy of GNB classifier on training set: 0.95\n",
      "Accuracy of GNB classifier on test set: 0.94\n",
      "              precision    recall  f1-score   support\n",
      "\n",
      "           0       0.50      1.00      0.66       304\n",
      "           1       1.00      0.94      0.97      5133\n",
      "\n",
      "    accuracy                           0.94      5437\n",
      "   macro avg       0.75      0.97      0.82      5437\n",
      "weighted avg       0.97      0.94      0.95      5437\n",
      "\n",
      "Confusion matrix, without normalization\n",
      "[[ 304    0]\n",
      " [ 310 4823]]\n"
     ]
    },
    {
     "data": {
      "image/png": "[encoded data removed]",
      "text/plain": [
       "<Figure size 432x288 with 2 Axes>"
      ]
     },
     "metadata": {
      "needs_background": "light"
     },
     "output_type": "display_data"
    }
   ],
   "source": [
    "## Gaussian naive\n",
    "from sklearn.naive_bayes import GaussianNB\n",
    "gnb = GaussianNB()\n",
    "gnb.fit(X_train, y_train)\n",
    "print('Accuracy of GNB classifier on training set: {:.2f}'\n",
    "     .format(gnb.score(X_train, y_train)))\n",
    "print('Accuracy of GNB classifier on test set: {:.2f}'\n",
    "     .format(gnb.score(X_test, y_test)))\n",
    "pred = gnb.predict(X_test)\n",
    "cnf_matrix=confusion_matrix(y_test, pred)\n",
    "print(classification_report(y_test, pred))\n",
    "plot_confusion_matrix(cnf_matrix, classes=['MMPs(0)','No MMPs(1)'],normalize=False,  title='Confusion matrix')\n"
   ]
  },
  {
   "cell_type": "markdown",
   "metadata": {},
   "source": [
    "### SVM"
   ]
  },
  {
   "cell_type": "code",
   "execution_count": 40,
   "metadata": {},
   "outputs": [
    {
     "name": "stdout",
     "output_type": "stream",
     "text": [
      "Accuracy of SVM classifier on training set: 0.98\n",
      "Accuracy of SVM classifier on test set: 0.98\n",
      "              precision    recall  f1-score   support\n",
      "\n",
      "           0       0.71      1.00      0.83       304\n",
      "           1       1.00      0.98      0.99      5133\n",
      "\n",
      "    accuracy                           0.98      5437\n",
      "   macro avg       0.85      0.99      0.91      5437\n",
      "weighted avg       0.98      0.98      0.98      5437\n",
      "\n",
      "Confusion matrix, without normalization\n",
      "[[ 304    0]\n",
      " [ 126 5007]]\n"
     ]
    },
    {
     "data": {
      "image/png": "[encoded data removed]",
      "text/plain": [
       "<Figure size 432x288 with 2 Axes>"
      ]
     },
     "metadata": {
      "needs_background": "light"
     },
     "output_type": "display_data"
    }
   ],
   "source": [
    "## SVM\n",
    "from sklearn.svm import SVC\n",
    "svm = SVC()\n",
    "svm.fit(X_train, y_train)\n",
    "print('Accuracy of SVM classifier on training set: {:.2f}'\n",
    "     .format(svm.score(X_train, y_train)))\n",
    "print('Accuracy of SVM classifier on test set: {:.2f}'\n",
    "     .format(svm.score(X_test, y_test)))\n",
    "pred = svm.predict(X_test)\n",
    "cnf_matrix=confusion_matrix(y_test, pred)\n",
    "print(classification_report(y_test, pred))\n",
    "plot_confusion_matrix(cnf_matrix, classes=['MMPs(0)','No MMPs(1)'],normalize=False,  title='Confusion matrix')\n"
   ]
  }
 ],
 "metadata": {
  "kernelspec": {
   "display_name": "Python 3 (ipykernel)",
   "language": "python",
   "name": "python3"
  },
  "language_info": {
   "codemirror_mode": {
    "name": "ipython",
    "version": 3
   },
   "file_extension": ".py",
   "mimetype": "text/x-python",
   "name": "python",
   "nbconvert_exporter": "python",
   "pygments_lexer": "ipython3",
   "version": "3.9.1"
  }
 },
 "nbformat": 4,
 "nbformat_minor": 4
}
