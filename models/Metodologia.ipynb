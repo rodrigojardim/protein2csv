{
 "cells": [
  {
   "cell_type": "markdown",
   "id": "83ba0c31",
   "metadata": {},
   "source": [
    "# Metodologia do Artigo da MMPs\n",
    "\n",
    "### Objetivo:\n",
    "O objetivo do artigo é criar um modelo baseado em técnicas de Machine Learning que possa predizer sequências de metaloproteinases com grau de confiança alto. \n",
    "\n",
    "Este arquivo descreve os passos da metodologia adotada no trabalho e servirá de base para a seção de metodologia do artigo que será escrito.\n",
    "\n",
    "### Etapas não disponibilizadas nesse notebook:\n",
    "Abaixo estão descritas as etapas para a consecução do objetivo:\n",
    "\n",
    "* Download de sequências de MMPs da base Uniprot (formato FASTA)\n",
    "* Download de sequências do proteoma humano da base Uniprot (formato FASTA)\n",
    "* Remoção, através de blast, das sequências de MMPs no proteoma humano\n"
   ]
  },
  {
   "cell_type": "markdown",
   "id": "aa1aedd8",
   "metadata": {},
   "source": [
    "### Preparação das bases\n",
    "Esta etapa tem por finalidade transformar os arquivos de sequência em formato FASTA em uma matriz numérica que possa ser utilizada pelos modelos de ML.\n",
    "\n",
    "Para isso, foi elaborado um script em python onde cada conjunto de 4 colunas representa um aminoácido presente na cadeia da sequência com as seguintes informações: massa molecular, hidrofobicidade, volume da cadeia lateral e propriedades eletrônicas. Cada uma dessas colunas foi ponderada pela frequência desse aminoáciso na cadeia da sequência.\n",
    "\n",
    "A massa molecular de cada aminoácido foi obtida em [PubChem](https://pubchem.ncbi.nlm.nih.gov/).\n",
    "\n",
    "As demais informações foram retiradas [deste artigo](../Artigos/Import_Determinants_of_Organelle-Specific_and_Dual.pdf) e são denominadas ZClass.\n",
    "\n",
    "#### Subetapas que não estão disponibilizadas nesse notebook:\n",
    "Após o download das sequências, precisa ser feito:\n",
    "\n",
    "* Rodar um programa para verificar as estatísticas de cada arquivo multifasta (menor, maior, média e mediana do tamanho das sequências)\n",
    "* Definir um tamanho que leve em consideração a média ou a mediana +/- um desvio padrão determinado\n",
    "* Gerar um novo arquivo fasta apenas com as sequências de tamanhos previamente definido na subetapa anterior.\n",
    "\n",
    "#### Rodando o script para a base de MMP de mamíferos"
   ]
  },
  {
   "cell_type": "code",
   "execution_count": 91,
   "id": "67b2a5d4",
   "metadata": {},
   "outputs": [],
   "source": [
    "## O primeiro parametro eh o arquivo mutifasta. O segundo parametro eh um numero que representa a classe (o tipo de MMP) a ser convertida\n",
    "!python ../Scripts/sequence2matrix_2.py ../Data/all_mmps.fasta 0 > ./mmps.csv"
   ]
  },
  {
   "cell_type": "markdown",
   "id": "6de113d1",
   "metadata": {},
   "source": [
    "#### Rodando o script para a base de MMP de bactérias"
   ]
  },
  {
   "cell_type": "code",
   "execution_count": 92,
   "id": "d9736f16",
   "metadata": {},
   "outputs": [],
   "source": [
    "!python ../Scripts/sequence2matrix_2.py ../Data/no_mmps_homo.fasta 1 > ./no_mmps.csv"
   ]
  },
  {
   "cell_type": "markdown",
   "id": "3c0652f0",
   "metadata": {},
   "source": [
    "#### Concatenando os arquivos CSV"
   ]
  },
  {
   "cell_type": "code",
   "execution_count": 93,
   "id": "6baebd54",
   "metadata": {},
   "outputs": [],
   "source": [
    "cat mmps.csv no_mmps.csv > all.csv"
   ]
  },
  {
   "cell_type": "markdown",
   "id": "8dde9733",
   "metadata": {},
   "source": [
    "### Rodando o modelo KNN"
   ]
  },
  {
   "cell_type": "code",
   "execution_count": 5,
   "id": "6d0c96c4",
   "metadata": {},
   "outputs": [
    {
     "name": "stdout",
     "output_type": "stream",
     "text": [
      "Requirement already satisfied: scikit-learn==0.23.1 in /opt/miniconda3/lib/python3.9/site-packages (0.23.1)\n",
      "Requirement already satisfied: numpy>=1.13.3 in /opt/miniconda3/lib/python3.9/site-packages (from scikit-learn==0.23.1) (1.21.4)\n",
      "Requirement already satisfied: scipy>=0.19.1 in /opt/miniconda3/lib/python3.9/site-packages (from scikit-learn==0.23.1) (1.7.3)\n",
      "Requirement already satisfied: joblib>=0.11 in /opt/miniconda3/lib/python3.9/site-packages (from scikit-learn==0.23.1) (1.1.0)\n",
      "Requirement already satisfied: threadpoolctl>=2.0.0 in /opt/miniconda3/lib/python3.9/site-packages (from scikit-learn==0.23.1) (3.0.0)\n",
      "Requirement already satisfied: numpy>=1.13.3 in /opt/miniconda3/lib/python3.9/site-packages (from scikit-learn==0.23.1) (1.21.4)\n"
     ]
    }
   ],
   "source": [
    "## Instalando bibliotecas de ML do python \n",
    "!pip3 install scikit-learn==0.23.1"
   ]
  },
  {
   "cell_type": "code",
   "execution_count": 6,
   "id": "204d5411",
   "metadata": {},
   "outputs": [],
   "source": [
    "## Importando as bibliotecas necessarias\n",
    "import numpy as np\n",
    "import matplotlib.pyplot as plt\n",
    "import pandas as pd\n",
    "import numpy as np\n",
    "from sklearn import preprocessing\n",
    "%matplotlib inline\n",
    "from sklearn.metrics import classification_report, confusion_matrix\n",
    "import itertools\n",
    "from sklearn.model_selection import train_test_split\n",
    "from sklearn.neighbors import KNeighborsClassifier\n",
    "from sklearn import metrics\n",
    "from sklearn.metrics import classification_report, confusion_matrix, accuracy_score\n",
    "from sklearn.neighbors import KNeighborsClassifier  \n",
    "import joblib\n"
   ]
  },
  {
   "cell_type": "code",
   "execution_count": 94,
   "id": "9a245a4e",
   "metadata": {},
   "outputs": [
    {
     "data": {
      "text/html": [
       "<div>\n",
       "<style scoped>\n",
       "    .dataframe tbody tr th:only-of-type {\n",
       "        vertical-align: middle;\n",
       "    }\n",
       "\n",
       "    .dataframe tbody tr th {\n",
       "        vertical-align: top;\n",
       "    }\n",
       "\n",
       "    .dataframe thead th {\n",
       "        text-align: right;\n",
       "    }\n",
       "</style>\n",
       "<table border=\"1\" class=\"dataframe\">\n",
       "  <thead>\n",
       "    <tr style=\"text-align: right;\">\n",
       "      <th></th>\n",
       "      <th>0</th>\n",
       "      <th>1</th>\n",
       "      <th>2</th>\n",
       "      <th>3</th>\n",
       "      <th>4</th>\n",
       "      <th>5</th>\n",
       "      <th>6</th>\n",
       "      <th>7</th>\n",
       "      <th>8</th>\n",
       "      <th>9</th>\n",
       "      <th>...</th>\n",
       "      <th>71</th>\n",
       "      <th>72</th>\n",
       "      <th>73</th>\n",
       "      <th>74</th>\n",
       "      <th>75</th>\n",
       "      <th>76</th>\n",
       "      <th>77</th>\n",
       "      <th>78</th>\n",
       "      <th>79</th>\n",
       "      <th>80</th>\n",
       "    </tr>\n",
       "  </thead>\n",
       "  <tbody>\n",
       "    <tr>\n",
       "      <th>0</th>\n",
       "      <td>7.019223</td>\n",
       "      <td>0.208510</td>\n",
       "      <td>-0.501173</td>\n",
       "      <td>0.028051</td>\n",
       "      <td>14.118859</td>\n",
       "      <td>0.011094</td>\n",
       "      <td>-0.274168</td>\n",
       "      <td>0.014263</td>\n",
       "      <td>10.809572</td>\n",
       "      <td>-0.345293</td>\n",
       "      <td>...</td>\n",
       "      <td>0.027956</td>\n",
       "      <td>8.015531</td>\n",
       "      <td>0.219208</td>\n",
       "      <td>0.068051</td>\n",
       "      <td>0.142124</td>\n",
       "      <td>12.648241</td>\n",
       "      <td>0.097686</td>\n",
       "      <td>-0.221918</td>\n",
       "      <td>-0.148653</td>\n",
       "      <td>0</td>\n",
       "    </tr>\n",
       "    <tr>\n",
       "      <th>1</th>\n",
       "      <td>22.847391</td>\n",
       "      <td>0.678696</td>\n",
       "      <td>-1.631304</td>\n",
       "      <td>0.091304</td>\n",
       "      <td>42.608261</td>\n",
       "      <td>0.033478</td>\n",
       "      <td>-0.827391</td>\n",
       "      <td>0.043043</td>\n",
       "      <td>34.693514</td>\n",
       "      <td>-1.108225</td>\n",
       "      <td>...</td>\n",
       "      <td>0.109565</td>\n",
       "      <td>24.594565</td>\n",
       "      <td>0.672609</td>\n",
       "      <td>0.208804</td>\n",
       "      <td>0.436087</td>\n",
       "      <td>39.706667</td>\n",
       "      <td>0.306667</td>\n",
       "      <td>-0.696667</td>\n",
       "      <td>-0.466667</td>\n",
       "      <td>0</td>\n",
       "    </tr>\n",
       "    <tr>\n",
       "      <th>2</th>\n",
       "      <td>20.417812</td>\n",
       "      <td>0.606524</td>\n",
       "      <td>-1.457832</td>\n",
       "      <td>0.081595</td>\n",
       "      <td>34.251370</td>\n",
       "      <td>0.026912</td>\n",
       "      <td>-0.665112</td>\n",
       "      <td>0.034601</td>\n",
       "      <td>26.019407</td>\n",
       "      <td>-0.831145</td>\n",
       "      <td>...</td>\n",
       "      <td>0.108221</td>\n",
       "      <td>19.597546</td>\n",
       "      <td>0.535951</td>\n",
       "      <td>0.166380</td>\n",
       "      <td>0.347485</td>\n",
       "      <td>38.245072</td>\n",
       "      <td>0.295378</td>\n",
       "      <td>-0.671022</td>\n",
       "      <td>-0.449489</td>\n",
       "      <td>0</td>\n",
       "    </tr>\n",
       "    <tr>\n",
       "      <th>3</th>\n",
       "      <td>37.093412</td>\n",
       "      <td>1.101882</td>\n",
       "      <td>-2.648471</td>\n",
       "      <td>0.148235</td>\n",
       "      <td>61.314882</td>\n",
       "      <td>0.048176</td>\n",
       "      <td>-1.190647</td>\n",
       "      <td>0.061941</td>\n",
       "      <td>47.452676</td>\n",
       "      <td>-1.515794</td>\n",
       "      <td>...</td>\n",
       "      <td>0.177882</td>\n",
       "      <td>39.147059</td>\n",
       "      <td>1.070588</td>\n",
       "      <td>0.332353</td>\n",
       "      <td>0.694118</td>\n",
       "      <td>64.815294</td>\n",
       "      <td>0.500588</td>\n",
       "      <td>-1.137206</td>\n",
       "      <td>-0.761765</td>\n",
       "      <td>0</td>\n",
       "    </tr>\n",
       "    <tr>\n",
       "      <th>4</th>\n",
       "      <td>40.568131</td>\n",
       "      <td>1.205101</td>\n",
       "      <td>-2.896566</td>\n",
       "      <td>0.162121</td>\n",
       "      <td>62.318005</td>\n",
       "      <td>0.048965</td>\n",
       "      <td>-1.210126</td>\n",
       "      <td>0.062955</td>\n",
       "      <td>51.673030</td>\n",
       "      <td>-1.650606</td>\n",
       "      <td>...</td>\n",
       "      <td>0.176061</td>\n",
       "      <td>43.022222</td>\n",
       "      <td>1.176566</td>\n",
       "      <td>0.365253</td>\n",
       "      <td>0.762828</td>\n",
       "      <td>62.568081</td>\n",
       "      <td>0.483232</td>\n",
       "      <td>-1.097778</td>\n",
       "      <td>-0.735354</td>\n",
       "      <td>0</td>\n",
       "    </tr>\n",
       "  </tbody>\n",
       "</table>\n",
       "<p>5 rows × 81 columns</p>\n",
       "</div>"
      ],
      "text/plain": [
       "          0         1         2         3          4         5         6   \\\n",
       "0   7.019223  0.208510 -0.501173  0.028051  14.118859  0.011094 -0.274168   \n",
       "1  22.847391  0.678696 -1.631304  0.091304  42.608261  0.033478 -0.827391   \n",
       "2  20.417812  0.606524 -1.457832  0.081595  34.251370  0.026912 -0.665112   \n",
       "3  37.093412  1.101882 -2.648471  0.148235  61.314882  0.048176 -1.190647   \n",
       "4  40.568131  1.205101 -2.896566  0.162121  62.318005  0.048965 -1.210126   \n",
       "\n",
       "         7          8         9   ...        71         72        73  \\\n",
       "0  0.014263  10.809572 -0.345293  ...  0.027956   8.015531  0.219208   \n",
       "1  0.043043  34.693514 -1.108225  ...  0.109565  24.594565  0.672609   \n",
       "2  0.034601  26.019407 -0.831145  ...  0.108221  19.597546  0.535951   \n",
       "3  0.061941  47.452676 -1.515794  ...  0.177882  39.147059  1.070588   \n",
       "4  0.062955  51.673030 -1.650606  ...  0.176061  43.022222  1.176566   \n",
       "\n",
       "         74        75         76        77        78        79  80  \n",
       "0  0.068051  0.142124  12.648241  0.097686 -0.221918 -0.148653   0  \n",
       "1  0.208804  0.436087  39.706667  0.306667 -0.696667 -0.466667   0  \n",
       "2  0.166380  0.347485  38.245072  0.295378 -0.671022 -0.449489   0  \n",
       "3  0.332353  0.694118  64.815294  0.500588 -1.137206 -0.761765   0  \n",
       "4  0.365253  0.762828  62.568081  0.483232 -1.097778 -0.735354   0  \n",
       "\n",
       "[5 rows x 81 columns]"
      ]
     },
     "execution_count": 94,
     "metadata": {},
     "output_type": "execute_result"
    }
   ],
   "source": [
    "## Carregando os dados da matriz gerada no passo anterior\n",
    "df = pd.read_csv('all.csv', header=None)\n",
    "classCol = df.shape[1]-1     # Ultima coluna. Coluna com a classificacao da MMP\n",
    "df.head()\n"
   ]
  },
  {
   "cell_type": "code",
   "execution_count": 95,
   "id": "2c7081b4",
   "metadata": {},
   "outputs": [
    {
     "name": "stdout",
     "output_type": "stream",
     "text": [
      "MMPs:  1223\n",
      "No MMPs:  20525\n"
     ]
    }
   ],
   "source": [
    "## Quantidade de registros lidos de cada tipo de MMP\n",
    "mmps = pd.value_counts(df[classCol]) [0]\n",
    "no_mmps = pd.value_counts(df[classCol]) [1]\n",
    "\n",
    "tam = len(df)\n",
    "\n",
    "print('MMPs: ',mmps)\n",
    "print('No MMPs: ',no_mmps)\n"
   ]
  },
  {
   "cell_type": "code",
   "execution_count": 99,
   "id": "25da777f",
   "metadata": {},
   "outputs": [
    {
     "data": {
      "text/plain": [
       "array([[ 7.02e+00,  2.09e-01, -5.01e-01,  2.81e-02,  1.41e+01,  1.11e-02,\n",
       "        -2.74e-01,  1.43e-02,  1.08e+01, -3.45e-01, -8.49e-02, -8.08e-02,\n",
       "         1.66e+00, -2.76e-02, -3.00e-03, -4.55e-03,  7.59e+00, -2.26e-01,\n",
       "         5.97e-02,  2.07e-02,  1.94e+00, -4.52e-02,  3.47e-02,  8.08e-03,\n",
       "         2.78e+00,  5.40e-02,  2.68e-02, -5.97e-02,  4.40e+00,  6.59e-02,\n",
       "         1.60e-02, -3.43e-02,  3.50e+00,  7.32e-02,  9.27e-04, -1.66e-03,\n",
       "         7.33e+00,  1.37e-01, -1.14e-01,  3.97e-02,  6.39e+00, -6.77e-02,\n",
       "         4.88e-02,  1.24e-01,  7.61e+00, -1.75e-01, -1.64e-01, -8.38e-02,\n",
       "         6.03e+00, -2.04e-01, -7.72e-02, -4.73e-02,  0.00e+00,  0.00e+00,\n",
       "        -0.00e+00,  0.00e+00,  7.18e+00, -5.51e-02,  9.19e-02,  3.96e-04,\n",
       "         1.97e+00,  3.06e-02,  2.21e-02,  1.41e-02,  6.63e+00,  1.10e-01,\n",
       "         9.58e-02, -1.31e-01,  4.40e+00,  1.07e-01,  4.83e-02,  2.80e-02,\n",
       "         8.02e+00,  2.19e-01,  6.81e-02,  1.42e-01,  1.26e+01,  9.77e-02,\n",
       "        -2.22e-01, -1.49e-01]])"
      ]
     },
     "execution_count": 99,
     "metadata": {},
     "output_type": "execute_result"
    }
   ],
   "source": [
    "## Separa a matriz original em duas matrizes: \n",
    "##      - matriz X contendo todas as colunas, exceto a ultima coluna. Conhecida como variaveis independentes\n",
    "##      - matriz Y contendo a ultima coluna (coluna com a classificacao das MMPs). Conhecida como variavel dependente\n",
    "#X = df.drop(classCol, axis=1).drop(0, axis=1).values\n",
    "feature_df = df.iloc[:,0:80]\n",
    "X = np.asarray(feature_df)\n",
    "X[0:1]"
   ]
  },
  {
   "cell_type": "code",
   "execution_count": 97,
   "id": "8b31fde5",
   "metadata": {},
   "outputs": [
    {
     "data": {
      "text/plain": [
       "array([0, 0, 0, 0, 0])"
      ]
     },
     "execution_count": 97,
     "metadata": {},
     "output_type": "execute_result"
    }
   ],
   "source": [
    "y = df[classCol].values\n",
    "y[0:5]"
   ]
  },
  {
   "cell_type": "code",
   "execution_count": 98,
   "id": "fe9f077b",
   "metadata": {},
   "outputs": [
    {
     "data": {
      "text/plain": [
       "array([[-0.45, -0.45,  0.45, -0.45, -0.45, -0.45,  0.45, -0.45, -0.45,\n",
       "         0.45,  0.45,  0.45, -0.45,  0.45,  0.45,  0.45, -0.45,  0.45,\n",
       "        -0.45, -0.45, -0.45,  0.45, -0.45, -0.45, -0.45, -0.45, -0.45,\n",
       "         0.45, -0.45, -0.45, -0.45,  0.45, -0.45, -0.45, -0.45,  0.45,\n",
       "        -0.45, -0.45,  0.45, -0.45, -0.45,  0.45, -0.45, -0.45, -0.45,\n",
       "         0.45,  0.45,  0.45, -0.45,  0.45,  0.45,  0.45, -0.45, -0.45,\n",
       "         0.45, -0.45, -0.45,  0.45, -0.45, -0.45, -0.45, -0.45, -0.45,\n",
       "        -0.45, -0.45, -0.45, -0.45,  0.45, -0.45, -0.45, -0.45, -0.45,\n",
       "        -0.45, -0.45, -0.45, -0.45, -0.45, -0.45,  0.45,  0.45]])"
      ]
     },
     "execution_count": 98,
     "metadata": {},
     "output_type": "execute_result"
    }
   ],
   "source": [
    "## Normalizando os dados da matriz X\n",
    "#X = preprocessing.StandardScaler().fit(X).transform(X.astype(float))\n",
    "#normalize=True\n",
    "#X[0:1]"
   ]
  },
  {
   "cell_type": "code",
   "execution_count": 100,
   "id": "8684facb",
   "metadata": {},
   "outputs": [
    {
     "name": "stdout",
     "output_type": "stream",
     "text": [
      "Train set: (17398, 80) (17398,)\n",
      "Test set: (4350, 80) (4350,)\n"
     ]
    }
   ],
   "source": [
    "## Dividindo as matrizes X e Y em dois subconjuntos: (1) treinamento do modelo com 80% dos dados e (2) teste do modelo com 20% dos dados\n",
    "X_train, X_test, y_train, y_test = train_test_split( X, y, test_size=0.2, random_state=4)\n",
    "print ('Train set:', X_train.shape,  y_train.shape)\n",
    "print ('Test set:', X_test.shape,  y_test.shape)"
   ]
  },
  {
   "cell_type": "markdown",
   "id": "a6fec42f",
   "metadata": {},
   "source": [
    "#### Classificação pelo KNN\n",
    "Nesse tipo de modelo, é necessário escolher o melhor K que se ajusta aos nossos dados. 'K' é o parâmetro que define para quantos melhores vizinhos o algoritmo deve \"olhar\" para determinar a classe. "
   ]
  },
  {
   "cell_type": "code",
   "execution_count": 101,
   "id": "60f2ff7e",
   "metadata": {},
   "outputs": [
    {
     "name": "stdout",
     "output_type": "stream",
     "text": [
      "The best accuracy was with 0.9997701149425288 with k= 9\n"
     ]
    },
    {
     "data": {
      "image/png": "[encoded data removed]",
      "text/plain": [
       "<Figure size 432x288 with 1 Axes>"
      ]
     },
     "metadata": {
      "needs_background": "light"
     },
     "output_type": "display_data"
    }
   ],
   "source": [
    "## Classificacao por KNN\n",
    "\n",
    "\n",
    "## Aqui fazemos uma varredura de K iniciando em 1 ate 10 para identificarmos o melhor K\n",
    "Ks = 10\n",
    "mean_acc = np.zeros((Ks-1))\n",
    "std_acc = np.zeros((Ks-1))\n",
    "\n",
    "for n in range(1,Ks):\n",
    "    \n",
    "    #Train Model and Predict  \n",
    "    neigh = KNeighborsClassifier(n_neighbors = n).fit(X_train,y_train)\n",
    "    yhat=neigh.predict(X_test)\n",
    "    mean_acc[n-1] = metrics.accuracy_score(y_test, yhat)\n",
    "\n",
    "    \n",
    "    std_acc[n-1]=np.std(yhat==y_test)/np.sqrt(yhat.shape[0])\n",
    "\n",
    "## Plotamos o resultado\n",
    "plt.plot(range(1,Ks),mean_acc,'g')\n",
    "plt.fill_between(range(1,Ks),mean_acc - 1 * std_acc,mean_acc + 1 * std_acc, alpha=0.10)\n",
    "plt.fill_between(range(1,Ks),mean_acc - 3 * std_acc,mean_acc + 3 * std_acc, alpha=0.10,color=\"green\")\n",
    "#plt.legend(('Acurácia ', '+/- 1xstd','+/- 3xstd'), loc='lower right')\n",
    "plt.ylabel('Acurácia ')\n",
    "plt.xlabel('Número de vizinhos (K)')\n",
    "plt.tight_layout()\n",
    "#plt.show()\n",
    "#plt.savefig(\"/tmp/accuracy-no-legend.png\",dpi=1200)\n",
    "\n",
    "## Imprime o melhor K\n",
    "print( \"The best accuracy was with\", mean_acc.max(), \"with k=\", mean_acc.argmax()+1) "
   ]
  },
  {
   "cell_type": "code",
   "execution_count": 102,
   "id": "0913126a",
   "metadata": {},
   "outputs": [
    {
     "name": "stdout",
     "output_type": "stream",
     "text": [
      "Matriz Confusa: \n",
      "[[ 265    1]\n",
      " [   0 4084]] \n",
      "\n",
      "Relatório de classificação: \n",
      "               precision    recall  f1-score   support\n",
      "\n",
      "           0       1.00      1.00      1.00       266\n",
      "           1       1.00      1.00      1.00      4084\n",
      "\n",
      "    accuracy                           1.00      4350\n",
      "   macro avg       1.00      1.00      1.00      4350\n",
      "weighted avg       1.00      1.00      1.00      4350\n",
      "\n",
      "Acurácia do modelo:  0.9997701149425288\n",
      "              precision    recall  f1-score   support\n",
      "\n",
      "           0       1.00      1.00      1.00       266\n",
      "           1       1.00      1.00      1.00      4084\n",
      "\n",
      "    accuracy                           1.00      4350\n",
      "   macro avg       1.00      1.00      1.00      4350\n",
      "weighted avg       1.00      1.00      1.00      4350\n",
      "\n",
      "Confusion matrix, without normalization\n",
      "[[ 265    1]\n",
      " [   0 4084]]\n"
     ]
    },
    {
     "data": {
      "image/png": "[encoded data removed]",
      "text/plain": [
       "<Figure size 432x288 with 2 Axes>"
      ]
     },
     "metadata": {
      "needs_background": "light"
     },
     "output_type": "display_data"
    }
   ],
   "source": [
    "## Treinando com o melhor K e desenhando a matriz confusao\n",
    "# Treinando o modelo KNN com o melhor parâmetro para K\n",
    "\n",
    "#classifier = KNeighborsClassifier(n_neighbors= mean_acc.argmax()+1)\n",
    "classifier = KNeighborsClassifier(n_neighbors = 9)\n",
    "classifier.fit(X_train, y_train)  \n",
    "\n",
    "# Aplicando os valores de teste novamente\n",
    "y_pred = classifier.predict(X_test) \n",
    "\n",
    "# Importando métricas para validação do modelo\n",
    "\n",
    "# Imprimindo a matriz confusa\n",
    "print(\"Matriz Confusa: \")\n",
    "print(confusion_matrix(y_test, y_pred), \"\\n\")  \n",
    "\n",
    "# Imprimindo o relatório de classificação\n",
    "print(\"Relatório de classificação: \\n\", classification_report(y_test, y_pred))  \n",
    "\n",
    "\n",
    "# Imprimindo o quão acurado foi o modelo\n",
    "print('Acurácia do modelo: ' , accuracy_score(y_test, y_pred))\n",
    "\n",
    "\n",
    "def plot_confusion_matrix(cm, classes,\n",
    "                          normalize=False,\n",
    "                          title='Confusion matrix',\n",
    "                          cmap=plt.cm.Blues):\n",
    "    \"\"\"\n",
    "    This function prints and plots the confusion matrix.\n",
    "    Normalization can be applied by setting `normalize=True`.\n",
    "    \"\"\"\n",
    "    if normalize:\n",
    "        cm = cm.astype('float') / cm.sum(axis=1)[:, np.newaxis]\n",
    "        print(\"Normalized confusion matrix\")\n",
    "    else:\n",
    "        print('Confusion matrix, without normalization')\n",
    "\n",
    "    print(cm)\n",
    "\n",
    "    plt.imshow(cm, interpolation='nearest', cmap=cmap)\n",
    "    plt.title(title)\n",
    "    plt.colorbar()\n",
    "    tick_marks = np.arange(len(classes))\n",
    "    plt.xticks(tick_marks, classes, rotation=45)\n",
    "    plt.yticks(tick_marks, classes)\n",
    "\n",
    "    fmt = '.2f' if normalize else 'd'\n",
    "    thresh = cm.max() / 2.\n",
    "    for i, j in itertools.product(range(cm.shape[0]), range(cm.shape[1])):\n",
    "        plt.text(j, i, format(cm[i, j], fmt),\n",
    "                 horizontalalignment=\"center\",\n",
    "                 color=\"white\" if cm[i, j] > thresh else \"black\")\n",
    "\n",
    "    plt.tight_layout()\n",
    "    plt.ylabel('True label')\n",
    "    plt.xlabel('Predicted label')\n",
    "    plt.savefig(\"/tmp/confusion.png\", dpi=300)\n",
    "    plt.show()\n",
    "\n",
    "# Compute confusion matrix\n",
    "cnf_matrix = confusion_matrix(y_test, y_pred, labels=[0,1])\n",
    "np.set_printoptions(precision=2)\n",
    "\n",
    "print (classification_report(y_test, y_pred))\n",
    "\n",
    "# Plot non-normalized confusion matrix\n",
    "plt.figure()\n",
    "plot_confusion_matrix(cnf_matrix, classes=['MMPs(0)','No MMPs(1)'],normalize=False,  title='Confusion matrix')\n"
   ]
  },
  {
   "cell_type": "code",
   "execution_count": 103,
   "id": "778efe64",
   "metadata": {},
   "outputs": [
    {
     "data": {
      "text/plain": [
       "['classifier_knn.model']"
      ]
     },
     "execution_count": 103,
     "metadata": {},
     "output_type": "execute_result"
    }
   ],
   "source": [
    "## Salvando o modelo gerado\n",
    "joblib.dump(classifier, \"classifier_knn.model\")"
   ]
  },
  {
   "cell_type": "code",
   "execution_count": 47,
   "id": "d9421d92",
   "metadata": {},
   "outputs": [],
   "source": [
    "# Recuperando\n",
    "classifier = joblib.load('classifier_knn.model')"
   ]
  },
  {
   "cell_type": "markdown",
   "id": "c73cab67",
   "metadata": {},
   "source": [
    "### SVM (Support Vector Machines)"
   ]
  },
  {
   "cell_type": "code",
   "execution_count": 2,
   "id": "db38053f",
   "metadata": {},
   "outputs": [
    {
     "data": {
      "text/html": [
       "<div>\n",
       "<style scoped>\n",
       "    .dataframe tbody tr th:only-of-type {\n",
       "        vertical-align: middle;\n",
       "    }\n",
       "\n",
       "    .dataframe tbody tr th {\n",
       "        vertical-align: top;\n",
       "    }\n",
       "\n",
       "    .dataframe thead th {\n",
       "        text-align: right;\n",
       "    }\n",
       "</style>\n",
       "<table border=\"1\" class=\"dataframe\">\n",
       "  <thead>\n",
       "    <tr style=\"text-align: right;\">\n",
       "      <th></th>\n",
       "      <th>0</th>\n",
       "      <th>1</th>\n",
       "      <th>2</th>\n",
       "      <th>3</th>\n",
       "      <th>4</th>\n",
       "      <th>5</th>\n",
       "      <th>6</th>\n",
       "      <th>7</th>\n",
       "      <th>8</th>\n",
       "      <th>9</th>\n",
       "      <th>...</th>\n",
       "      <th>71</th>\n",
       "      <th>72</th>\n",
       "      <th>73</th>\n",
       "      <th>74</th>\n",
       "      <th>75</th>\n",
       "      <th>76</th>\n",
       "      <th>77</th>\n",
       "      <th>78</th>\n",
       "      <th>79</th>\n",
       "      <th>80</th>\n",
       "    </tr>\n",
       "  </thead>\n",
       "  <tbody>\n",
       "    <tr>\n",
       "      <th>0</th>\n",
       "      <td>4429.13</td>\n",
       "      <td>131.57</td>\n",
       "      <td>-316.24</td>\n",
       "      <td>17.7</td>\n",
       "      <td>8909.00</td>\n",
       "      <td>7.00</td>\n",
       "      <td>-173.00</td>\n",
       "      <td>9.00</td>\n",
       "      <td>6820.84</td>\n",
       "      <td>-217.88</td>\n",
       "      <td>...</td>\n",
       "      <td>17.64</td>\n",
       "      <td>5057.8</td>\n",
       "      <td>138.32</td>\n",
       "      <td>42.94</td>\n",
       "      <td>89.68</td>\n",
       "      <td>7981.04</td>\n",
       "      <td>61.64</td>\n",
       "      <td>-140.03</td>\n",
       "      <td>-93.8</td>\n",
       "      <td>0</td>\n",
       "    </tr>\n",
       "    <tr>\n",
       "      <th>1</th>\n",
       "      <td>6305.88</td>\n",
       "      <td>187.32</td>\n",
       "      <td>-450.24</td>\n",
       "      <td>25.2</td>\n",
       "      <td>11759.88</td>\n",
       "      <td>9.24</td>\n",
       "      <td>-228.36</td>\n",
       "      <td>11.88</td>\n",
       "      <td>9575.41</td>\n",
       "      <td>-305.87</td>\n",
       "      <td>...</td>\n",
       "      <td>30.24</td>\n",
       "      <td>6788.1</td>\n",
       "      <td>185.64</td>\n",
       "      <td>57.63</td>\n",
       "      <td>120.36</td>\n",
       "      <td>10959.04</td>\n",
       "      <td>84.64</td>\n",
       "      <td>-192.28</td>\n",
       "      <td>-128.8</td>\n",
       "      <td>0</td>\n",
       "    </tr>\n",
       "    <tr>\n",
       "      <th>2</th>\n",
       "      <td>9984.31</td>\n",
       "      <td>296.59</td>\n",
       "      <td>-712.88</td>\n",
       "      <td>39.9</td>\n",
       "      <td>16748.92</td>\n",
       "      <td>13.16</td>\n",
       "      <td>-325.24</td>\n",
       "      <td>16.92</td>\n",
       "      <td>12723.49</td>\n",
       "      <td>-406.43</td>\n",
       "      <td>...</td>\n",
       "      <td>52.92</td>\n",
       "      <td>9583.2</td>\n",
       "      <td>262.08</td>\n",
       "      <td>81.36</td>\n",
       "      <td>169.92</td>\n",
       "      <td>18701.84</td>\n",
       "      <td>144.44</td>\n",
       "      <td>-328.13</td>\n",
       "      <td>-219.8</td>\n",
       "      <td>0</td>\n",
       "    </tr>\n",
       "    <tr>\n",
       "      <th>3</th>\n",
       "      <td>12611.76</td>\n",
       "      <td>374.64</td>\n",
       "      <td>-900.48</td>\n",
       "      <td>50.4</td>\n",
       "      <td>20847.06</td>\n",
       "      <td>16.38</td>\n",
       "      <td>-404.82</td>\n",
       "      <td>21.06</td>\n",
       "      <td>16133.91</td>\n",
       "      <td>-515.37</td>\n",
       "      <td>...</td>\n",
       "      <td>60.48</td>\n",
       "      <td>13310.0</td>\n",
       "      <td>364.00</td>\n",
       "      <td>113.00</td>\n",
       "      <td>236.00</td>\n",
       "      <td>22037.20</td>\n",
       "      <td>170.20</td>\n",
       "      <td>-386.65</td>\n",
       "      <td>-259.0</td>\n",
       "      <td>0</td>\n",
       "    </tr>\n",
       "    <tr>\n",
       "      <th>4</th>\n",
       "      <td>16064.98</td>\n",
       "      <td>477.22</td>\n",
       "      <td>-1147.04</td>\n",
       "      <td>64.2</td>\n",
       "      <td>24677.93</td>\n",
       "      <td>19.39</td>\n",
       "      <td>-479.21</td>\n",
       "      <td>24.93</td>\n",
       "      <td>20462.52</td>\n",
       "      <td>-653.64</td>\n",
       "      <td>...</td>\n",
       "      <td>69.72</td>\n",
       "      <td>17036.8</td>\n",
       "      <td>465.92</td>\n",
       "      <td>144.64</td>\n",
       "      <td>302.08</td>\n",
       "      <td>24776.96</td>\n",
       "      <td>191.36</td>\n",
       "      <td>-434.72</td>\n",
       "      <td>-291.2</td>\n",
       "      <td>0</td>\n",
       "    </tr>\n",
       "  </tbody>\n",
       "</table>\n",
       "<p>5 rows × 81 columns</p>\n",
       "</div>"
      ],
      "text/plain": [
       "         0       1        2     3         4      5       6      7         8   \\\n",
       "0   4429.13  131.57  -316.24  17.7   8909.00   7.00 -173.00   9.00   6820.84   \n",
       "1   6305.88  187.32  -450.24  25.2  11759.88   9.24 -228.36  11.88   9575.41   \n",
       "2   9984.31  296.59  -712.88  39.9  16748.92  13.16 -325.24  16.92  12723.49   \n",
       "3  12611.76  374.64  -900.48  50.4  20847.06  16.38 -404.82  21.06  16133.91   \n",
       "4  16064.98  477.22 -1147.04  64.2  24677.93  19.39 -479.21  24.93  20462.52   \n",
       "\n",
       "       9   ...     71       72      73      74      75        76      77  \\\n",
       "0 -217.88  ...  17.64   5057.8  138.32   42.94   89.68   7981.04   61.64   \n",
       "1 -305.87  ...  30.24   6788.1  185.64   57.63  120.36  10959.04   84.64   \n",
       "2 -406.43  ...  52.92   9583.2  262.08   81.36  169.92  18701.84  144.44   \n",
       "3 -515.37  ...  60.48  13310.0  364.00  113.00  236.00  22037.20  170.20   \n",
       "4 -653.64  ...  69.72  17036.8  465.92  144.64  302.08  24776.96  191.36   \n",
       "\n",
       "       78     79  80  \n",
       "0 -140.03  -93.8   0  \n",
       "1 -192.28 -128.8   0  \n",
       "2 -328.13 -219.8   0  \n",
       "3 -386.65 -259.0   0  \n",
       "4 -434.72 -291.2   0  \n",
       "\n",
       "[5 rows x 81 columns]"
      ]
     },
     "execution_count": 2,
     "metadata": {},
     "output_type": "execute_result"
    }
   ],
   "source": [
    "## Carregando os dados da matriz \n",
    "seqs_df = pd.read_csv(\"all.csv\", header=None)\n",
    "seqs_df.head()"
   ]
  },
  {
   "cell_type": "code",
   "execution_count": 3,
   "id": "a28b166a",
   "metadata": {},
   "outputs": [
    {
     "data": {
      "image/png": "[encoded data removed]",
      "text/plain": [
       "<Figure size 432x288 with 1 Axes>"
      ]
     },
     "metadata": {
      "needs_background": "light"
     },
     "output_type": "display_data"
    }
   ],
   "source": [
    "## Plotando o comportamento de uma amostra dos dados \n",
    "classCol = seqs_df.shape[1]-1\n",
    "\n",
    "ax = seqs_df[seqs_df[classCol] == 0][0:50].plot(kind='scatter', x=0, y=77, color='DarkBlue', label='MMPs');\n",
    "seqs_df[seqs_df[classCol] == 1][0:50].plot(kind='scatter', x=0, y=77, color='Yellow', label='No MMPs', ax=ax);\n",
    "plt.show()"
   ]
  },
  {
   "cell_type": "code",
   "execution_count": 4,
   "id": "1591a855",
   "metadata": {},
   "outputs": [
    {
     "data": {
      "text/plain": [
       "array([[ 4.42913e+03,  1.31570e+02, -3.16240e+02,  1.77000e+01,\n",
       "         8.90900e+03,  7.00000e+00, -1.73000e+02,  9.00000e+00,\n",
       "         6.82084e+03, -2.17880e+02, -5.35600e+01, -5.09600e+01,\n",
       "         1.04503e+03, -1.74300e+01, -1.89000e+00, -2.87000e+00,\n",
       "         4.79051e+03, -1.42680e+02,  3.77000e+01,  1.30500e+01,\n",
       "         1.22532e+03, -2.85000e+01,  2.19000e+01,  5.10000e+00,\n",
       "         1.75428e+03,  3.40800e+01,  1.69200e+01, -3.76800e+01,\n",
       "         2.77666e+03,  4.16100e+01,  1.00700e+01, -2.16600e+01,\n",
       "         2.20695e+03,  4.62000e+01,  5.85000e-01, -1.05000e+00,\n",
       "         4.62396e+03,  8.62400e+01, -7.17200e+01,  2.50800e+01,\n",
       "         4.02955e+03, -4.27000e+01,  3.08000e+01,  7.80500e+01,\n",
       "         4.80315e+03, -1.10290e+02, -1.03730e+02, -5.28900e+01,\n",
       "         3.80393e+03, -1.28760e+02, -4.87200e+01, -2.98700e+01,\n",
       "         0.00000e+00,  0.00000e+00, -0.00000e+00,  0.00000e+00,\n",
       "         4.52975e+03, -3.47500e+01,  5.80000e+01,  2.50000e-01,\n",
       "         1.24088e+03,  1.92800e+01,  1.39200e+01,  8.88000e+00,\n",
       "         4.18080e+03,  6.91200e+01,  6.04800e+01, -8.25600e+01,\n",
       "         2.77452e+03,  6.76200e+01,  3.04500e+01,  1.76400e+01,\n",
       "         5.05780e+03,  1.38320e+02,  4.29400e+01,  8.96800e+01,\n",
       "         7.98104e+03,  6.16400e+01, -1.40030e+02, -9.38000e+01]])"
      ]
     },
     "execution_count": 4,
     "metadata": {},
     "output_type": "execute_result"
    }
   ],
   "source": [
    "## Separando as colunas X e Y\n",
    "feature_df = seqs_df.iloc[:,0:80]\n",
    "X = np.asarray(feature_df)\n",
    "X[0:1]\n"
   ]
  },
  {
   "cell_type": "code",
   "execution_count": 5,
   "id": "fde4bbde",
   "metadata": {},
   "outputs": [
    {
     "data": {
      "text/plain": [
       "array([0, 0, 0, 0, 0])"
      ]
     },
     "execution_count": 5,
     "metadata": {},
     "output_type": "execute_result"
    }
   ],
   "source": [
    "y = np.asarray(seqs_df.iloc[:,80])\n",
    "y [0:5]"
   ]
  },
  {
   "cell_type": "code",
   "execution_count": 8,
   "id": "d6601433",
   "metadata": {},
   "outputs": [
    {
     "name": "stdout",
     "output_type": "stream",
     "text": [
      "Train set: (17398, 80) (17398,)\n",
      "Test set: (4350, 80) (4350,)\n"
     ]
    }
   ],
   "source": [
    "## Dividindo a base em treinamento (80%) e teste (20%)\n",
    "X_train, X_test, y_train, y_test = train_test_split( X, y, test_size=0.2, random_state=4)\n",
    "print ('Train set:', X_train.shape,  y_train.shape)\n",
    "print ('Test set:', X_test.shape,  y_test.shape)"
   ]
  },
  {
   "cell_type": "markdown",
   "id": "e40a8e47",
   "metadata": {},
   "source": [
    "#### Modeling (SVM with Scikit-learn)\n",
    "The SVM algorithm offers a choice of kernel functions for performing its processing. Basically, mapping data into a higher dimensional space is called kernelling. The mathematical function used for the transformation is known as the kernel function, and can be of different types, such as:\n",
    "\n",
    "```\n",
    "1.Linear\n",
    "2.Polynomial\n",
    "3.Radial basis function (RBF)\n",
    "4.Sigmoid\n",
    "```\n",
    "\n",
    "Each of these functions has its characteristics, its pros and cons, and its equation, but as there's no easy way of knowing which function performs best with any given dataset, we usually choose different functions in turn and compare the results. Let's just use the default, RBF (Radial Basis Function) for this lab.\n"
   ]
  },
  {
   "cell_type": "code",
   "execution_count": 12,
   "id": "8732cc61",
   "metadata": {},
   "outputs": [
    {
     "data": {
      "text/plain": [
       "array([1, 1, 1, 0, 1])"
      ]
     },
     "execution_count": 12,
     "metadata": {},
     "output_type": "execute_result"
    }
   ],
   "source": [
    "## Rodando com o algoritmo escolhido\n",
    "from sklearn import svm\n",
    "clf = svm.SVC(kernel='rbf')\n",
    "clf.fit(X_train, y_train) \n",
    "yhat = clf.predict(X_test)\n",
    "yhat [0:5]"
   ]
  },
  {
   "cell_type": "code",
   "execution_count": 13,
   "id": "f62fa9c1",
   "metadata": {},
   "outputs": [
    {
     "name": "stdout",
     "output_type": "stream",
     "text": [
      "              precision    recall  f1-score   support\n",
      "\n",
      "           0       0.69      0.95      0.80       266\n",
      "           1       1.00      0.97      0.98      4084\n",
      "\n",
      "    accuracy                           0.97      4350\n",
      "   macro avg       0.84      0.96      0.89      4350\n",
      "weighted avg       0.98      0.97      0.97      4350\n",
      "\n",
      "Confusion matrix, without normalization\n",
      "[[ 253   13]\n",
      " [ 115 3969]]\n"
     ]
    },
    {
     "data": {
      "image/png": "[encoded data removed]",
      "text/plain": [
       "<Figure size 432x288 with 2 Axes>"
      ]
     },
     "metadata": {
      "needs_background": "light"
     },
     "output_type": "display_data"
    }
   ],
   "source": [
    "## Gerando a matriz confusao\n",
    "from sklearn.metrics import classification_report, confusion_matrix\n",
    "import itertools\n",
    "\n",
    "def plot_confusion_matrix(cm, classes,\n",
    "                          normalize=False,\n",
    "                          title='Confusion matrix',\n",
    "                          cmap=plt.cm.Blues):\n",
    "    \"\"\"\n",
    "    This function prints and plots the confusion matrix.\n",
    "    Normalization can be applied by setting `normalize=True`.\n",
    "    \"\"\"\n",
    "    if normalize:\n",
    "        cm = cm.astype('float') / cm.sum(axis=1)[:, np.newaxis]\n",
    "        print(\"Normalized confusion matrix\")\n",
    "    else:\n",
    "        print('Confusion matrix, without normalization')\n",
    "\n",
    "    print(cm)\n",
    "\n",
    "    plt.imshow(cm, interpolation='nearest', cmap=cmap)\n",
    "    plt.title(title)\n",
    "    plt.colorbar()\n",
    "    tick_marks = np.arange(len(classes))\n",
    "    plt.xticks(tick_marks, classes, rotation=45)\n",
    "    plt.yticks(tick_marks, classes)\n",
    "\n",
    "    fmt = '.2f' if normalize else 'd'\n",
    "    thresh = cm.max() / 2.\n",
    "    for i, j in itertools.product(range(cm.shape[0]), range(cm.shape[1])):\n",
    "        plt.text(j, i, format(cm[i, j], fmt),\n",
    "                 horizontalalignment=\"center\",\n",
    "                 color=\"white\" if cm[i, j] > thresh else \"black\")\n",
    "\n",
    "    plt.tight_layout()\n",
    "    plt.ylabel('True label')\n",
    "    plt.xlabel('Predicted label')\n",
    "\n",
    "# Compute confusion matrix\n",
    "cnf_matrix = confusion_matrix(y_test, yhat, labels=[0,1])\n",
    "np.set_printoptions(precision=2)\n",
    "\n",
    "print (classification_report(y_test, yhat))\n",
    "\n",
    "# Plot non-normalized confusion matrix\n",
    "plt.figure()\n",
    "plot_confusion_matrix(cnf_matrix, classes=['MMPs(0)','No MMPs(1)'],normalize= False,  title='Confusion matrix')"
   ]
  },
  {
   "cell_type": "code",
   "execution_count": 14,
   "id": "a1098db7",
   "metadata": {},
   "outputs": [
    {
     "data": {
      "text/plain": [
       "['classifier_svm.model']"
      ]
     },
     "execution_count": 14,
     "metadata": {},
     "output_type": "execute_result"
    }
   ],
   "source": [
    "## Salvando o modelo gerado\n",
    "import joblib\n",
    "joblib.dump(clf, \"classifier_svm.model\")"
   ]
  },
  {
   "cell_type": "code",
   "execution_count": 15,
   "id": "4d6601dc",
   "metadata": {},
   "outputs": [],
   "source": [
    "# Recuperando\n",
    "classifier = joblib.load('classifier_svm.model')"
   ]
  },
  {
   "cell_type": "markdown",
   "id": "bde49da2",
   "metadata": {},
   "source": [
    "### Aplicando no mundo real"
   ]
  },
  {
   "cell_type": "code",
   "execution_count": 104,
   "id": "ae12991f",
   "metadata": {},
   "outputs": [],
   "source": [
    "## Convertendo o arquivo em matriz\n",
    "!python ../Scripts/sequence2matrix_2.py ../Data/real.fasta 0 > ./proteoma_humano.csv"
   ]
  },
  {
   "cell_type": "code",
   "execution_count": 105,
   "id": "a3d3d576",
   "metadata": {},
   "outputs": [
    {
     "data": {
      "text/html": [
       "<div>\n",
       "<style scoped>\n",
       "    .dataframe tbody tr th:only-of-type {\n",
       "        vertical-align: middle;\n",
       "    }\n",
       "\n",
       "    .dataframe tbody tr th {\n",
       "        vertical-align: top;\n",
       "    }\n",
       "\n",
       "    .dataframe thead th {\n",
       "        text-align: right;\n",
       "    }\n",
       "</style>\n",
       "<table border=\"1\" class=\"dataframe\">\n",
       "  <thead>\n",
       "    <tr style=\"text-align: right;\">\n",
       "      <th></th>\n",
       "      <th>0</th>\n",
       "      <th>1</th>\n",
       "      <th>2</th>\n",
       "      <th>3</th>\n",
       "      <th>4</th>\n",
       "      <th>5</th>\n",
       "      <th>6</th>\n",
       "      <th>7</th>\n",
       "      <th>8</th>\n",
       "      <th>9</th>\n",
       "      <th>...</th>\n",
       "      <th>70</th>\n",
       "      <th>71</th>\n",
       "      <th>72</th>\n",
       "      <th>73</th>\n",
       "      <th>74</th>\n",
       "      <th>75</th>\n",
       "      <th>76</th>\n",
       "      <th>77</th>\n",
       "      <th>78</th>\n",
       "      <th>79</th>\n",
       "    </tr>\n",
       "  </thead>\n",
       "  <tbody>\n",
       "    <tr>\n",
       "      <th>0</th>\n",
       "      <td>7.019223</td>\n",
       "      <td>0.208510</td>\n",
       "      <td>-0.501173</td>\n",
       "      <td>0.028051</td>\n",
       "      <td>14.118859</td>\n",
       "      <td>0.011094</td>\n",
       "      <td>-0.274168</td>\n",
       "      <td>0.014263</td>\n",
       "      <td>10.809572</td>\n",
       "      <td>-0.345293</td>\n",
       "      <td>...</td>\n",
       "      <td>0.048257</td>\n",
       "      <td>0.027956</td>\n",
       "      <td>8.015531</td>\n",
       "      <td>0.219208</td>\n",
       "      <td>0.068051</td>\n",
       "      <td>0.142124</td>\n",
       "      <td>12.648241</td>\n",
       "      <td>0.097686</td>\n",
       "      <td>-0.221918</td>\n",
       "      <td>-0.148653</td>\n",
       "    </tr>\n",
       "    <tr>\n",
       "      <th>1</th>\n",
       "      <td>22.847391</td>\n",
       "      <td>0.678696</td>\n",
       "      <td>-1.631304</td>\n",
       "      <td>0.091304</td>\n",
       "      <td>42.608261</td>\n",
       "      <td>0.033478</td>\n",
       "      <td>-0.827391</td>\n",
       "      <td>0.043043</td>\n",
       "      <td>34.693514</td>\n",
       "      <td>-1.108225</td>\n",
       "      <td>...</td>\n",
       "      <td>0.189130</td>\n",
       "      <td>0.109565</td>\n",
       "      <td>24.594565</td>\n",
       "      <td>0.672609</td>\n",
       "      <td>0.208804</td>\n",
       "      <td>0.436087</td>\n",
       "      <td>39.706667</td>\n",
       "      <td>0.306667</td>\n",
       "      <td>-0.696667</td>\n",
       "      <td>-0.466667</td>\n",
       "    </tr>\n",
       "    <tr>\n",
       "      <th>2</th>\n",
       "      <td>20.417812</td>\n",
       "      <td>0.606524</td>\n",
       "      <td>-1.457832</td>\n",
       "      <td>0.081595</td>\n",
       "      <td>34.251370</td>\n",
       "      <td>0.026912</td>\n",
       "      <td>-0.665112</td>\n",
       "      <td>0.034601</td>\n",
       "      <td>26.019407</td>\n",
       "      <td>-0.831145</td>\n",
       "      <td>...</td>\n",
       "      <td>0.186810</td>\n",
       "      <td>0.108221</td>\n",
       "      <td>19.597546</td>\n",
       "      <td>0.535951</td>\n",
       "      <td>0.166380</td>\n",
       "      <td>0.347485</td>\n",
       "      <td>38.245072</td>\n",
       "      <td>0.295378</td>\n",
       "      <td>-0.671022</td>\n",
       "      <td>-0.449489</td>\n",
       "    </tr>\n",
       "    <tr>\n",
       "      <th>3</th>\n",
       "      <td>37.093412</td>\n",
       "      <td>1.101882</td>\n",
       "      <td>-2.648471</td>\n",
       "      <td>0.148235</td>\n",
       "      <td>61.314882</td>\n",
       "      <td>0.048176</td>\n",
       "      <td>-1.190647</td>\n",
       "      <td>0.061941</td>\n",
       "      <td>47.452676</td>\n",
       "      <td>-1.515794</td>\n",
       "      <td>...</td>\n",
       "      <td>0.307059</td>\n",
       "      <td>0.177882</td>\n",
       "      <td>39.147059</td>\n",
       "      <td>1.070588</td>\n",
       "      <td>0.332353</td>\n",
       "      <td>0.694118</td>\n",
       "      <td>64.815294</td>\n",
       "      <td>0.500588</td>\n",
       "      <td>-1.137206</td>\n",
       "      <td>-0.761765</td>\n",
       "    </tr>\n",
       "    <tr>\n",
       "      <th>4</th>\n",
       "      <td>40.568131</td>\n",
       "      <td>1.205101</td>\n",
       "      <td>-2.896566</td>\n",
       "      <td>0.162121</td>\n",
       "      <td>62.318005</td>\n",
       "      <td>0.048965</td>\n",
       "      <td>-1.210126</td>\n",
       "      <td>0.062955</td>\n",
       "      <td>51.673030</td>\n",
       "      <td>-1.650606</td>\n",
       "      <td>...</td>\n",
       "      <td>0.303914</td>\n",
       "      <td>0.176061</td>\n",
       "      <td>43.022222</td>\n",
       "      <td>1.176566</td>\n",
       "      <td>0.365253</td>\n",
       "      <td>0.762828</td>\n",
       "      <td>62.568081</td>\n",
       "      <td>0.483232</td>\n",
       "      <td>-1.097778</td>\n",
       "      <td>-0.735354</td>\n",
       "    </tr>\n",
       "  </tbody>\n",
       "</table>\n",
       "<p>5 rows × 80 columns</p>\n",
       "</div>"
      ],
      "text/plain": [
       "          0         1         2         3          4         5         6   \\\n",
       "0   7.019223  0.208510 -0.501173  0.028051  14.118859  0.011094 -0.274168   \n",
       "1  22.847391  0.678696 -1.631304  0.091304  42.608261  0.033478 -0.827391   \n",
       "2  20.417812  0.606524 -1.457832  0.081595  34.251370  0.026912 -0.665112   \n",
       "3  37.093412  1.101882 -2.648471  0.148235  61.314882  0.048176 -1.190647   \n",
       "4  40.568131  1.205101 -2.896566  0.162121  62.318005  0.048965 -1.210126   \n",
       "\n",
       "         7          8         9   ...        70        71         72  \\\n",
       "0  0.014263  10.809572 -0.345293  ...  0.048257  0.027956   8.015531   \n",
       "1  0.043043  34.693514 -1.108225  ...  0.189130  0.109565  24.594565   \n",
       "2  0.034601  26.019407 -0.831145  ...  0.186810  0.108221  19.597546   \n",
       "3  0.061941  47.452676 -1.515794  ...  0.307059  0.177882  39.147059   \n",
       "4  0.062955  51.673030 -1.650606  ...  0.303914  0.176061  43.022222   \n",
       "\n",
       "         73        74        75         76        77        78        79  \n",
       "0  0.219208  0.068051  0.142124  12.648241  0.097686 -0.221918 -0.148653  \n",
       "1  0.672609  0.208804  0.436087  39.706667  0.306667 -0.696667 -0.466667  \n",
       "2  0.535951  0.166380  0.347485  38.245072  0.295378 -0.671022 -0.449489  \n",
       "3  1.070588  0.332353  0.694118  64.815294  0.500588 -1.137206 -0.761765  \n",
       "4  1.176566  0.365253  0.762828  62.568081  0.483232 -1.097778 -0.735354  \n",
       "\n",
       "[5 rows x 80 columns]"
      ]
     },
     "execution_count": 105,
     "metadata": {},
     "output_type": "execute_result"
    }
   ],
   "source": [
    "real = pd.read_csv(\"proteoma_humano.csv\", header=None)\n",
    "real.head()"
   ]
  },
  {
   "cell_type": "code",
   "execution_count": 106,
   "id": "8696da63",
   "metadata": {},
   "outputs": [
    {
     "data": {
      "text/plain": [
       "array([[ 7.02e+00,  2.09e-01, -5.01e-01,  2.81e-02,  1.41e+01,  1.11e-02,\n",
       "        -2.74e-01,  1.43e-02,  1.08e+01, -3.45e-01, -8.49e-02, -8.08e-02,\n",
       "         1.66e+00, -2.76e-02, -3.00e-03, -4.55e-03,  7.59e+00, -2.26e-01,\n",
       "         5.97e-02,  2.07e-02,  1.94e+00, -4.52e-02,  3.47e-02,  8.08e-03,\n",
       "         2.78e+00,  5.40e-02,  2.68e-02, -5.97e-02,  4.40e+00,  6.59e-02,\n",
       "         1.60e-02, -3.43e-02,  3.50e+00,  7.32e-02,  9.27e-04, -1.66e-03,\n",
       "         7.33e+00,  1.37e-01, -1.14e-01,  3.97e-02,  6.39e+00, -6.77e-02,\n",
       "         4.88e-02,  1.24e-01,  7.61e+00, -1.75e-01, -1.64e-01, -8.38e-02,\n",
       "         6.03e+00, -2.04e-01, -7.72e-02, -4.73e-02,  0.00e+00,  0.00e+00,\n",
       "        -0.00e+00,  0.00e+00,  7.18e+00, -5.51e-02,  9.19e-02,  3.96e-04,\n",
       "         1.97e+00,  3.06e-02,  2.21e-02,  1.41e-02,  6.63e+00,  1.10e-01,\n",
       "         9.58e-02, -1.31e-01,  4.40e+00,  1.07e-01,  4.83e-02,  2.80e-02,\n",
       "         8.02e+00,  2.19e-01,  6.81e-02,  1.42e-01,  1.26e+01,  9.77e-02,\n",
       "        -2.22e-01, -1.49e-01]])"
      ]
     },
     "execution_count": 106,
     "metadata": {},
     "output_type": "execute_result"
    }
   ],
   "source": [
    "#X_real = real.drop(0, axis=1).values\n",
    "X_real = np.asarray(real)\n",
    "X_real[0:1]"
   ]
  },
  {
   "cell_type": "code",
   "execution_count": 18,
   "id": "0963628d",
   "metadata": {},
   "outputs": [
    {
     "data": {
      "text/plain": [
       "array([[-1.74, -1.74,  1.74, -1.74, -1.7 , -1.7 ,  1.7 , -1.7 , -1.67,\n",
       "         1.67,  1.67,  1.67, -1.69,  1.69,  1.69,  1.69, -1.83,  1.83,\n",
       "        -1.83, -1.83, -1.8 ,  1.8 , -1.8 , -1.8 , -1.69, -1.69, -1.69,\n",
       "         1.69, -1.68, -1.68, -1.68,  1.68, -1.66, -1.66, -1.66,  1.66,\n",
       "        -1.67, -1.67,  1.67, -1.67, -1.71,  1.71, -1.71, -1.71, -1.69,\n",
       "         1.69,  1.69,  1.69, -1.71,  1.71,  1.71,  1.71, -1.65, -1.65,\n",
       "         1.65, -1.65, -1.81,  1.81, -1.81, -1.81, -1.71, -1.71, -1.71,\n",
       "        -1.71, -1.68, -1.68, -1.68,  1.68, -1.75, -1.75, -1.75, -1.75,\n",
       "        -1.78, -1.78, -1.78, -1.78, -1.71, -1.71,  1.71,  1.71]])"
      ]
     },
     "execution_count": 18,
     "metadata": {},
     "output_type": "execute_result"
    }
   ],
   "source": [
    "## Normalizando os dados\n",
    "#X_real = preprocessing.StandardScaler().fit(X_real).transform(X_real.astype(float))\n",
    "#X_real[0:1]"
   ]
  },
  {
   "cell_type": "code",
   "execution_count": 107,
   "id": "75755493",
   "metadata": {},
   "outputs": [
    {
     "data": {
      "text/plain": [
       "array([0, 0, 0, ..., 1, 1, 1])"
      ]
     },
     "execution_count": 107,
     "metadata": {},
     "output_type": "execute_result"
    }
   ],
   "source": [
    "# Aplicando os valores de teste novamente\n",
    "y_pred_real = classifier.predict(X_real) \n",
    "y_pred_real"
   ]
  },
  {
   "cell_type": "code",
   "execution_count": 108,
   "id": "c541e6c0",
   "metadata": {},
   "outputs": [],
   "source": [
    "file = open('preditos.txt', 'w')\n",
    "for i in y_pred_real:\n",
    "    file.write(str(i))\n",
    "    file.write('\\n')\n",
    "file.close()"
   ]
  },
  {
   "cell_type": "markdown",
   "id": "6610c7fc",
   "metadata": {},
   "source": [
    "# Artigo Beiji"
   ]
  },
  {
   "cell_type": "code",
   "execution_count": 109,
   "id": "0426fb99",
   "metadata": {},
   "outputs": [],
   "source": [
    "# Transformando os fastas em csv\n",
    "!python ../Scripts/sequence2matrix_2.py /opt/working/MMPs/Metodologia/Data/artigo_Beigi/mmps.fasta 0 > ./mmps.csv\n",
    "!python ../Scripts/sequence2matrix_2.py /opt/working/MMPs/Metodologia/Data/artigo_Beigi/adams.fasta 1 > ./adams.csv\n",
    "!python ../Scripts/sequence2matrix_2.py /opt/working/MMPs/Metodologia/Data/artigo_Beigi/negative.fasta 2 > ./negative.csv"
   ]
  },
  {
   "cell_type": "code",
   "execution_count": 7,
   "id": "f0d82789",
   "metadata": {},
   "outputs": [],
   "source": [
    "# Recuperando o modelo saldo do KNN\n",
    "classifier = joblib.load('classifier_knn.model')"
   ]
  },
  {
   "cell_type": "code",
   "execution_count": 116,
   "id": "285a95d0",
   "metadata": {},
   "outputs": [
    {
     "data": {
      "text/html": [
       "<div>\n",
       "<style scoped>\n",
       "    .dataframe tbody tr th:only-of-type {\n",
       "        vertical-align: middle;\n",
       "    }\n",
       "\n",
       "    .dataframe tbody tr th {\n",
       "        vertical-align: top;\n",
       "    }\n",
       "\n",
       "    .dataframe thead th {\n",
       "        text-align: right;\n",
       "    }\n",
       "</style>\n",
       "<table border=\"1\" class=\"dataframe\">\n",
       "  <thead>\n",
       "    <tr style=\"text-align: right;\">\n",
       "      <th></th>\n",
       "      <th>0</th>\n",
       "      <th>1</th>\n",
       "      <th>2</th>\n",
       "      <th>3</th>\n",
       "      <th>4</th>\n",
       "      <th>5</th>\n",
       "      <th>6</th>\n",
       "      <th>7</th>\n",
       "      <th>8</th>\n",
       "      <th>9</th>\n",
       "      <th>...</th>\n",
       "      <th>70</th>\n",
       "      <th>71</th>\n",
       "      <th>72</th>\n",
       "      <th>73</th>\n",
       "      <th>74</th>\n",
       "      <th>75</th>\n",
       "      <th>76</th>\n",
       "      <th>77</th>\n",
       "      <th>78</th>\n",
       "      <th>79</th>\n",
       "    </tr>\n",
       "  </thead>\n",
       "  <tbody>\n",
       "    <tr>\n",
       "      <th>0</th>\n",
       "      <td>4.628981</td>\n",
       "      <td>0.137507</td>\n",
       "      <td>-0.330509</td>\n",
       "      <td>0.018499</td>\n",
       "      <td>5.493485</td>\n",
       "      <td>0.004316</td>\n",
       "      <td>-0.106676</td>\n",
       "      <td>0.005550</td>\n",
       "      <td>14.769812</td>\n",
       "      <td>-0.471796</td>\n",
       "      <td>...</td>\n",
       "      <td>0.073861</td>\n",
       "      <td>0.042788</td>\n",
       "      <td>4.282038</td>\n",
       "      <td>0.117105</td>\n",
       "      <td>0.036354</td>\n",
       "      <td>0.075925</td>\n",
       "      <td>6.387131</td>\n",
       "      <td>0.049330</td>\n",
       "      <td>-0.112064</td>\n",
       "      <td>-0.075067</td>\n",
       "    </tr>\n",
       "    <tr>\n",
       "      <th>1</th>\n",
       "      <td>9.763439</td>\n",
       "      <td>0.290029</td>\n",
       "      <td>-0.697110</td>\n",
       "      <td>0.039017</td>\n",
       "      <td>11.844335</td>\n",
       "      <td>0.009306</td>\n",
       "      <td>-0.230000</td>\n",
       "      <td>0.011965</td>\n",
       "      <td>25.779075</td>\n",
       "      <td>-0.823468</td>\n",
       "      <td>...</td>\n",
       "      <td>0.171821</td>\n",
       "      <td>0.099538</td>\n",
       "      <td>12.694509</td>\n",
       "      <td>0.347168</td>\n",
       "      <td>0.107775</td>\n",
       "      <td>0.225087</td>\n",
       "      <td>12.393988</td>\n",
       "      <td>0.095723</td>\n",
       "      <td>-0.217457</td>\n",
       "      <td>-0.145665</td>\n",
       "    </tr>\n",
       "    <tr>\n",
       "      <th>2</th>\n",
       "      <td>9.971501</td>\n",
       "      <td>0.296210</td>\n",
       "      <td>-0.711965</td>\n",
       "      <td>0.039849</td>\n",
       "      <td>10.967883</td>\n",
       "      <td>0.008618</td>\n",
       "      <td>-0.212981</td>\n",
       "      <td>0.011080</td>\n",
       "      <td>23.939233</td>\n",
       "      <td>-0.764698</td>\n",
       "      <td>...</td>\n",
       "      <td>0.114309</td>\n",
       "      <td>0.066220</td>\n",
       "      <td>11.355184</td>\n",
       "      <td>0.310540</td>\n",
       "      <td>0.096404</td>\n",
       "      <td>0.201339</td>\n",
       "      <td>10.548423</td>\n",
       "      <td>0.081469</td>\n",
       "      <td>-0.185076</td>\n",
       "      <td>-0.123974</td>\n",
       "    </tr>\n",
       "    <tr>\n",
       "      <th>3</th>\n",
       "      <td>32.568831</td>\n",
       "      <td>0.967477</td>\n",
       "      <td>-2.325415</td>\n",
       "      <td>0.130154</td>\n",
       "      <td>39.199600</td>\n",
       "      <td>0.030800</td>\n",
       "      <td>-0.761200</td>\n",
       "      <td>0.039600</td>\n",
       "      <td>83.141600</td>\n",
       "      <td>-2.655815</td>\n",
       "      <td>...</td>\n",
       "      <td>0.379231</td>\n",
       "      <td>0.219692</td>\n",
       "      <td>39.315692</td>\n",
       "      <td>1.075200</td>\n",
       "      <td>0.333785</td>\n",
       "      <td>0.697108</td>\n",
       "      <td>34.453169</td>\n",
       "      <td>0.266092</td>\n",
       "      <td>-0.604492</td>\n",
       "      <td>-0.404923</td>\n",
       "    </tr>\n",
       "    <tr>\n",
       "      <th>4</th>\n",
       "      <td>36.256718</td>\n",
       "      <td>1.077028</td>\n",
       "      <td>-2.588731</td>\n",
       "      <td>0.144892</td>\n",
       "      <td>45.786192</td>\n",
       "      <td>0.035975</td>\n",
       "      <td>-0.889102</td>\n",
       "      <td>0.046254</td>\n",
       "      <td>98.275975</td>\n",
       "      <td>-3.139257</td>\n",
       "      <td>...</td>\n",
       "      <td>0.457895</td>\n",
       "      <td>0.265263</td>\n",
       "      <td>46.976471</td>\n",
       "      <td>1.284706</td>\n",
       "      <td>0.398824</td>\n",
       "      <td>0.832941</td>\n",
       "      <td>37.616842</td>\n",
       "      <td>0.290526</td>\n",
       "      <td>-0.660000</td>\n",
       "      <td>-0.442105</td>\n",
       "    </tr>\n",
       "  </tbody>\n",
       "</table>\n",
       "<p>5 rows × 80 columns</p>\n",
       "</div>"
      ],
      "text/plain": [
       "          0         1         2         3          4         5         6   \\\n",
       "0   4.628981  0.137507 -0.330509  0.018499   5.493485  0.004316 -0.106676   \n",
       "1   9.763439  0.290029 -0.697110  0.039017  11.844335  0.009306 -0.230000   \n",
       "2   9.971501  0.296210 -0.711965  0.039849  10.967883  0.008618 -0.212981   \n",
       "3  32.568831  0.967477 -2.325415  0.130154  39.199600  0.030800 -0.761200   \n",
       "4  36.256718  1.077028 -2.588731  0.144892  45.786192  0.035975 -0.889102   \n",
       "\n",
       "         7          8         9   ...        70        71         72  \\\n",
       "0  0.005550  14.769812 -0.471796  ...  0.073861  0.042788   4.282038   \n",
       "1  0.011965  25.779075 -0.823468  ...  0.171821  0.099538  12.694509   \n",
       "2  0.011080  23.939233 -0.764698  ...  0.114309  0.066220  11.355184   \n",
       "3  0.039600  83.141600 -2.655815  ...  0.379231  0.219692  39.315692   \n",
       "4  0.046254  98.275975 -3.139257  ...  0.457895  0.265263  46.976471   \n",
       "\n",
       "         73        74        75         76        77        78        79  \n",
       "0  0.117105  0.036354  0.075925   6.387131  0.049330 -0.112064 -0.075067  \n",
       "1  0.347168  0.107775  0.225087  12.393988  0.095723 -0.217457 -0.145665  \n",
       "2  0.310540  0.096404  0.201339  10.548423  0.081469 -0.185076 -0.123974  \n",
       "3  1.075200  0.333785  0.697108  34.453169  0.266092 -0.604492 -0.404923  \n",
       "4  1.284706  0.398824  0.832941  37.616842  0.290526 -0.660000 -0.442105  \n",
       "\n",
       "[5 rows x 80 columns]"
      ]
     },
     "execution_count": 116,
     "metadata": {},
     "output_type": "execute_result"
    }
   ],
   "source": [
    "# Lendo o csv\n",
    "real = pd.read_csv(\"negative.csv\", header=None)\n",
    "real.head()"
   ]
  },
  {
   "cell_type": "code",
   "execution_count": 117,
   "id": "13fd06cd",
   "metadata": {},
   "outputs": [
    {
     "data": {
      "text/plain": [
       "array([[ 4.63e+00,  1.38e-01, -3.31e-01,  1.85e-02,  5.49e+00,  4.32e-03,\n",
       "        -1.07e-01,  5.55e-03,  1.48e+01, -4.72e-01, -1.16e-01, -1.10e-01,\n",
       "         1.60e+00, -2.67e-02, -2.90e-03, -4.40e-03,  7.09e+00, -2.11e-01,\n",
       "         5.58e-02,  1.93e-02,  4.38e+00, -1.02e-01,  7.83e-02,  1.82e-02,\n",
       "         1.02e+01,  1.98e-01,  9.83e-02, -2.19e-01,  4.70e+00,  7.05e-02,\n",
       "         1.71e-02, -3.67e-02,  9.86e+00,  2.06e-01,  2.61e-03, -4.69e-03,\n",
       "         8.17e+00,  1.52e-01, -1.27e-01,  4.43e-02,  5.56e+00, -5.89e-02,\n",
       "         4.25e-02,  1.08e-01,  8.17e+00, -1.88e-01, -1.76e-01, -8.99e-02,\n",
       "         8.09e+00, -2.74e-01, -1.04e-01, -6.35e-02,  1.62e+00,  9.52e-03,\n",
       "        -1.30e-02,  5.54e-02,  8.26e+00, -6.34e-02,  1.06e-01,  4.56e-04,\n",
       "         3.33e+00,  5.17e-02,  3.73e-02,  2.38e-02,  7.94e+00,  1.31e-01,\n",
       "         1.15e-01, -1.57e-01,  6.73e+00,  1.64e-01,  7.39e-02,  4.28e-02,\n",
       "         4.28e+00,  1.17e-01,  3.64e-02,  7.59e-02,  6.39e+00,  4.93e-02,\n",
       "        -1.12e-01, -7.51e-02]])"
      ]
     },
     "execution_count": 117,
     "metadata": {},
     "output_type": "execute_result"
    }
   ],
   "source": [
    "# Separando as variaveis independentes\n",
    "X_real = np.asarray(real)\n",
    "X_real[0:1]"
   ]
  },
  {
   "cell_type": "code",
   "execution_count": 87,
   "id": "45f9fdb4",
   "metadata": {},
   "outputs": [
    {
     "data": {
      "text/plain": [
       "array([[-1.68, -1.68,  1.68, -1.68, -1.64, -1.64,  1.64, -1.64, -1.65,\n",
       "         1.65,  1.65,  1.65, -1.63,  1.63,  1.63,  1.63, -1.68,  1.68,\n",
       "        -1.68, -1.68, -1.6 ,  1.6 , -1.6 , -1.6 , -1.66, -1.66, -1.66,\n",
       "         1.66, -1.65, -1.65, -1.65,  1.65, -1.64, -1.64, -1.64,  1.64,\n",
       "        -1.6 , -1.6 ,  1.6 , -1.6 , -1.63,  1.63, -1.63, -1.63, -1.66,\n",
       "         1.66,  1.66,  1.66, -1.66,  1.66,  1.66,  1.66, -1.59, -1.59,\n",
       "         1.59, -1.59, -1.65,  1.65, -1.65, -1.65, -1.63, -1.63, -1.63,\n",
       "        -1.63, -1.62, -1.62, -1.62,  1.62, -1.67, -1.67, -1.67, -1.67,\n",
       "        -1.65, -1.65, -1.65, -1.65, -1.6 , -1.6 ,  1.6 ,  1.6 ]])"
      ]
     },
     "execution_count": 87,
     "metadata": {},
     "output_type": "execute_result"
    }
   ],
   "source": [
    "## Normalizando os dados\n",
    "#X_real = preprocessing.StandardScaler().fit(X_real).transform(X_real.astype(float))\n",
    "#X_real[0:1]"
   ]
  },
  {
   "cell_type": "code",
   "execution_count": 118,
   "id": "9c654a02",
   "metadata": {},
   "outputs": [
    {
     "data": {
      "text/plain": [
       "array([0, 0, 0, 1, 1, 0, 0, 0, 0, 1, 1, 0, 1, 1, 1, 1, 1, 1, 1, 1, 1, 1,\n",
       "       1, 1, 1, 1, 1, 1, 1, 1, 1, 1, 1, 1, 1, 1, 1, 1, 1, 1, 1, 1, 1, 1,\n",
       "       1, 1, 1, 1, 1, 1, 1, 1, 1, 1, 1, 1, 1, 1, 1, 1, 1, 1, 1, 1, 1, 1,\n",
       "       1, 1, 1, 1, 1, 1, 1, 1, 1, 1, 1, 1, 1, 1, 1, 1, 1, 1, 1, 1, 1, 1,\n",
       "       1, 1, 1, 1, 1, 1, 1, 1, 1, 1, 1, 1, 1, 1, 1, 1, 1, 1, 1, 1, 1, 1,\n",
       "       1, 1, 1, 1, 1, 1, 1, 1, 1, 1, 1, 1, 1, 1, 1, 1, 1, 1, 1, 1, 1, 1,\n",
       "       1, 1, 1, 1, 1, 1, 1, 1, 1, 1, 1, 1, 1, 1, 1, 1, 1, 1, 1, 1, 1, 1,\n",
       "       1, 1, 1, 1, 1, 1, 1, 1, 1, 1, 1, 1, 1, 1, 1, 1, 1, 1, 1, 1, 1, 1,\n",
       "       1, 1, 1, 1, 1, 1, 1, 1, 1, 1, 1, 1, 1, 1, 1, 1, 1, 1, 1, 1, 1, 1,\n",
       "       1, 1, 1, 1, 1, 1, 1, 1, 1, 1, 1, 1, 1, 1, 1, 1, 1, 1, 1, 1, 1, 1,\n",
       "       1, 1, 1, 1, 1, 1, 1, 1, 1, 1, 1, 1, 1, 1, 1, 1, 1, 1, 1, 1, 1, 1,\n",
       "       1, 1, 1, 1, 1, 1, 1, 1, 1, 1, 1, 1, 1, 1, 1, 1, 1, 1, 1, 1, 1, 1,\n",
       "       1, 1, 1, 1, 1, 1, 1, 1, 1, 1, 1, 1, 1, 1, 1, 1, 1, 1, 1, 1, 1, 1,\n",
       "       1, 1, 1, 1, 1, 1, 1, 1, 1, 1, 1, 1, 1, 1, 1, 1, 1, 1, 1, 1, 1, 1,\n",
       "       1, 1, 1, 1, 1, 1, 1, 1, 1, 1, 1, 1, 1, 1, 1, 1, 1, 1, 1, 1, 1, 1,\n",
       "       1, 1, 1, 1, 1, 1, 1, 1, 1, 1, 1, 1, 1, 1, 1, 1, 1, 1, 1, 1, 1, 1,\n",
       "       1, 1, 1, 1, 1, 1, 1, 1, 1, 1, 1, 1, 1, 1, 1, 1, 1, 1, 1, 1, 1, 1,\n",
       "       1, 1, 1, 1, 1, 1, 1, 1, 1, 1, 1, 1])"
      ]
     },
     "execution_count": 118,
     "metadata": {},
     "output_type": "execute_result"
    }
   ],
   "source": [
    "# Aplicando os valores de teste novamente\n",
    "y_pred_real = classifier.predict(X_real) \n",
    "y_pred_real"
   ]
  }
 ],
 "metadata": {
  "kernelspec": {
   "display_name": "Python 3 (ipykernel)",
   "language": "python",
   "name": "python3"
  },
  "language_info": {
   "codemirror_mode": {
    "name": "ipython",
    "version": 3
   },
   "file_extension": ".py",
   "mimetype": "text/x-python",
   "name": "python",
   "nbconvert_exporter": "python",
   "pygments_lexer": "ipython3",
   "version": "3.9.1"
  }
 },
 "nbformat": 4,
 "nbformat_minor": 5
}
