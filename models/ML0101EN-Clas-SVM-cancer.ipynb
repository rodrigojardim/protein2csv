{
 "cells": [
  {
   "cell_type": "markdown",
   "metadata": {},
   "source": [
    "# <center>\n",
    "    <img src=\"https://cf-courses-data.s3.us.cloud-object-storage.appdomain.cloud/IBMDeveloperSkillsNetwork-ML0101EN-SkillsNetwork/labs/Module%203/images/IDSNlogo.png\" width=\"300\" alt=\"cognitiveclass.ai logo\"  />\n",
    "</center>\n",
    "\n",
    "# SVM (Support Vector Machines)\n",
    "\n",
    "Estimated time needed: **15** minutes\n",
    "\n",
    "## Objectives\n",
    "\n",
    "After completing this lab you will be able to:\n",
    "\n",
    "-   Use scikit-learn to Support Vector Machine to classify\n"
   ]
  },
  {
   "cell_type": "markdown",
   "metadata": {},
   "source": [
    "In this notebook, you will use SVM (Support Vector Machines) to build and train a model using human cell records, and classify cells to whether the samples are benign or malignant.\n",
    "\n",
    "SVM works by mapping data to a high-dimensional feature space so that data points can be categorized, even when the data are not otherwise linearly separable. A separator between the categories is found, then the data is transformed in such a way that the separator could be drawn as a hyperplane. Following this, characteristics of new data can be used to predict the group to which a new record should belong.\n"
   ]
  },
  {
   "cell_type": "markdown",
   "metadata": {},
   "source": [
    "<h1>Table of contents</h1>\n",
    "\n",
    "<div class=\"alert alert-block alert-info\" style=\"margin-top: 20px\">\n",
    "    <ol>\n",
    "        <li><a href=\"#load_dataset\">Load the Cancer data</a></li>\n",
    "        <li><a href=\"#modeling\">Modeling</a></li>\n",
    "        <li><a href=\"#evaluation\">Evaluation</a></li>\n",
    "        <li><a href=\"#practice\">Practice</a></li>\n",
    "    </ol>\n",
    "</div>\n",
    "<br>\n",
    "<hr>\n"
   ]
  },
  {
   "cell_type": "code",
   "execution_count": null,
   "metadata": {},
   "outputs": [],
   "source": [
    "!pip install scikit-learn==0.23.1"
   ]
  },
  {
   "cell_type": "code",
   "execution_count": 2,
   "metadata": {},
   "outputs": [
    {
     "name": "stderr",
     "output_type": "stream",
     "text": [
      "/home/jardim/.local/lib/python3.10/site-packages/numpy/core/getlimits.py:499: UserWarning: The value of the smallest subnormal for <class 'numpy.float64'> type is zero.\n",
      "  setattr(self, word, getattr(machar, word).flat[0])\n",
      "/home/jardim/.local/lib/python3.10/site-packages/numpy/core/getlimits.py:89: UserWarning: The value of the smallest subnormal for <class 'numpy.float64'> type is zero.\n",
      "  return self._float_to_str(self.smallest_subnormal)\n",
      "/home/jardim/.local/lib/python3.10/site-packages/numpy/core/getlimits.py:499: UserWarning: The value of the smallest subnormal for <class 'numpy.float32'> type is zero.\n",
      "  setattr(self, word, getattr(machar, word).flat[0])\n",
      "/home/jardim/.local/lib/python3.10/site-packages/numpy/core/getlimits.py:89: UserWarning: The value of the smallest subnormal for <class 'numpy.float32'> type is zero.\n",
      "  return self._float_to_str(self.smallest_subnormal)\n"
     ]
    }
   ],
   "source": [
    "import pandas as pd\n",
    "import pylab as pl\n",
    "import numpy as np\n",
    "import scipy.optimize as opt\n",
    "from sklearn import preprocessing\n",
    "from sklearn.model_selection import train_test_split\n",
    "%matplotlib inline \n",
    "import matplotlib.pyplot as plt"
   ]
  },
  {
   "cell_type": "markdown",
   "metadata": {
    "button": false,
    "new_sheet": false,
    "run_control": {
     "read_only": false
    }
   },
   "source": [
    "<h2 id=\"load_dataset\">Load the Cancer data</h2>\n",
    "The example is based on a dataset that is publicly available from the UCI Machine Learning Repository (Asuncion and Newman, 2007)[http://mlearn.ics.uci.edu/MLRepository.html]. The dataset consists of several hundred human cell sample records, each of which contains the values of a set of cell characteristics. The fields in each record are:\n",
    "\n",
    "| Field name  | Description                 |\n",
    "| ----------- | --------------------------- |\n",
    "| ID          | Clump thickness             |\n",
    "| Clump       | Clump thickness             |\n",
    "| UnifSize    | Uniformity of cell size     |\n",
    "| UnifShape   | Uniformity of cell shape    |\n",
    "| MargAdh     | Marginal adhesion           |\n",
    "| SingEpiSize | Single epithelial cell size |\n",
    "| BareNuc     | Bare nuclei                 |\n",
    "| BlandChrom  | Bland chromatin             |\n",
    "| NormNucl    | Normal nucleoli             |\n",
    "| Mit         | Mitoses                     |\n",
    "| Class       | Benign or malignant         |\n",
    "\n",
    "<br>\n",
    "<br>\n",
    "\n",
    "For the purposes of this example, we're using a dataset that has a relatively small number of predictors in each record. To download the data, we will use `!wget` to download it from IBM Object Storage.  \n",
    "\n",
    "**Did you know?** When it comes to Machine Learning, you will likely be working with large datasets. As a business, where can you host your data? IBM is offering a unique opportunity for businesses, with 10 Tb of IBM Cloud Object Storage: [Sign up now for free](http://cocl.us/ML0101EN-IBM-Offer-CC)\n"
   ]
  },
  {
   "cell_type": "code",
   "execution_count": 2,
   "metadata": {
    "button": false,
    "new_sheet": false,
    "run_control": {
     "read_only": false
    }
   },
   "outputs": [
    {
     "name": "stdout",
     "output_type": "stream",
     "text": [
      "--2021-04-15 15:21:46--  https://cf-courses-data.s3.us.cloud-object-storage.appdomain.cloud/IBMDeveloperSkillsNetwork-ML0101EN-SkillsNetwork/labs/Module%203/data/cell_samples.csv\n",
      "Resolving cf-courses-data.s3.us.cloud-object-storage.appdomain.cloud (cf-courses-data.s3.us.cloud-object-storage.appdomain.cloud)... 169.63.118.104\n",
      "Connecting to cf-courses-data.s3.us.cloud-object-storage.appdomain.cloud (cf-courses-data.s3.us.cloud-object-storage.appdomain.cloud)|169.63.118.104|:443... connected.\n",
      "HTTP request sent, awaiting response... 200 OK\n",
      "Length: 19975 (20K) [text/csv]\n",
      "Saving to: ‘cell_samples.csv’\n",
      "\n",
      "cell_samples.csv    100%[===================>]  19,51K  --.-KB/s    in 0,002s  \n",
      "\n",
      "2021-04-15 15:21:48 (8,72 MB/s) - ‘cell_samples.csv’ saved [19975/19975]\n",
      "\n"
     ]
    }
   ],
   "source": [
    "#Click here and press Shift+Enter\n",
    "!wget -O cell_samples.csv https://cf-courses-data.s3.us.cloud-object-storage.appdomain.cloud/IBMDeveloperSkillsNetwork-ML0101EN-SkillsNetwork/labs/Module%203/data/cell_samples.csv"
   ]
  },
  {
   "cell_type": "markdown",
   "metadata": {
    "button": false,
    "new_sheet": false,
    "run_control": {
     "read_only": false
    }
   },
   "source": [
    "### Load Data From CSV File\n"
   ]
  },
  {
   "cell_type": "code",
   "execution_count": 3,
   "metadata": {
    "button": false,
    "new_sheet": false,
    "run_control": {
     "read_only": false
    }
   },
   "outputs": [
    {
     "data": {
      "text/html": [
       "<div>\n",
       "<style scoped>\n",
       "    .dataframe tbody tr th:only-of-type {\n",
       "        vertical-align: middle;\n",
       "    }\n",
       "\n",
       "    .dataframe tbody tr th {\n",
       "        vertical-align: top;\n",
       "    }\n",
       "\n",
       "    .dataframe thead th {\n",
       "        text-align: right;\n",
       "    }\n",
       "</style>\n",
       "<table border=\"1\" class=\"dataframe\">\n",
       "  <thead>\n",
       "    <tr style=\"text-align: right;\">\n",
       "      <th></th>\n",
       "      <th>ID</th>\n",
       "      <th>Clump</th>\n",
       "      <th>UnifSize</th>\n",
       "      <th>UnifShape</th>\n",
       "      <th>MargAdh</th>\n",
       "      <th>SingEpiSize</th>\n",
       "      <th>BareNuc</th>\n",
       "      <th>BlandChrom</th>\n",
       "      <th>NormNucl</th>\n",
       "      <th>Mit</th>\n",
       "      <th>Class</th>\n",
       "    </tr>\n",
       "  </thead>\n",
       "  <tbody>\n",
       "    <tr>\n",
       "      <th>0</th>\n",
       "      <td>1000025</td>\n",
       "      <td>5</td>\n",
       "      <td>1</td>\n",
       "      <td>1</td>\n",
       "      <td>1</td>\n",
       "      <td>2</td>\n",
       "      <td>1</td>\n",
       "      <td>3</td>\n",
       "      <td>1</td>\n",
       "      <td>1</td>\n",
       "      <td>2</td>\n",
       "    </tr>\n",
       "    <tr>\n",
       "      <th>1</th>\n",
       "      <td>1002945</td>\n",
       "      <td>5</td>\n",
       "      <td>4</td>\n",
       "      <td>4</td>\n",
       "      <td>5</td>\n",
       "      <td>7</td>\n",
       "      <td>10</td>\n",
       "      <td>3</td>\n",
       "      <td>2</td>\n",
       "      <td>1</td>\n",
       "      <td>2</td>\n",
       "    </tr>\n",
       "    <tr>\n",
       "      <th>2</th>\n",
       "      <td>1015425</td>\n",
       "      <td>3</td>\n",
       "      <td>1</td>\n",
       "      <td>1</td>\n",
       "      <td>1</td>\n",
       "      <td>2</td>\n",
       "      <td>2</td>\n",
       "      <td>3</td>\n",
       "      <td>1</td>\n",
       "      <td>1</td>\n",
       "      <td>2</td>\n",
       "    </tr>\n",
       "    <tr>\n",
       "      <th>3</th>\n",
       "      <td>1016277</td>\n",
       "      <td>6</td>\n",
       "      <td>8</td>\n",
       "      <td>8</td>\n",
       "      <td>1</td>\n",
       "      <td>3</td>\n",
       "      <td>4</td>\n",
       "      <td>3</td>\n",
       "      <td>7</td>\n",
       "      <td>1</td>\n",
       "      <td>2</td>\n",
       "    </tr>\n",
       "    <tr>\n",
       "      <th>4</th>\n",
       "      <td>1017023</td>\n",
       "      <td>4</td>\n",
       "      <td>1</td>\n",
       "      <td>1</td>\n",
       "      <td>3</td>\n",
       "      <td>2</td>\n",
       "      <td>1</td>\n",
       "      <td>3</td>\n",
       "      <td>1</td>\n",
       "      <td>1</td>\n",
       "      <td>2</td>\n",
       "    </tr>\n",
       "  </tbody>\n",
       "</table>\n",
       "</div>"
      ],
      "text/plain": [
       "        ID  Clump  UnifSize  UnifShape  MargAdh  SingEpiSize BareNuc  \\\n",
       "0  1000025      5         1          1        1            2       1   \n",
       "1  1002945      5         4          4        5            7      10   \n",
       "2  1015425      3         1          1        1            2       2   \n",
       "3  1016277      6         8          8        1            3       4   \n",
       "4  1017023      4         1          1        3            2       1   \n",
       "\n",
       "   BlandChrom  NormNucl  Mit  Class  \n",
       "0           3         1    1      2  \n",
       "1           3         2    1      2  \n",
       "2           3         1    1      2  \n",
       "3           3         7    1      2  \n",
       "4           3         1    1      2  "
      ]
     },
     "execution_count": 3,
     "metadata": {},
     "output_type": "execute_result"
    }
   ],
   "source": [
    "cell_df = pd.read_csv(\"cell_samples.csv\")\n",
    "cell_df.head()"
   ]
  },
  {
   "cell_type": "code",
   "execution_count": 3,
   "metadata": {},
   "outputs": [
    {
     "data": {
      "text/html": [
       "<div>\n",
       "<style scoped>\n",
       "    .dataframe tbody tr th:only-of-type {\n",
       "        vertical-align: middle;\n",
       "    }\n",
       "\n",
       "    .dataframe tbody tr th {\n",
       "        vertical-align: top;\n",
       "    }\n",
       "\n",
       "    .dataframe thead th {\n",
       "        text-align: right;\n",
       "    }\n",
       "</style>\n",
       "<table border=\"1\" class=\"dataframe\">\n",
       "  <thead>\n",
       "    <tr style=\"text-align: right;\">\n",
       "      <th></th>\n",
       "      <th>0</th>\n",
       "      <th>1</th>\n",
       "      <th>2</th>\n",
       "      <th>3</th>\n",
       "      <th>4</th>\n",
       "      <th>5</th>\n",
       "      <th>6</th>\n",
       "      <th>7</th>\n",
       "      <th>8</th>\n",
       "      <th>9</th>\n",
       "      <th>...</th>\n",
       "      <th>71</th>\n",
       "      <th>72</th>\n",
       "      <th>73</th>\n",
       "      <th>74</th>\n",
       "      <th>75</th>\n",
       "      <th>76</th>\n",
       "      <th>77</th>\n",
       "      <th>78</th>\n",
       "      <th>79</th>\n",
       "      <th>80</th>\n",
       "    </tr>\n",
       "  </thead>\n",
       "  <tbody>\n",
       "    <tr>\n",
       "      <th>0</th>\n",
       "      <td>3366.009</td>\n",
       "      <td>131.57</td>\n",
       "      <td>-316.24</td>\n",
       "      <td>17.7</td>\n",
       "      <td>7107.800</td>\n",
       "      <td>7.00</td>\n",
       "      <td>-173.00</td>\n",
       "      <td>9.00</td>\n",
       "      <td>5884.216</td>\n",
       "      <td>-217.88</td>\n",
       "      <td>...</td>\n",
       "      <td>17.64</td>\n",
       "      <td>4373.306</td>\n",
       "      <td>138.32</td>\n",
       "      <td>42.94</td>\n",
       "      <td>89.68</td>\n",
       "      <td>6773.968</td>\n",
       "      <td>61.64</td>\n",
       "      <td>-140.03</td>\n",
       "      <td>-93.8</td>\n",
       "      <td>0</td>\n",
       "    </tr>\n",
       "    <tr>\n",
       "      <th>1</th>\n",
       "      <td>4792.284</td>\n",
       "      <td>187.32</td>\n",
       "      <td>-450.24</td>\n",
       "      <td>25.2</td>\n",
       "      <td>9382.296</td>\n",
       "      <td>9.24</td>\n",
       "      <td>-228.36</td>\n",
       "      <td>11.88</td>\n",
       "      <td>8260.534</td>\n",
       "      <td>-305.87</td>\n",
       "      <td>...</td>\n",
       "      <td>30.24</td>\n",
       "      <td>5869.437</td>\n",
       "      <td>185.64</td>\n",
       "      <td>57.63</td>\n",
       "      <td>120.36</td>\n",
       "      <td>9301.568</td>\n",
       "      <td>84.64</td>\n",
       "      <td>-192.28</td>\n",
       "      <td>-128.8</td>\n",
       "      <td>0</td>\n",
       "    </tr>\n",
       "    <tr>\n",
       "      <th>2</th>\n",
       "      <td>7587.783</td>\n",
       "      <td>296.59</td>\n",
       "      <td>-712.88</td>\n",
       "      <td>39.9</td>\n",
       "      <td>13362.664</td>\n",
       "      <td>13.16</td>\n",
       "      <td>-325.24</td>\n",
       "      <td>16.92</td>\n",
       "      <td>10976.326</td>\n",
       "      <td>-406.43</td>\n",
       "      <td>...</td>\n",
       "      <td>52.92</td>\n",
       "      <td>8286.264</td>\n",
       "      <td>262.08</td>\n",
       "      <td>81.36</td>\n",
       "      <td>169.92</td>\n",
       "      <td>15873.328</td>\n",
       "      <td>144.44</td>\n",
       "      <td>-328.13</td>\n",
       "      <td>-219.8</td>\n",
       "      <td>0</td>\n",
       "    </tr>\n",
       "    <tr>\n",
       "      <th>3</th>\n",
       "      <td>9584.568</td>\n",
       "      <td>374.64</td>\n",
       "      <td>-900.48</td>\n",
       "      <td>50.4</td>\n",
       "      <td>16632.252</td>\n",
       "      <td>16.38</td>\n",
       "      <td>-404.82</td>\n",
       "      <td>21.06</td>\n",
       "      <td>13918.434</td>\n",
       "      <td>-515.37</td>\n",
       "      <td>...</td>\n",
       "      <td>60.48</td>\n",
       "      <td>11508.700</td>\n",
       "      <td>364.00</td>\n",
       "      <td>113.00</td>\n",
       "      <td>236.00</td>\n",
       "      <td>18704.240</td>\n",
       "      <td>170.20</td>\n",
       "      <td>-386.65</td>\n",
       "      <td>-259.0</td>\n",
       "      <td>0</td>\n",
       "    </tr>\n",
       "    <tr>\n",
       "      <th>4</th>\n",
       "      <td>12208.914</td>\n",
       "      <td>477.22</td>\n",
       "      <td>-1147.04</td>\n",
       "      <td>64.2</td>\n",
       "      <td>19688.606</td>\n",
       "      <td>19.39</td>\n",
       "      <td>-479.21</td>\n",
       "      <td>24.93</td>\n",
       "      <td>17652.648</td>\n",
       "      <td>-653.64</td>\n",
       "      <td>...</td>\n",
       "      <td>69.72</td>\n",
       "      <td>14731.136</td>\n",
       "      <td>465.92</td>\n",
       "      <td>144.64</td>\n",
       "      <td>302.08</td>\n",
       "      <td>21029.632</td>\n",
       "      <td>191.36</td>\n",
       "      <td>-434.72</td>\n",
       "      <td>-291.2</td>\n",
       "      <td>0</td>\n",
       "    </tr>\n",
       "  </tbody>\n",
       "</table>\n",
       "<p>5 rows × 81 columns</p>\n",
       "</div>"
      ],
      "text/plain": [
       "          0       1        2     3          4      5       6      7   \\\n",
       "0   3366.009  131.57  -316.24  17.7   7107.800   7.00 -173.00   9.00   \n",
       "1   4792.284  187.32  -450.24  25.2   9382.296   9.24 -228.36  11.88   \n",
       "2   7587.783  296.59  -712.88  39.9  13362.664  13.16 -325.24  16.92   \n",
       "3   9584.568  374.64  -900.48  50.4  16632.252  16.38 -404.82  21.06   \n",
       "4  12208.914  477.22 -1147.04  64.2  19688.606  19.39 -479.21  24.93   \n",
       "\n",
       "          8       9   ...     71         72      73      74      75  \\\n",
       "0   5884.216 -217.88  ...  17.64   4373.306  138.32   42.94   89.68   \n",
       "1   8260.534 -305.87  ...  30.24   5869.437  185.64   57.63  120.36   \n",
       "2  10976.326 -406.43  ...  52.92   8286.264  262.08   81.36  169.92   \n",
       "3  13918.434 -515.37  ...  60.48  11508.700  364.00  113.00  236.00   \n",
       "4  17652.648 -653.64  ...  69.72  14731.136  465.92  144.64  302.08   \n",
       "\n",
       "          76      77      78     79  80  \n",
       "0   6773.968   61.64 -140.03  -93.8   0  \n",
       "1   9301.568   84.64 -192.28 -128.8   0  \n",
       "2  15873.328  144.44 -328.13 -219.8   0  \n",
       "3  18704.240  170.20 -386.65 -259.0   0  \n",
       "4  21029.632  191.36 -434.72 -291.2   0  \n",
       "\n",
       "[5 rows x 81 columns]"
      ]
     },
     "execution_count": 3,
     "metadata": {},
     "output_type": "execute_result"
    }
   ],
   "source": [
    "seqs_df = pd.read_csv(\"all.csv\", header=None)\n",
    "seqs_df.head()"
   ]
  },
  {
   "cell_type": "markdown",
   "metadata": {},
   "source": [
    "The ID field contains the patient identifiers. The characteristics of the cell samples from each patient are contained in fields Clump to Mit. The values are graded from 1 to 10, with 1 being the closest to benign.\n",
    "\n",
    "The Class field contains the diagnosis, as confirmed by separate medical procedures, as to whether the samples are benign (value = 2) or malignant (value = 4).\n",
    "\n",
    "Lets look at the distribution of the classes based on Clump thickness and Uniformity of cell size:\n"
   ]
  },
  {
   "cell_type": "code",
   "execution_count": null,
   "metadata": {},
   "outputs": [
    {
     "ename": "NameError",
     "evalue": "name 'cell_df' is not defined",
     "output_type": "error",
     "traceback": [
      "\u001b[0;31m---------------------------------------------------------------------------\u001b[0m",
      "\u001b[0;31mNameError\u001b[0m                                 Traceback (most recent call last)",
      "\u001b[0;32m/tmp/ipykernel_7169/414243107.py\u001b[0m in \u001b[0;36m<module>\u001b[0;34m\u001b[0m\n\u001b[0;32m----> 1\u001b[0;31m \u001b[0max\u001b[0m \u001b[0;34m=\u001b[0m \u001b[0mcell_df\u001b[0m\u001b[0;34m[\u001b[0m\u001b[0mcell_df\u001b[0m\u001b[0;34m[\u001b[0m\u001b[0;34m'80'\u001b[0m\u001b[0;34m]\u001b[0m \u001b[0;34m==\u001b[0m \u001b[0;36m4\u001b[0m\u001b[0;34m]\u001b[0m\u001b[0;34m[\u001b[0m\u001b[0;36m0\u001b[0m\u001b[0;34m:\u001b[0m\u001b[0;36m50\u001b[0m\u001b[0;34m]\u001b[0m\u001b[0;34m.\u001b[0m\u001b[0mplot\u001b[0m\u001b[0;34m(\u001b[0m\u001b[0mkind\u001b[0m\u001b[0;34m=\u001b[0m\u001b[0;34m'scatter'\u001b[0m\u001b[0;34m,\u001b[0m \u001b[0mx\u001b[0m\u001b[0;34m=\u001b[0m\u001b[0;34m'Clump'\u001b[0m\u001b[0;34m,\u001b[0m \u001b[0my\u001b[0m\u001b[0;34m=\u001b[0m\u001b[0;34m'UnifSize'\u001b[0m\u001b[0;34m,\u001b[0m \u001b[0mcolor\u001b[0m\u001b[0;34m=\u001b[0m\u001b[0;34m'DarkBlue'\u001b[0m\u001b[0;34m,\u001b[0m \u001b[0mlabel\u001b[0m\u001b[0;34m=\u001b[0m\u001b[0;34m'malignant'\u001b[0m\u001b[0;34m)\u001b[0m\u001b[0;34m;\u001b[0m\u001b[0;34m\u001b[0m\u001b[0;34m\u001b[0m\u001b[0m\n\u001b[0m\u001b[1;32m      2\u001b[0m \u001b[0mcell_df\u001b[0m\u001b[0;34m[\u001b[0m\u001b[0mcell_df\u001b[0m\u001b[0;34m[\u001b[0m\u001b[0;34m'80'\u001b[0m\u001b[0;34m]\u001b[0m \u001b[0;34m==\u001b[0m \u001b[0;36m2\u001b[0m\u001b[0;34m]\u001b[0m\u001b[0;34m[\u001b[0m\u001b[0;36m0\u001b[0m\u001b[0;34m:\u001b[0m\u001b[0;36m50\u001b[0m\u001b[0;34m]\u001b[0m\u001b[0;34m.\u001b[0m\u001b[0mplot\u001b[0m\u001b[0;34m(\u001b[0m\u001b[0mkind\u001b[0m\u001b[0;34m=\u001b[0m\u001b[0;34m'scatter'\u001b[0m\u001b[0;34m,\u001b[0m \u001b[0mx\u001b[0m\u001b[0;34m=\u001b[0m\u001b[0;34m'Clump'\u001b[0m\u001b[0;34m,\u001b[0m \u001b[0my\u001b[0m\u001b[0;34m=\u001b[0m\u001b[0;34m'UnifSize'\u001b[0m\u001b[0;34m,\u001b[0m \u001b[0mcolor\u001b[0m\u001b[0;34m=\u001b[0m\u001b[0;34m'Yellow'\u001b[0m\u001b[0;34m,\u001b[0m \u001b[0mlabel\u001b[0m\u001b[0;34m=\u001b[0m\u001b[0;34m'benign'\u001b[0m\u001b[0;34m,\u001b[0m \u001b[0max\u001b[0m\u001b[0;34m=\u001b[0m\u001b[0max\u001b[0m\u001b[0;34m)\u001b[0m\u001b[0;34m;\u001b[0m\u001b[0;34m\u001b[0m\u001b[0;34m\u001b[0m\u001b[0m\n\u001b[1;32m      3\u001b[0m \u001b[0mplt\u001b[0m\u001b[0;34m.\u001b[0m\u001b[0mshow\u001b[0m\u001b[0;34m(\u001b[0m\u001b[0;34m)\u001b[0m\u001b[0;34m\u001b[0m\u001b[0;34m\u001b[0m\u001b[0m\n",
      "\u001b[0;31mNameError\u001b[0m: name 'cell_df' is not defined"
     ]
    }
   ],
   "source": [
    "ax = cell_df[cell_df['Class'] == 4][0:50].plot(kind='scatter', x='Clump', y='UnifSize', color='DarkBlue', label='malignant');\n",
    "cell_df[cell_df['Class'] == 2][0:50].plot(kind='scatter', x='Clump', y='UnifSize', color='Yellow', label='benign', ax=ax);\n",
    "plt.show()"
   ]
  },
  {
   "cell_type": "code",
   "execution_count": 17,
   "metadata": {},
   "outputs": [
    {
     "data": {
      "image/png": "[encoded data removed]",
      "text/plain": [
       "<Figure size 432x288 with 1 Axes>"
      ]
     },
     "metadata": {
      "needs_background": "light"
     },
     "output_type": "display_data"
    }
   ],
   "source": [
    "classCol = seqs_df.shape[1]-1\n",
    "\n",
    "ax = seqs_df[seqs_df[classCol] == 0][0:50].plot(kind='scatter', x=0, y=77, color='DarkBlue', label='timp');\n",
    "seqs_df[seqs_df[classCol] == 1][0:50].plot(kind='scatter', x=0, y=77, color='Yellow', label='mmp', ax=ax);\n",
    "plt.show()"
   ]
  },
  {
   "cell_type": "markdown",
   "metadata": {},
   "source": [
    "## Data pre-processing and selection\n"
   ]
  },
  {
   "cell_type": "markdown",
   "metadata": {},
   "source": [
    "Lets first look at columns data types:\n"
   ]
  },
  {
   "cell_type": "code",
   "execution_count": 13,
   "metadata": {},
   "outputs": [
    {
     "data": {
      "text/plain": [
       "ID              int64\n",
       "Clump           int64\n",
       "UnifSize        int64\n",
       "UnifShape       int64\n",
       "MargAdh         int64\n",
       "SingEpiSize     int64\n",
       "BareNuc        object\n",
       "BlandChrom      int64\n",
       "NormNucl        int64\n",
       "Mit             int64\n",
       "Class           int64\n",
       "dtype: object"
      ]
     },
     "execution_count": 13,
     "metadata": {},
     "output_type": "execute_result"
    }
   ],
   "source": [
    "cell_df.dtypes"
   ]
  },
  {
   "cell_type": "markdown",
   "metadata": {},
   "source": [
    "It looks like the **BareNuc** column includes some values that are not numerical. We can drop those rows:\n"
   ]
  },
  {
   "cell_type": "code",
   "execution_count": 14,
   "metadata": {},
   "outputs": [
    {
     "data": {
      "text/plain": [
       "ID             int64\n",
       "Clump          int64\n",
       "UnifSize       int64\n",
       "UnifShape      int64\n",
       "MargAdh        int64\n",
       "SingEpiSize    int64\n",
       "BareNuc        int64\n",
       "BlandChrom     int64\n",
       "NormNucl       int64\n",
       "Mit            int64\n",
       "Class          int64\n",
       "dtype: object"
      ]
     },
     "execution_count": 14,
     "metadata": {},
     "output_type": "execute_result"
    }
   ],
   "source": [
    "cell_df = cell_df[pd.to_numeric(cell_df['BareNuc'], errors='coerce').notnull()]\n",
    "cell_df['BareNuc'] = cell_df['BareNuc'].astype('int')\n",
    "cell_df.dtypes"
   ]
  },
  {
   "cell_type": "code",
   "execution_count": 15,
   "metadata": {},
   "outputs": [
    {
     "data": {
      "text/html": [
       "<div>\n",
       "<style scoped>\n",
       "    .dataframe tbody tr th:only-of-type {\n",
       "        vertical-align: middle;\n",
       "    }\n",
       "\n",
       "    .dataframe tbody tr th {\n",
       "        vertical-align: top;\n",
       "    }\n",
       "\n",
       "    .dataframe thead th {\n",
       "        text-align: right;\n",
       "    }\n",
       "</style>\n",
       "<table border=\"1\" class=\"dataframe\">\n",
       "  <thead>\n",
       "    <tr style=\"text-align: right;\">\n",
       "      <th></th>\n",
       "      <th>ID</th>\n",
       "      <th>Clump</th>\n",
       "      <th>UnifSize</th>\n",
       "      <th>UnifShape</th>\n",
       "      <th>MargAdh</th>\n",
       "      <th>SingEpiSize</th>\n",
       "      <th>BareNuc</th>\n",
       "      <th>BlandChrom</th>\n",
       "      <th>NormNucl</th>\n",
       "      <th>Mit</th>\n",
       "      <th>Class</th>\n",
       "    </tr>\n",
       "  </thead>\n",
       "  <tbody>\n",
       "    <tr>\n",
       "      <th>0</th>\n",
       "      <td>1000025</td>\n",
       "      <td>5</td>\n",
       "      <td>1</td>\n",
       "      <td>1</td>\n",
       "      <td>1</td>\n",
       "      <td>2</td>\n",
       "      <td>1</td>\n",
       "      <td>3</td>\n",
       "      <td>1</td>\n",
       "      <td>1</td>\n",
       "      <td>2</td>\n",
       "    </tr>\n",
       "    <tr>\n",
       "      <th>1</th>\n",
       "      <td>1002945</td>\n",
       "      <td>5</td>\n",
       "      <td>4</td>\n",
       "      <td>4</td>\n",
       "      <td>5</td>\n",
       "      <td>7</td>\n",
       "      <td>10</td>\n",
       "      <td>3</td>\n",
       "      <td>2</td>\n",
       "      <td>1</td>\n",
       "      <td>2</td>\n",
       "    </tr>\n",
       "  </tbody>\n",
       "</table>\n",
       "</div>"
      ],
      "text/plain": [
       "        ID  Clump  UnifSize  UnifShape  MargAdh  SingEpiSize  BareNuc  \\\n",
       "0  1000025      5         1          1        1            2        1   \n",
       "1  1002945      5         4          4        5            7       10   \n",
       "\n",
       "   BlandChrom  NormNucl  Mit  Class  \n",
       "0           3         1    1      2  \n",
       "1           3         2    1      2  "
      ]
     },
     "execution_count": 15,
     "metadata": {},
     "output_type": "execute_result"
    }
   ],
   "source": [
    "cell_df[0:2][0:2]"
   ]
  },
  {
   "cell_type": "code",
   "execution_count": 18,
   "metadata": {},
   "outputs": [
    {
     "data": {
      "text/plain": [
       "array([[ 3.3660090e+03,  1.3157000e+02, -3.1624000e+02,  1.7700000e+01,\n",
       "         7.1078000e+03,  7.0000000e+00, -1.7300000e+02,  9.0000000e+00,\n",
       "         5.8842160e+03, -2.1788000e+02, -5.3560000e+01, -5.0960000e+01,\n",
       "         9.1837200e+02, -1.7430000e+01, -1.8900000e+00, -2.8700000e+00,\n",
       "         4.2680460e+03, -1.4268000e+02,  3.7700000e+01,  1.3050000e+01,\n",
       "         1.1172600e+03, -2.8500000e+01,  2.1900000e+01,  5.1000000e+00,\n",
       "         1.5380640e+03,  3.4080000e+01,  1.6920000e+01, -3.7680000e+01,\n",
       "         2.4344510e+03,  4.1610000e+01,  1.0070000e+01, -2.1660000e+01,\n",
       "         1.9367100e+03,  4.6200000e+01,  5.8500000e-01, -1.0500000e+00,\n",
       "         3.8313880e+03,  8.6240000e+01, -7.1720000e+01,  2.5080000e+01,\n",
       "         3.3990250e+03, -4.2700000e+01,  3.0800000e+01,  7.8050000e+01,\n",
       "         4.0643710e+03, -1.1029000e+02, -1.0373000e+02, -5.2890000e+01,\n",
       "         3.2815820e+03, -1.2876000e+02, -4.8720000e+01, -2.9870000e+01,\n",
       "         0.0000000e+00,  0.0000000e+00, -0.0000000e+00,  0.0000000e+00,\n",
       "         4.0793250e+03, -3.4750000e+01,  5.8000000e+01,  2.5000000e-01,\n",
       "         1.0971120e+03,  1.9280000e+01,  1.3920000e+01,  8.8800000e+00,\n",
       "         3.7484640e+03,  6.9120000e+01,  6.0480000e+01, -8.2560000e+01,\n",
       "         2.3961630e+03,  6.7620000e+01,  3.0450000e+01,  1.7640000e+01,\n",
       "         4.3733060e+03,  1.3832000e+02,  4.2940000e+01,  8.9680000e+01,\n",
       "         6.7739680e+03,  6.1640000e+01, -1.4003000e+02],\n",
       "       [ 4.7922840e+03,  1.8732000e+02, -4.5024000e+02,  2.5200000e+01,\n",
       "         9.3822960e+03,  9.2400000e+00, -2.2836000e+02,  1.1880000e+01,\n",
       "         8.2605340e+03, -3.0587000e+02, -7.5190000e+01, -7.1540000e+01,\n",
       "         1.5743520e+03, -2.9880000e+01, -3.2400000e+00, -4.9200000e+00,\n",
       "         6.1813080e+03, -2.0664000e+02,  5.4600000e+01,  1.8900000e+01,\n",
       "         2.0483100e+03, -5.2250000e+01,  4.0150000e+01,  9.3500000e+00,\n",
       "         2.4352680e+03,  5.3960000e+01,  2.6790000e+01, -5.9660000e+01,\n",
       "         3.2032250e+03,  5.4750000e+01,  1.3250000e+01, -2.8500000e+01,\n",
       "         4.0025340e+03,  9.5480000e+01,  1.2090000e+00, -2.1700000e+00,\n",
       "         5.9212360e+03,  1.3328000e+02, -1.1084000e+02,  3.8760000e+01,\n",
       "         4.3701750e+03, -5.4900000e+01,  3.9600000e+01,  1.0035000e+02,\n",
       "         6.0469910e+03, -1.6409000e+02, -1.5433000e+02, -7.8690000e+01,\n",
       "         3.7342140e+03, -1.4652000e+02, -5.5440000e+01, -3.3990000e+01,\n",
       "         5.1571500e+02,  3.5500000e+00, -4.8500000e+00,  2.0650000e+01,\n",
       "         5.2215360e+03, -4.4480000e+01,  7.4240000e+01,  3.2000000e-01,\n",
       "         2.0570850e+03,  3.6150000e+01,  2.6100000e+01,  1.6650000e+01,\n",
       "         6.2474400e+03,  1.1520000e+02,  1.0080000e+02, -1.3760000e+02,\n",
       "         4.1077080e+03,  1.1592000e+02,  5.2200000e+01,  3.0240000e+01,\n",
       "         5.8694370e+03,  1.8564000e+02,  5.7630000e+01,  1.2036000e+02,\n",
       "         9.3015680e+03,  8.4640000e+01, -1.9228000e+02],\n",
       "       [ 7.5877830e+03,  2.9659000e+02, -7.1288000e+02,  3.9900000e+01,\n",
       "         1.3362664e+04,  1.3160000e+01, -3.2524000e+02,  1.6920000e+01,\n",
       "         1.0976326e+04, -4.0643000e+02, -9.9910000e+01, -9.5060000e+01,\n",
       "         2.4927240e+03, -4.7310000e+01, -5.1300000e+00, -7.7900000e+00,\n",
       "         8.9776140e+03, -3.0012000e+02,  7.9300000e+01,  2.7450000e+01,\n",
       "         2.9793600e+03, -7.6000000e+01,  5.8400000e+01,  1.3600000e+01,\n",
       "         3.5888160e+03,  7.9520000e+01,  3.9480000e+01, -8.7920000e+01,\n",
       "         4.8689020e+03,  8.3220000e+01,  2.0140000e+01, -4.3320000e+01,\n",
       "         6.7139280e+03,  1.6016000e+02,  2.0280000e+00, -3.6400000e+00,\n",
       "         8.6206230e+03,  1.9404000e+02, -1.6137000e+02,  5.6430000e+01,\n",
       "         7.2836250e+03, -9.1500000e+01,  6.6000000e+01,  1.6725000e+02,\n",
       "         1.0111362e+04, -2.7438000e+02, -2.5806000e+02, -1.3158000e+02,\n",
       "         5.2052680e+03, -2.0424000e+02, -7.7280000e+01, -4.7380000e+01,\n",
       "         1.4440020e+03,  9.9400000e+00, -1.3580000e+01,  5.7820000e+01,\n",
       "         8.8113420e+03, -7.5060000e+01,  1.2528000e+02,  5.4000000e-01,\n",
       "         3.1541970e+03,  5.5430000e+01,  4.0020000e+01,  2.5530000e+01,\n",
       "         9.2149740e+03,  1.6992000e+02,  1.4868000e+02, -2.0296000e+02,\n",
       "         7.1884890e+03,  2.0286000e+02,  9.1350000e+01,  5.2920000e+01,\n",
       "         8.2862640e+03,  2.6208000e+02,  8.1360000e+01,  1.6992000e+02,\n",
       "         1.5873328e+04,  1.4444000e+02, -3.2813000e+02],\n",
       "       [ 9.5845680e+03,  3.7464000e+02, -9.0048000e+02,  5.0400000e+01,\n",
       "         1.6632252e+04,  1.6380000e+01, -4.0482000e+02,  2.1060000e+01,\n",
       "         1.3918434e+04, -5.1537000e+02, -1.2669000e+02, -1.2054000e+02,\n",
       "         2.7551160e+03, -5.2290000e+01, -5.6700000e+00, -8.6100000e+00,\n",
       "         1.1332398e+04, -3.7884000e+02,  1.0010000e+02,  3.4650000e+01,\n",
       "         4.0966200e+03, -1.0450000e+02,  8.0300000e+01,  1.8700000e+01,\n",
       "         4.6141920e+03,  1.0224000e+02,  5.0760000e+01, -1.1304000e+02,\n",
       "         6.2783210e+03,  1.0731000e+02,  2.5970000e+01, -5.5860000e+01,\n",
       "         8.3924100e+03,  2.0020000e+02,  2.5350000e+00, -4.5500000e+00,\n",
       "         1.0013855e+04,  2.2540000e+02, -1.8745000e+02,  6.5550000e+01,\n",
       "         9.2259250e+03, -1.1590000e+02,  8.3600000e+01,  2.1185000e+02,\n",
       "         1.2490506e+04, -3.3894000e+02, -3.1878000e+02, -1.6254000e+02,\n",
       "         6.4500060e+03, -2.5308000e+02, -9.5760000e+01, -5.8710000e+01,\n",
       "         1.5471450e+03,  1.0650000e+01, -1.4550000e+01,  6.1950000e+01,\n",
       "         1.1258937e+04, -9.5910000e+01,  1.6008000e+02,  6.9000000e-01,\n",
       "         4.5255870e+03,  7.9530000e+01,  5.7420000e+01,  3.6630000e+01,\n",
       "         1.1557764e+04,  2.1312000e+02,  1.8648000e+02, -2.5456000e+02,\n",
       "         8.2154160e+03,  2.3184000e+02,  1.0440000e+02,  6.0480000e+01,\n",
       "         1.1508700e+04,  3.6400000e+02,  1.1300000e+02,  2.3600000e+02,\n",
       "         1.8704240e+04,  1.7020000e+02, -3.8665000e+02],\n",
       "       [ 1.2208914e+04,  4.7722000e+02, -1.1470400e+03,  6.4200000e+01,\n",
       "         1.9688606e+04,  1.9390000e+01, -4.7921000e+02,  2.4930000e+01,\n",
       "         1.7652648e+04, -6.5364000e+02, -1.6068000e+02, -1.5288000e+02,\n",
       "         3.4110960e+03, -6.4740000e+01, -7.0200000e+00, -1.0660000e+01,\n",
       "         1.4275878e+04, -4.7724000e+02,  1.2610000e+02,  4.3650000e+01,\n",
       "         5.5863000e+03, -1.4250000e+02,  1.0950000e+02,  2.5500000e+01,\n",
       "         5.1268800e+03,  1.1360000e+02,  5.6400000e+01, -1.2560000e+02,\n",
       "         7.8158690e+03,  1.3359000e+02,  3.2330000e+01, -6.9540000e+01,\n",
       "         1.1749374e+04,  2.8028000e+02,  3.5490000e+00, -6.3700000e+00,\n",
       "         1.2190780e+04,  2.7440000e+02, -2.2820000e+02,  7.9800000e+01,\n",
       "         1.0973995e+04, -1.3786000e+02,  9.9440000e+01,  2.5199000e+02,\n",
       "         1.5266174e+04, -4.1426000e+02, -3.8962000e+02, -1.9866000e+02,\n",
       "         7.9210600e+03, -3.1080000e+02, -1.1760000e+02, -7.2100000e+01,\n",
       "         1.7534310e+03,  1.2070000e+01, -1.6490000e+01,  7.0210000e+01,\n",
       "         1.2564321e+04, -1.0703000e+02,  1.7864000e+02,  7.7000000e-01,\n",
       "         6.3083940e+03,  1.1086000e+02,  8.0040000e+01,  5.1060000e+01,\n",
       "         1.6243344e+04,  2.9952000e+02,  2.6208000e+02, -3.5776000e+02,\n",
       "         9.4705490e+03,  2.6726000e+02,  1.2035000e+02,  6.9720000e+01,\n",
       "         1.4731136e+04,  4.6592000e+02,  1.4464000e+02,  3.0208000e+02,\n",
       "         2.1029632e+04,  1.9136000e+02, -4.3472000e+02]])"
      ]
     },
     "execution_count": 18,
     "metadata": {},
     "output_type": "execute_result"
    }
   ],
   "source": [
    "feature_df = seqs_df.iloc[:,0:79]\n",
    "X = np.asarray(feature_df)\n",
    "X[0:5]"
   ]
  },
  {
   "cell_type": "markdown",
   "metadata": {},
   "source": [
    "We want the model to predict the value of Class (that is, benign (=2) or malignant (=4)). As this field can have one of only two possible values, we need to change its measurement level to reflect this.\n"
   ]
  },
  {
   "cell_type": "code",
   "execution_count": 19,
   "metadata": {},
   "outputs": [
    {
     "data": {
      "text/plain": [
       "array([0, 0, 0, 0, 0])"
      ]
     },
     "execution_count": 19,
     "metadata": {},
     "output_type": "execute_result"
    }
   ],
   "source": [
    "#cell_df['Class'] = cell_df['Class'].astype('int')\n",
    "y = np.asarray(seqs_df.iloc[:,80])\n",
    "y [0:5]"
   ]
  },
  {
   "cell_type": "markdown",
   "metadata": {},
   "source": [
    "## Train/Test dataset\n"
   ]
  },
  {
   "cell_type": "markdown",
   "metadata": {},
   "source": [
    "Okay, we split our dataset into train and test set:\n"
   ]
  },
  {
   "cell_type": "code",
   "execution_count": 20,
   "metadata": {},
   "outputs": [
    {
     "name": "stdout",
     "output_type": "stream",
     "text": [
      "Train set: (64421, 79) (64421,)\n",
      "Test set: (16106, 79) (16106,)\n"
     ]
    }
   ],
   "source": [
    "X_train, X_test, y_train, y_test = train_test_split( X, y, test_size=0.2, random_state=4)\n",
    "print ('Train set:', X_train.shape,  y_train.shape)\n",
    "print ('Test set:', X_test.shape,  y_test.shape)"
   ]
  },
  {
   "cell_type": "markdown",
   "metadata": {},
   "source": [
    "<h2 id=\"modeling\">Modeling (SVM with Scikit-learn)</h2>\n"
   ]
  },
  {
   "cell_type": "markdown",
   "metadata": {},
   "source": [
    "The SVM algorithm offers a choice of kernel functions for performing its processing. Basically, mapping data into a higher dimensional space is called kernelling. The mathematical function used for the transformation is known as the kernel function, and can be of different types, such as:\n",
    "\n",
    "```\n",
    "1.Linear\n",
    "2.Polynomial\n",
    "3.Radial basis function (RBF)\n",
    "4.Sigmoid\n",
    "```\n",
    "\n",
    "Each of these functions has its characteristics, its pros and cons, and its equation, but as there's no easy way of knowing which function performs best with any given dataset, we usually choose different functions in turn and compare the results. Let's just use the default, RBF (Radial Basis Function) for this lab.\n"
   ]
  },
  {
   "cell_type": "code",
   "execution_count": 28,
   "metadata": {},
   "outputs": [
    {
     "data": {
      "text/plain": [
       "SVC(kernel='linear')"
      ]
     },
     "execution_count": 28,
     "metadata": {},
     "output_type": "execute_result"
    }
   ],
   "source": [
    "from sklearn import svm\n",
    "clf = svm.SVC(kernel='linear')\n",
    "clf.fit(X_train, y_train) "
   ]
  },
  {
   "cell_type": "markdown",
   "metadata": {},
   "source": [
    "After being fitted, the model can then be used to predict new values:\n"
   ]
  },
  {
   "cell_type": "code",
   "execution_count": 29,
   "metadata": {},
   "outputs": [
    {
     "data": {
      "text/plain": [
       "array([1, 1, 0, 1, 1])"
      ]
     },
     "execution_count": 29,
     "metadata": {},
     "output_type": "execute_result"
    }
   ],
   "source": [
    "yhat = clf.predict(X_test)\n",
    "yhat [0:5]"
   ]
  },
  {
   "cell_type": "markdown",
   "metadata": {},
   "source": [
    "<h2 id=\"evaluation\">Evaluation</h2>\n"
   ]
  },
  {
   "cell_type": "code",
   "execution_count": 23,
   "metadata": {},
   "outputs": [],
   "source": [
    "from sklearn.metrics import classification_report, confusion_matrix\n",
    "import itertools"
   ]
  },
  {
   "cell_type": "code",
   "execution_count": 24,
   "metadata": {},
   "outputs": [],
   "source": [
    "def plot_confusion_matrix(cm, classes,\n",
    "                          normalize=False,\n",
    "                          title='Confusion matrix',\n",
    "                          cmap=plt.cm.Blues):\n",
    "    \"\"\"\n",
    "    This function prints and plots the confusion matrix.\n",
    "    Normalization can be applied by setting `normalize=True`.\n",
    "    \"\"\"\n",
    "    if normalize:\n",
    "        cm = cm.astype('float') / cm.sum(axis=1)[:, np.newaxis]\n",
    "        print(\"Normalized confusion matrix\")\n",
    "    else:\n",
    "        print('Confusion matrix, without normalization')\n",
    "\n",
    "    print(cm)\n",
    "\n",
    "    plt.imshow(cm, interpolation='nearest', cmap=cmap)\n",
    "    plt.title(title)\n",
    "    plt.colorbar()\n",
    "    tick_marks = np.arange(len(classes))\n",
    "    plt.xticks(tick_marks, classes, rotation=45)\n",
    "    plt.yticks(tick_marks, classes)\n",
    "\n",
    "    fmt = '.2f' if normalize else 'd'\n",
    "    thresh = cm.max() / 2.\n",
    "    for i, j in itertools.product(range(cm.shape[0]), range(cm.shape[1])):\n",
    "        plt.text(j, i, format(cm[i, j], fmt),\n",
    "                 horizontalalignment=\"center\",\n",
    "                 color=\"white\" if cm[i, j] > thresh else \"black\")\n",
    "\n",
    "    plt.tight_layout()\n",
    "    plt.ylabel('True label')\n",
    "    plt.xlabel('Predicted label')"
   ]
  },
  {
   "cell_type": "code",
   "execution_count": 30,
   "metadata": {},
   "outputs": [
    {
     "name": "stdout",
     "output_type": "stream",
     "text": [
      "              precision    recall  f1-score   support\n",
      "\n",
      "           0       1.00      1.00      1.00       227\n",
      "           1       1.00      1.00      1.00     15879\n",
      "\n",
      "    accuracy                           1.00     16106\n",
      "   macro avg       1.00      1.00      1.00     16106\n",
      "weighted avg       1.00      1.00      1.00     16106\n",
      "\n",
      "Confusion matrix, without normalization\n",
      "[[  227     0]\n",
      " [    0 15879]]\n"
     ]
    },
    {
     "data": {
      "image/png": "[encoded data removed]",
      "text/plain": [
       "<Figure size 432x288 with 2 Axes>"
      ]
     },
     "metadata": {
      "needs_background": "light"
     },
     "output_type": "display_data"
    }
   ],
   "source": [
    "# Compute confusion matrix\n",
    "cnf_matrix = confusion_matrix(y_test, yhat, labels=[0,1])\n",
    "np.set_printoptions(precision=2)\n",
    "\n",
    "print (classification_report(y_test, yhat))\n",
    "\n",
    "# Plot non-normalized confusion matrix\n",
    "plt.figure()\n",
    "plot_confusion_matrix(cnf_matrix, classes=['Bacterial(0)','Mammals(1)'],normalize= False,  title='Confusion matrix')"
   ]
  },
  {
   "cell_type": "markdown",
   "metadata": {},
   "source": [
    "You can also easily use the **f1_score** from sklearn library:\n"
   ]
  },
  {
   "cell_type": "code",
   "execution_count": 26,
   "metadata": {},
   "outputs": [
    {
     "data": {
      "text/plain": [
       "0.9789088239296946"
      ]
     },
     "execution_count": 26,
     "metadata": {},
     "output_type": "execute_result"
    }
   ],
   "source": [
    "from sklearn.metrics import f1_score\n",
    "f1_score(y_test, yhat, average='weighted') "
   ]
  },
  {
   "cell_type": "markdown",
   "metadata": {},
   "source": [
    "Lets try jaccard index for accuracy:\n"
   ]
  },
  {
   "cell_type": "code",
   "execution_count": 27,
   "metadata": {},
   "outputs": [
    {
     "data": {
      "text/plain": [
       "0.0"
      ]
     },
     "execution_count": 27,
     "metadata": {},
     "output_type": "execute_result"
    }
   ],
   "source": [
    "from sklearn.metrics import jaccard_score\n",
    "jaccard_score(y_test, yhat,pos_label=0)"
   ]
  },
  {
   "cell_type": "markdown",
   "metadata": {},
   "source": [
    "<h2 id=\"practice\">Practice</h2>\n",
    "Can you rebuild the model, but this time with a __linear__ kernel? You can use __kernel='linear'__ option, when you define the svm. How the accuracy changes with the new kernel function?\n"
   ]
  },
  {
   "cell_type": "code",
   "execution_count": 32,
   "metadata": {},
   "outputs": [
    {
     "name": "stdout",
     "output_type": "stream",
     "text": [
      "Avg F1-score: 0.9149\n",
      "Jaccard score: 0.8879\n"
     ]
    }
   ],
   "source": [
    "# write your code here\n",
    "clf2 = svm.SVC(kernel='linear')\n",
    "clf2.fit(X_train, y_train) \n",
    "yhat2 = clf2.predict(X_test)\n",
    "print(\"Avg F1-score: %.4f\" % f1_score(y_test, yhat2, average='weighted'))\n",
    "print(\"Jaccard score: %.4f\" % jaccard_score(y_test, yhat2,pos_label=1))"
   ]
  },
  {
   "cell_type": "markdown",
   "metadata": {},
   "source": [
    "<details><summary>Click here for the solution</summary>\n",
    "\n",
    "```python\n",
    "clf2 = svm.SVC(kernel='linear')\n",
    "clf2.fit(X_train, y_train) \n",
    "yhat2 = clf2.predict(X_test)\n",
    "print(\"Avg F1-score: %.4f\" % f1_score(y_test, yhat2, average='weighted'))\n",
    "print(\"Jaccard score: %.4f\" % jaccard_score(y_test, yhat2,pos_label=2))\n",
    "\n",
    "```\n",
    "\n",
    "</details>\n"
   ]
  },
  {
   "cell_type": "markdown",
   "metadata": {
    "button": false,
    "new_sheet": false,
    "run_control": {
     "read_only": false
    }
   },
   "source": [
    "<h2>Want to learn more?</h2>\n",
    "\n",
    "IBM SPSS Modeler is a comprehensive analytics platform that has many machine learning algorithms. It has been designed to bring predictive intelligence to decisions made by individuals, by groups, by systems – by your enterprise as a whole. A free trial is available through this course, available here: <a href=\"https://www.ibm.com/analytics/spss-statistics-software\">SPSS Modeler</a>\n",
    "\n",
    "Also, you can use Watson Studio to run these notebooks faster with bigger datasets. Watson Studio is IBM's leading cloud solution for data scientists, built by data scientists. With Jupyter notebooks, RStudio, Apache Spark and popular libraries pre-packaged in the cloud, Watson Studio enables data scientists to collaborate on their projects without having to install anything. Join the fast-growing community of Watson Studio users today with a free account at <a href=\"https://www.ibm.com/cloud/watson-studio\">Watson Studio</a>\n"
   ]
  },
  {
   "cell_type": "markdown",
   "metadata": {},
   "source": [
    "### Thank you for completing this lab!\n",
    "\n",
    "## Author\n",
    "\n",
    "Saeed Aghabozorgi\n",
    "\n",
    "### Other Contributors\n",
    "\n",
    "<a href=\"https://www.linkedin.com/in/joseph-s-50398b136/\" target=\"_blank\">Joseph Santarcangelo</a>\n",
    "\n",
    "## Change Log\n",
    "\n",
    "| Date (YYYY-MM-DD) | Version | Changed By | Change Description                 |\n",
    "| ----------------- | ------- | ---------- | ---------------------------------- |\n",
    "| 2021-01-21        | 2.2     | Lakshmi    | Updated sklearn library            |\n",
    "| 2020-11-03        | 2.1     | Lakshmi    | Updated URL of csv                 |\n",
    "| 2020-08-27        | 2.0     | Lavanya    | Moved lab to course repo in GitLab |\n",
    "|                   |         |            |                                    |\n",
    "|                   |         |            |                                    |\n",
    "\n",
    "## <h3 align=\"center\"> © IBM Corporation 2020. All rights reserved. <h3/>\n"
   ]
  }
 ],
 "metadata": {
  "kernelspec": {
   "display_name": "Python 3 (ipykernel)",
   "language": "python",
   "name": "python3"
  },
  "language_info": {
   "codemirror_mode": {
    "name": "ipython",
    "version": 3
   },
   "file_extension": ".py",
   "mimetype": "text/x-python",
   "name": "python",
   "nbconvert_exporter": "python",
   "pygments_lexer": "ipython3",
   "version": "3.9.1"
  }
 },
 "nbformat": 4,
 "nbformat_minor": 4
}
