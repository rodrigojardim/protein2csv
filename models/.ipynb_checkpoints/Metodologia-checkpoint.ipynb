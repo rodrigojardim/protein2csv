{
 "cells": [
  {
   "cell_type": "markdown",
   "id": "83ba0c31",
   "metadata": {},
   "source": [
    "# Metodologia do Artigo da MMPs\n",
    "\n",
    "### Objetivo:\n",
    "O objetivo do artigo é criar um modelo baseado em técnicas de Machine Learning que possa predizer sequências de metaloproteinases com grau de confiança alto. \n",
    "\n",
    "Este arquivo descreve os passos da metodologia adotada no trabalho e servirá de base para a seção de metodologia do artigo que será escrito.\n",
    "\n",
    "### Etapas não disponibilizadas nesse notebook:\n",
    "Abaixo estão descritas as etapas para a consecução do objetivo:\n",
    "\n",
    "* Download de sequências de MMPs da base Uniprot (formato FASTA)\n",
    "* Download de sequências do proteoma humano da base Uniprot (formato FASTA)\n",
    "* Remoção, através de blast, das sequências de MMPs no proteoma humano\n"
   ]
  },
  {
   "cell_type": "markdown",
   "id": "ae39a34b",
   "metadata": {},
   "source": [
    "### Preparação das bases\n",
    "Esta etapa tem por finalidade transformar os arquivos de sequência em formato FASTA em uma matriz numérica que possa ser utilizada pelos modelos de ML.\n",
    "\n",
    "Para isso, foi elaborado um script em python onde cada conjunto de 4 colunas representa um aminoácido presente na cadeia da sequência com as seguintes informações: massa molecular, hidrofobicidade, volume da cadeia lateral e propriedades eletrônicas. Cada uma dessas colunas foi ponderada pela frequência desse aminoáciso na cadeia da sequência.\n",
    "\n",
    "A massa molecular de cada aminoácido foi obtida em [PubChem](https://pubchem.ncbi.nlm.nih.gov/).\n",
    "\n",
    "As demais informações foram retiradas [deste artigo](../Artigos/Import_Determinants_of_Organelle-Specific_and_Dual.pdf) e são denominadas ZClass.\n",
    "\n",
    "#### Subetapas inciais:\n",
    "Após o download das sequências, precisa ser feito:\n",
    "\n",
    "* Rodar um programa para verificar as estatísticas de cada arquivo multifasta (menor, maior, média e mediana do tamanho das sequências)\n",
    "* Definir um tamanho que leve em consideração a média ou a mediana +/- um desvio padrão determinado\n",
    "* Gerar um novo arquivo fasta apenas com as sequências de tamanhos previamente definido na subetapa anterior."
   ]
  },
  {
   "cell_type": "markdown",
   "id": "aa322bd2",
   "metadata": {},
   "source": [
    "### Definindo suas classes\n",
    "Escolha uma classe para representar o número zero (0) e outra classe para representar o número um (1)"
   ]
  },
  {
   "cell_type": "code",
   "execution_count": null,
   "id": "47770cef",
   "metadata": {},
   "outputs": [],
   "source": [
    "label_classe_0 = 'No MMPs (0)'\n",
    "label_classe_1 = 'MMPs (1)'"
   ]
  },
  {
   "cell_type": "markdown",
   "id": "cfe18701",
   "metadata": {},
   "source": [
    "#### Calculando as estatísticas da classe 0"
   ]
  },
  {
   "cell_type": "code",
   "execution_count": 18,
   "id": "73c09588",
   "metadata": {},
   "outputs": [
    {
     "name": "stdout",
     "output_type": "stream",
     "text": [
      "Min\t2\n",
      "Max\t34350\n",
      "Mean\t552.5863093788063\n",
      "Mode\t117\n",
      "Median\t410\n",
      "Stdev\t597.2841578747467\n"
     ]
    }
   ],
   "source": [
    "### Observacao: Essa classe nao precisa de filtro por tamanho \n",
    "!python ../utils/fasta_statistics.py ../data/no_mmps_human_proteome.fasta"
   ]
  },
  {
   "cell_type": "markdown",
   "id": "e96b8e5d",
   "metadata": {},
   "source": [
    "#### Calculando as estatísticas da classe 1"
   ]
  },
  {
   "cell_type": "code",
   "execution_count": 19,
   "id": "d2e7fb63",
   "metadata": {},
   "outputs": [
    {
     "name": "stdout",
     "output_type": "stream",
     "text": [
      "Min\t166\r\n",
      "Max\t1935\r\n",
      "Mean\t832.4285714285714\r\n",
      "Mode\t824\r\n",
      "Median\t787\r\n",
      "Stdev\t360.2164991602704\r\n"
     ]
    }
   ],
   "source": [
    "!python ../utils/fasta_statistics.py ../data/mmps_human_proteome.fasta"
   ]
  },
  {
   "cell_type": "markdown",
   "id": "d9fd36e1",
   "metadata": {},
   "source": [
    "#### Filtrando a classe 1"
   ]
  },
  {
   "cell_type": "code",
   "execution_count": 21,
   "id": "48fbfa81",
   "metadata": {},
   "outputs": [],
   "source": [
    "# Argumentos: <nome do arquivo fasta> <media> <desvio-padrao>\n",
    "!python ../utils/filter_by_length.py ../data/mmps_human_proteome.fasta 832 20 > ../data/mmps_human_proteome_filtered.fasta"
   ]
  },
  {
   "cell_type": "markdown",
   "id": "aa1aedd8",
   "metadata": {},
   "source": [
    "#### Rodando o script para transformar a classe 0 em CSV"
   ]
  },
  {
   "cell_type": "code",
   "execution_count": 23,
   "id": "67b2a5d4",
   "metadata": {},
   "outputs": [],
   "source": [
    "## O primeiro parametro eh o arquivo mutifasta. O segundo parametro eh um numero que representa a classe (o tipo de MMP) a ser convertida\n",
    "!python ../sequence2matrix_2.py ../data/no_mmps_human_proteome.fasta 0 > ../data/no_mmps_human_proteome.csv"
   ]
  },
  {
   "cell_type": "markdown",
   "id": "6de113d1",
   "metadata": {},
   "source": [
    "#### Rodando o script para transformar a classe 1 em CSV"
   ]
  },
  {
   "cell_type": "code",
   "execution_count": 24,
   "id": "d9736f16",
   "metadata": {},
   "outputs": [],
   "source": [
    "!python ../sequence2matrix_2.py ../data/mmps_human_proteome_filtered.fasta 1 > ../data/mmps_human_proteome_filtered.csv"
   ]
  },
  {
   "cell_type": "markdown",
   "id": "3c0652f0",
   "metadata": {},
   "source": [
    "#### Concatenando os arquivos CSV"
   ]
  },
  {
   "cell_type": "code",
   "execution_count": 28,
   "id": "6baebd54",
   "metadata": {},
   "outputs": [],
   "source": [
    "cat ../data/no_mmps_human_proteome.csv ../data/mmps_human_proteome_filtered.csv > ../data/all.csv"
   ]
  },
  {
   "cell_type": "markdown",
   "id": "8dde9733",
   "metadata": {},
   "source": [
    "### Rodando o modelo KNN"
   ]
  },
  {
   "cell_type": "code",
   "execution_count": null,
   "id": "6d0c96c4",
   "metadata": {},
   "outputs": [],
   "source": [
    "## Instalando bibliotecas de ML do python \n",
    "!pip3 install scikit-learn==0.23.1"
   ]
  },
  {
   "cell_type": "code",
   "execution_count": 26,
   "id": "204d5411",
   "metadata": {},
   "outputs": [],
   "source": [
    "## Importando as bibliotecas necessarias\n",
    "import numpy as np\n",
    "import matplotlib.pyplot as plt\n",
    "import pandas as pd\n",
    "import numpy as np\n",
    "from sklearn import preprocessing\n",
    "%matplotlib inline\n",
    "from sklearn.metrics import classification_report, confusion_matrix\n",
    "import itertools\n",
    "from sklearn.model_selection import train_test_split\n",
    "from sklearn.neighbors import KNeighborsClassifier\n",
    "from sklearn import metrics\n",
    "from sklearn.metrics import classification_report, confusion_matrix, accuracy_score\n",
    "from sklearn.neighbors import KNeighborsClassifier  \n",
    "import joblib\n"
   ]
  },
  {
   "cell_type": "code",
   "execution_count": 29,
   "id": "9a245a4e",
   "metadata": {},
   "outputs": [
    {
     "data": {
      "text/html": [
       "<div>\n",
       "<style scoped>\n",
       "    .dataframe tbody tr th:only-of-type {\n",
       "        vertical-align: middle;\n",
       "    }\n",
       "\n",
       "    .dataframe tbody tr th {\n",
       "        vertical-align: top;\n",
       "    }\n",
       "\n",
       "    .dataframe thead th {\n",
       "        text-align: right;\n",
       "    }\n",
       "</style>\n",
       "<table border=\"1\" class=\"dataframe\">\n",
       "  <thead>\n",
       "    <tr style=\"text-align: right;\">\n",
       "      <th></th>\n",
       "      <th>0</th>\n",
       "      <th>1</th>\n",
       "      <th>2</th>\n",
       "      <th>3</th>\n",
       "      <th>4</th>\n",
       "      <th>5</th>\n",
       "      <th>6</th>\n",
       "      <th>7</th>\n",
       "      <th>8</th>\n",
       "      <th>9</th>\n",
       "      <th>...</th>\n",
       "      <th>71</th>\n",
       "      <th>72</th>\n",
       "      <th>73</th>\n",
       "      <th>74</th>\n",
       "      <th>75</th>\n",
       "      <th>76</th>\n",
       "      <th>77</th>\n",
       "      <th>78</th>\n",
       "      <th>79</th>\n",
       "      <th>80</th>\n",
       "    </tr>\n",
       "  </thead>\n",
       "  <tbody>\n",
       "    <tr>\n",
       "      <th>0</th>\n",
       "      <td>3.862122</td>\n",
       "      <td>0.114727</td>\n",
       "      <td>-0.275756</td>\n",
       "      <td>0.015434</td>\n",
       "      <td>5.156334</td>\n",
       "      <td>0.004051</td>\n",
       "      <td>-0.100129</td>\n",
       "      <td>0.005209</td>\n",
       "      <td>24.040804</td>\n",
       "      <td>-0.767942</td>\n",
       "      <td>...</td>\n",
       "      <td>0.027010</td>\n",
       "      <td>1.711897</td>\n",
       "      <td>0.046817</td>\n",
       "      <td>0.014534</td>\n",
       "      <td>0.030354</td>\n",
       "      <td>8.043473</td>\n",
       "      <td>0.062122</td>\n",
       "      <td>-0.141125</td>\n",
       "      <td>-0.094534</td>\n",
       "      <td>0</td>\n",
       "    </tr>\n",
       "    <tr>\n",
       "      <th>1</th>\n",
       "      <td>11.648793</td>\n",
       "      <td>0.346034</td>\n",
       "      <td>-0.831724</td>\n",
       "      <td>0.046552</td>\n",
       "      <td>22.272500</td>\n",
       "      <td>0.017500</td>\n",
       "      <td>-0.432500</td>\n",
       "      <td>0.022500</td>\n",
       "      <td>73.500431</td>\n",
       "      <td>-2.347845</td>\n",
       "      <td>...</td>\n",
       "      <td>0.094138</td>\n",
       "      <td>9.179310</td>\n",
       "      <td>0.251034</td>\n",
       "      <td>0.077931</td>\n",
       "      <td>0.162759</td>\n",
       "      <td>29.780000</td>\n",
       "      <td>0.230000</td>\n",
       "      <td>-0.522500</td>\n",
       "      <td>-0.350000</td>\n",
       "      <td>0</td>\n",
       "    </tr>\n",
       "    <tr>\n",
       "      <th>2</th>\n",
       "      <td>12.083185</td>\n",
       "      <td>0.358938</td>\n",
       "      <td>-0.862740</td>\n",
       "      <td>0.048288</td>\n",
       "      <td>18.611267</td>\n",
       "      <td>0.014623</td>\n",
       "      <td>-0.361404</td>\n",
       "      <td>0.018801</td>\n",
       "      <td>51.659418</td>\n",
       "      <td>-1.650171</td>\n",
       "      <td>...</td>\n",
       "      <td>0.057534</td>\n",
       "      <td>4.558219</td>\n",
       "      <td>0.124658</td>\n",
       "      <td>0.038699</td>\n",
       "      <td>0.080822</td>\n",
       "      <td>17.133699</td>\n",
       "      <td>0.132329</td>\n",
       "      <td>-0.300616</td>\n",
       "      <td>-0.201370</td>\n",
       "      <td>0</td>\n",
       "    </tr>\n",
       "    <tr>\n",
       "      <th>3</th>\n",
       "      <td>15.398974</td>\n",
       "      <td>0.457436</td>\n",
       "      <td>-1.099487</td>\n",
       "      <td>0.061538</td>\n",
       "      <td>25.984583</td>\n",
       "      <td>0.020417</td>\n",
       "      <td>-0.504583</td>\n",
       "      <td>0.026250</td>\n",
       "      <td>68.107500</td>\n",
       "      <td>-2.175577</td>\n",
       "      <td>...</td>\n",
       "      <td>0.075385</td>\n",
       "      <td>7.678846</td>\n",
       "      <td>0.210000</td>\n",
       "      <td>0.065192</td>\n",
       "      <td>0.136154</td>\n",
       "      <td>23.289487</td>\n",
       "      <td>0.179872</td>\n",
       "      <td>-0.408622</td>\n",
       "      <td>-0.273718</td>\n",
       "      <td>0</td>\n",
       "    </tr>\n",
       "    <tr>\n",
       "      <th>4</th>\n",
       "      <td>61.574270</td>\n",
       "      <td>1.829101</td>\n",
       "      <td>-4.396404</td>\n",
       "      <td>0.246067</td>\n",
       "      <td>105.106180</td>\n",
       "      <td>0.082584</td>\n",
       "      <td>-2.041011</td>\n",
       "      <td>0.106180</td>\n",
       "      <td>247.601798</td>\n",
       "      <td>-7.909213</td>\n",
       "      <td>...</td>\n",
       "      <td>0.283146</td>\n",
       "      <td>29.910112</td>\n",
       "      <td>0.817978</td>\n",
       "      <td>0.253933</td>\n",
       "      <td>0.530337</td>\n",
       "      <td>93.689888</td>\n",
       "      <td>0.723596</td>\n",
       "      <td>-1.643820</td>\n",
       "      <td>-1.101124</td>\n",
       "      <td>0</td>\n",
       "    </tr>\n",
       "  </tbody>\n",
       "</table>\n",
       "<p>5 rows × 81 columns</p>\n",
       "</div>"
      ],
      "text/plain": [
       "          0         1         2         3           4         5         6   \\\n",
       "0   3.862122  0.114727 -0.275756  0.015434    5.156334  0.004051 -0.100129   \n",
       "1  11.648793  0.346034 -0.831724  0.046552   22.272500  0.017500 -0.432500   \n",
       "2  12.083185  0.358938 -0.862740  0.048288   18.611267  0.014623 -0.361404   \n",
       "3  15.398974  0.457436 -1.099487  0.061538   25.984583  0.020417 -0.504583   \n",
       "4  61.574270  1.829101 -4.396404  0.246067  105.106180  0.082584 -2.041011   \n",
       "\n",
       "         7           8         9   ...        71         72        73  \\\n",
       "0  0.005209   24.040804 -0.767942  ...  0.027010   1.711897  0.046817   \n",
       "1  0.022500   73.500431 -2.347845  ...  0.094138   9.179310  0.251034   \n",
       "2  0.018801   51.659418 -1.650171  ...  0.057534   4.558219  0.124658   \n",
       "3  0.026250   68.107500 -2.175577  ...  0.075385   7.678846  0.210000   \n",
       "4  0.106180  247.601798 -7.909213  ...  0.283146  29.910112  0.817978   \n",
       "\n",
       "         74        75         76        77        78        79  80  \n",
       "0  0.014534  0.030354   8.043473  0.062122 -0.141125 -0.094534   0  \n",
       "1  0.077931  0.162759  29.780000  0.230000 -0.522500 -0.350000   0  \n",
       "2  0.038699  0.080822  17.133699  0.132329 -0.300616 -0.201370   0  \n",
       "3  0.065192  0.136154  23.289487  0.179872 -0.408622 -0.273718   0  \n",
       "4  0.253933  0.530337  93.689888  0.723596 -1.643820 -1.101124   0  \n",
       "\n",
       "[5 rows x 81 columns]"
      ]
     },
     "execution_count": 29,
     "metadata": {},
     "output_type": "execute_result"
    }
   ],
   "source": [
    "## Carregando os dados da matriz gerada no passo anterior\n",
    "df = pd.read_csv('../data/all.csv', header=None)\n",
    "classCol = df.shape[1]-1     # Ultima coluna. Coluna com a classificacao da MMP\n",
    "df.head()\n",
    "\n",
    "#### ATENCAO: Verifique se tem 81 colunas"
   ]
  },
  {
   "cell_type": "code",
   "execution_count": 30,
   "id": "2c7081b4",
   "metadata": {},
   "outputs": [
    {
     "name": "stdout",
     "output_type": "stream",
     "text": [
      "No MMPs (0):  20525\n",
      "MMPs (1):  28\n"
     ]
    }
   ],
   "source": [
    "## Quantidade de registros lidos de cada tipo de classe\n",
    "classe_0 = pd.value_counts(df[classCol]) [0]\n",
    "classe_1 = pd.value_counts(df[classCol]) [1]\n",
    "\n",
    "tam = len(df)\n",
    "\n",
    "print(label_classe_0 + ': ',classe_0)\n",
    "print(label_classe_1 + ': ',classe_1)\n"
   ]
  },
  {
   "cell_type": "code",
   "execution_count": 31,
   "id": "25da777f",
   "metadata": {},
   "outputs": [
    {
     "data": {
      "text/plain": [
       "array([[ 3.86e+00,  1.15e-01, -2.76e-01,  1.54e-02,  5.16e+00,  4.05e-03,\n",
       "        -1.00e-01,  5.21e-03,  2.40e+01, -7.68e-01, -1.89e-01, -1.80e-01,\n",
       "         5.28e+00, -8.81e-02, -9.55e-03, -1.45e-02,  8.50e+00, -2.53e-01,\n",
       "         6.69e-02,  2.32e-02,  6.57e-01, -1.53e-02,  1.17e-02,  2.73e-03,\n",
       "         2.82e+00,  5.48e-02,  2.72e-02, -6.06e-02,  4.70e+00,  7.04e-02,\n",
       "         1.70e-02, -3.67e-02,  3.78e+00,  7.92e-02,  1.00e-03, -1.80e-03,\n",
       "         1.12e+01,  2.08e-01, -1.73e-01,  6.05e-02,  4.44e+00, -4.71e-02,\n",
       "         3.40e-02,  8.60e-02,  1.05e+01, -2.42e-01, -2.28e-01, -1.16e-01,\n",
       "         9.70e+00, -3.28e-01, -1.24e-01, -7.62e-02,  4.29e+00,  2.51e-02,\n",
       "        -3.43e-02,  1.46e-01,  5.83e+00, -4.47e-02,  7.46e-02,  3.22e-04,\n",
       "         2.49e+00,  3.87e-02,  2.80e-02,  1.78e-02,  6.16e+00,  1.02e-01,\n",
       "         8.91e-02, -1.22e-01,  4.25e+00,  1.04e-01,  4.66e-02,  2.70e-02,\n",
       "         1.71e+00,  4.68e-02,  1.45e-02,  3.04e-02,  8.04e+00,  6.21e-02,\n",
       "        -1.41e-01, -9.45e-02]])"
      ]
     },
     "execution_count": 31,
     "metadata": {},
     "output_type": "execute_result"
    }
   ],
   "source": [
    "## Separa a matriz original em duas matrizes: \n",
    "##      - matriz X contendo todas as colunas, exceto a ultima coluna. Conhecida como variaveis independentes\n",
    "##      - matriz Y contendo a ultima coluna (coluna com a classificacao das MMPs). Conhecida como variavel dependente\n",
    "#X = df.drop(classCol, axis=1).drop(0, axis=1).values\n",
    "feature_df = df.iloc[:,0:80]\n",
    "X = np.asarray(feature_df)\n",
    "X[0:1]"
   ]
  },
  {
   "cell_type": "code",
   "execution_count": 32,
   "id": "8b31fde5",
   "metadata": {},
   "outputs": [
    {
     "data": {
      "text/plain": [
       "array([0, 0, 0, 0, 0])"
      ]
     },
     "execution_count": 32,
     "metadata": {},
     "output_type": "execute_result"
    }
   ],
   "source": [
    "y = df[classCol].values\n",
    "y[0:5]"
   ]
  },
  {
   "cell_type": "code",
   "execution_count": null,
   "id": "fe9f077b",
   "metadata": {},
   "outputs": [],
   "source": [
    "## Normalizando os dados da matriz X\n",
    "#X = preprocessing.StandardScaler().fit(X).transform(X.astype(float))\n",
    "#normalize=True\n",
    "#X[0:1]"
   ]
  },
  {
   "cell_type": "code",
   "execution_count": 33,
   "id": "8684facb",
   "metadata": {},
   "outputs": [
    {
     "name": "stdout",
     "output_type": "stream",
     "text": [
      "Train set: (16442, 80) (16442,)\n",
      "Test set: (4111, 80) (4111,)\n"
     ]
    }
   ],
   "source": [
    "## Dividindo as matrizes X e Y em dois subconjuntos: (1) treinamento do modelo com 80% dos dados e (2) teste do modelo com 20% dos dados\n",
    "X_train, X_test, y_train, y_test = train_test_split( X, y, test_size=0.2, random_state=4)\n",
    "print ('Train set:', X_train.shape,  y_train.shape)\n",
    "print ('Test set:', X_test.shape,  y_test.shape)"
   ]
  },
  {
   "cell_type": "markdown",
   "id": "a6fec42f",
   "metadata": {},
   "source": [
    "#### Classificação pelo KNN\n",
    "Nesse tipo de modelo, é necessário escolher o melhor K que se ajusta aos nossos dados. 'K' é o parâmetro que define para quantos melhores vizinhos o algoritmo deve \"olhar\" para determinar a classe. "
   ]
  },
  {
   "cell_type": "code",
   "execution_count": 34,
   "id": "60f2ff7e",
   "metadata": {},
   "outputs": [
    {
     "name": "stdout",
     "output_type": "stream",
     "text": [
      "The best accuracy was with 0.9997567501824374 with k= 1\n"
     ]
    },
    {
     "data": {
      "image/png": "[encoded data removed]",
      "text/plain": [
       "<Figure size 432x288 with 1 Axes>"
      ]
     },
     "metadata": {
      "needs_background": "light"
     },
     "output_type": "display_data"
    }
   ],
   "source": [
    "## Classificacao por KNN\n",
    "\n",
    "\n",
    "## Aqui fazemos uma varredura de K iniciando em 1 ate 10 para identificarmos o melhor K\n",
    "Ks = 10\n",
    "mean_acc = np.zeros((Ks-1))\n",
    "std_acc = np.zeros((Ks-1))\n",
    "\n",
    "for n in range(1,Ks):\n",
    "    \n",
    "    #Train Model and Predict  \n",
    "    neigh = KNeighborsClassifier(n_neighbors = n).fit(X_train,y_train)\n",
    "    yhat=neigh.predict(X_test)\n",
    "    mean_acc[n-1] = metrics.accuracy_score(y_test, yhat)\n",
    "\n",
    "    \n",
    "    std_acc[n-1]=np.std(yhat==y_test)/np.sqrt(yhat.shape[0])\n",
    "\n",
    "## Plotamos o resultado\n",
    "plt.plot(range(1,Ks),mean_acc,'g')\n",
    "plt.fill_between(range(1,Ks),mean_acc - 1 * std_acc,mean_acc + 1 * std_acc, alpha=0.10)\n",
    "plt.fill_between(range(1,Ks),mean_acc - 3 * std_acc,mean_acc + 3 * std_acc, alpha=0.10,color=\"green\")\n",
    "#plt.legend(('Acurácia ', '+/- 1xstd','+/- 3xstd'), loc='lower right')\n",
    "plt.ylabel('Acurácia ')\n",
    "plt.xlabel('Número de vizinhos (K)')\n",
    "plt.tight_layout()\n",
    "#plt.show()\n",
    "#plt.savefig(\"/tmp/accuracy-no-legend.png\",dpi=1200)\n",
    "\n",
    "## Imprime o melhor K\n",
    "print( \"The best accuracy was with\", mean_acc.max(), \"with k=\", mean_acc.argmax()+1) "
   ]
  },
  {
   "cell_type": "code",
   "execution_count": 35,
   "id": "0913126a",
   "metadata": {},
   "outputs": [
    {
     "name": "stdout",
     "output_type": "stream",
     "text": [
      "Matriz Confusa: \n",
      "[[4102    1]\n",
      " [   0    8]] \n",
      "\n",
      "Relatório de classificação: \n",
      "               precision    recall  f1-score   support\n",
      "\n",
      "           0       1.00      1.00      1.00      4103\n",
      "           1       0.89      1.00      0.94         8\n",
      "\n",
      "    accuracy                           1.00      4111\n",
      "   macro avg       0.94      1.00      0.97      4111\n",
      "weighted avg       1.00      1.00      1.00      4111\n",
      "\n",
      "Acurácia do modelo:  0.9997567501824374\n",
      "              precision    recall  f1-score   support\n",
      "\n",
      "           0       1.00      1.00      1.00      4103\n",
      "           1       0.89      1.00      0.94         8\n",
      "\n",
      "    accuracy                           1.00      4111\n",
      "   macro avg       0.94      1.00      0.97      4111\n",
      "weighted avg       1.00      1.00      1.00      4111\n",
      "\n",
      "Confusion matrix, without normalization\n",
      "[[4102    1]\n",
      " [   0    8]]\n"
     ]
    },
    {
     "data": {
      "image/png": "[encoded data removed]",
      "text/plain": [
       "<Figure size 432x288 with 2 Axes>"
      ]
     },
     "metadata": {
      "needs_background": "light"
     },
     "output_type": "display_data"
    }
   ],
   "source": [
    "## Treinando com o melhor K e desenhando a matriz confusao\n",
    "# Treinando o modelo KNN com o melhor parâmetro para K\n",
    "\n",
    "classifier = KNeighborsClassifier(n_neighbors= mean_acc.argmax()+1)\n",
    "#classifier = KNeighborsClassifier(n_neighbors = 9)\n",
    "classifier.fit(X_train, y_train)  \n",
    "\n",
    "# Aplicando os valores de teste novamente\n",
    "y_pred = classifier.predict(X_test) \n",
    "\n",
    "# Importando métricas para validação do modelo\n",
    "\n",
    "# Imprimindo a matriz confusa\n",
    "print(\"Matriz Confusa: \")\n",
    "print(confusion_matrix(y_test, y_pred), \"\\n\")  \n",
    "\n",
    "# Imprimindo o relatório de classificação\n",
    "print(\"Relatório de classificação: \\n\", classification_report(y_test, y_pred))  \n",
    "\n",
    "\n",
    "# Imprimindo o quão acurado foi o modelo\n",
    "print('Acurácia do modelo: ' , accuracy_score(y_test, y_pred))\n",
    "\n",
    "\n",
    "def plot_confusion_matrix(cm, classes,\n",
    "                          normalize=False,\n",
    "                          title='Confusion matrix',\n",
    "                          cmap=plt.cm.Blues):\n",
    "    \"\"\"\n",
    "    This function prints and plots the confusion matrix.\n",
    "    Normalization can be applied by setting `normalize=True`.\n",
    "    \"\"\"\n",
    "    if normalize:\n",
    "        cm = cm.astype('float') / cm.sum(axis=1)[:, np.newaxis]\n",
    "        print(\"Normalized confusion matrix\")\n",
    "    else:\n",
    "        print('Confusion matrix, without normalization')\n",
    "\n",
    "    print(cm)\n",
    "\n",
    "    plt.imshow(cm, interpolation='nearest', cmap=cmap)\n",
    "    plt.title(title)\n",
    "    plt.colorbar()\n",
    "    tick_marks = np.arange(len(classes))\n",
    "    plt.xticks(tick_marks, classes, rotation=45)\n",
    "    plt.yticks(tick_marks, classes)\n",
    "\n",
    "    fmt = '.2f' if normalize else 'd'\n",
    "    thresh = cm.max() / 2.\n",
    "    for i, j in itertools.product(range(cm.shape[0]), range(cm.shape[1])):\n",
    "        plt.text(j, i, format(cm[i, j], fmt),\n",
    "                 horizontalalignment=\"center\",\n",
    "                 color=\"white\" if cm[i, j] > thresh else \"black\")\n",
    "\n",
    "    plt.tight_layout()\n",
    "    plt.ylabel('True label')\n",
    "    plt.xlabel('Predicted label')\n",
    "    plt.savefig(\"/tmp/confusion.png\", dpi=300)\n",
    "    plt.show()\n",
    "\n",
    "# Compute confusion matrix\n",
    "cnf_matrix = confusion_matrix(y_test, y_pred, labels=[0,1])\n",
    "np.set_printoptions(precision=2)\n",
    "\n",
    "print (classification_report(y_test, y_pred))\n",
    "\n",
    "# Plot non-normalized confusion matrix\n",
    "plt.figure()\n",
    "plot_confusion_matrix(cnf_matrix, classes=[label_classe_0, label_classe_1],normalize=False,  title='Confusion matrix')\n"
   ]
  },
  {
   "cell_type": "code",
   "execution_count": 36,
   "id": "778efe64",
   "metadata": {},
   "outputs": [
    {
     "data": {
      "text/plain": [
       "['../data/classifier_knn.model']"
      ]
     },
     "execution_count": 36,
     "metadata": {},
     "output_type": "execute_result"
    }
   ],
   "source": [
    "## Salvando o modelo gerado\n",
    "joblib.dump(classifier, \"../data/classifier_knn.model\")"
   ]
  },
  {
   "cell_type": "code",
   "execution_count": 37,
   "id": "d9421d92",
   "metadata": {},
   "outputs": [],
   "source": [
    "# Recuperando\n",
    "classifier = joblib.load('../data/classifier_knn.model')"
   ]
  },
  {
   "cell_type": "markdown",
   "id": "c73cab67",
   "metadata": {},
   "source": [
    "### SVM (Support Vector Machines)"
   ]
  },
  {
   "cell_type": "code",
   "execution_count": 45,
   "id": "db38053f",
   "metadata": {},
   "outputs": [
    {
     "data": {
      "text/html": [
       "<div>\n",
       "<style scoped>\n",
       "    .dataframe tbody tr th:only-of-type {\n",
       "        vertical-align: middle;\n",
       "    }\n",
       "\n",
       "    .dataframe tbody tr th {\n",
       "        vertical-align: top;\n",
       "    }\n",
       "\n",
       "    .dataframe thead th {\n",
       "        text-align: right;\n",
       "    }\n",
       "</style>\n",
       "<table border=\"1\" class=\"dataframe\">\n",
       "  <thead>\n",
       "    <tr style=\"text-align: right;\">\n",
       "      <th></th>\n",
       "      <th>0</th>\n",
       "      <th>1</th>\n",
       "      <th>2</th>\n",
       "      <th>3</th>\n",
       "      <th>4</th>\n",
       "      <th>5</th>\n",
       "      <th>6</th>\n",
       "      <th>7</th>\n",
       "      <th>8</th>\n",
       "      <th>9</th>\n",
       "      <th>...</th>\n",
       "      <th>71</th>\n",
       "      <th>72</th>\n",
       "      <th>73</th>\n",
       "      <th>74</th>\n",
       "      <th>75</th>\n",
       "      <th>76</th>\n",
       "      <th>77</th>\n",
       "      <th>78</th>\n",
       "      <th>79</th>\n",
       "      <th>80</th>\n",
       "    </tr>\n",
       "  </thead>\n",
       "  <tbody>\n",
       "    <tr>\n",
       "      <th>0</th>\n",
       "      <td>3.862122</td>\n",
       "      <td>0.114727</td>\n",
       "      <td>-0.275756</td>\n",
       "      <td>0.015434</td>\n",
       "      <td>5.156334</td>\n",
       "      <td>0.004051</td>\n",
       "      <td>-0.100129</td>\n",
       "      <td>0.005209</td>\n",
       "      <td>24.040804</td>\n",
       "      <td>-0.767942</td>\n",
       "      <td>...</td>\n",
       "      <td>0.027010</td>\n",
       "      <td>1.711897</td>\n",
       "      <td>0.046817</td>\n",
       "      <td>0.014534</td>\n",
       "      <td>0.030354</td>\n",
       "      <td>8.043473</td>\n",
       "      <td>0.062122</td>\n",
       "      <td>-0.141125</td>\n",
       "      <td>-0.094534</td>\n",
       "      <td>0</td>\n",
       "    </tr>\n",
       "    <tr>\n",
       "      <th>1</th>\n",
       "      <td>11.648793</td>\n",
       "      <td>0.346034</td>\n",
       "      <td>-0.831724</td>\n",
       "      <td>0.046552</td>\n",
       "      <td>22.272500</td>\n",
       "      <td>0.017500</td>\n",
       "      <td>-0.432500</td>\n",
       "      <td>0.022500</td>\n",
       "      <td>73.500431</td>\n",
       "      <td>-2.347845</td>\n",
       "      <td>...</td>\n",
       "      <td>0.094138</td>\n",
       "      <td>9.179310</td>\n",
       "      <td>0.251034</td>\n",
       "      <td>0.077931</td>\n",
       "      <td>0.162759</td>\n",
       "      <td>29.780000</td>\n",
       "      <td>0.230000</td>\n",
       "      <td>-0.522500</td>\n",
       "      <td>-0.350000</td>\n",
       "      <td>0</td>\n",
       "    </tr>\n",
       "    <tr>\n",
       "      <th>2</th>\n",
       "      <td>12.083185</td>\n",
       "      <td>0.358938</td>\n",
       "      <td>-0.862740</td>\n",
       "      <td>0.048288</td>\n",
       "      <td>18.611267</td>\n",
       "      <td>0.014623</td>\n",
       "      <td>-0.361404</td>\n",
       "      <td>0.018801</td>\n",
       "      <td>51.659418</td>\n",
       "      <td>-1.650171</td>\n",
       "      <td>...</td>\n",
       "      <td>0.057534</td>\n",
       "      <td>4.558219</td>\n",
       "      <td>0.124658</td>\n",
       "      <td>0.038699</td>\n",
       "      <td>0.080822</td>\n",
       "      <td>17.133699</td>\n",
       "      <td>0.132329</td>\n",
       "      <td>-0.300616</td>\n",
       "      <td>-0.201370</td>\n",
       "      <td>0</td>\n",
       "    </tr>\n",
       "    <tr>\n",
       "      <th>3</th>\n",
       "      <td>15.398974</td>\n",
       "      <td>0.457436</td>\n",
       "      <td>-1.099487</td>\n",
       "      <td>0.061538</td>\n",
       "      <td>25.984583</td>\n",
       "      <td>0.020417</td>\n",
       "      <td>-0.504583</td>\n",
       "      <td>0.026250</td>\n",
       "      <td>68.107500</td>\n",
       "      <td>-2.175577</td>\n",
       "      <td>...</td>\n",
       "      <td>0.075385</td>\n",
       "      <td>7.678846</td>\n",
       "      <td>0.210000</td>\n",
       "      <td>0.065192</td>\n",
       "      <td>0.136154</td>\n",
       "      <td>23.289487</td>\n",
       "      <td>0.179872</td>\n",
       "      <td>-0.408622</td>\n",
       "      <td>-0.273718</td>\n",
       "      <td>0</td>\n",
       "    </tr>\n",
       "    <tr>\n",
       "      <th>4</th>\n",
       "      <td>61.574270</td>\n",
       "      <td>1.829101</td>\n",
       "      <td>-4.396404</td>\n",
       "      <td>0.246067</td>\n",
       "      <td>105.106180</td>\n",
       "      <td>0.082584</td>\n",
       "      <td>-2.041011</td>\n",
       "      <td>0.106180</td>\n",
       "      <td>247.601798</td>\n",
       "      <td>-7.909213</td>\n",
       "      <td>...</td>\n",
       "      <td>0.283146</td>\n",
       "      <td>29.910112</td>\n",
       "      <td>0.817978</td>\n",
       "      <td>0.253933</td>\n",
       "      <td>0.530337</td>\n",
       "      <td>93.689888</td>\n",
       "      <td>0.723596</td>\n",
       "      <td>-1.643820</td>\n",
       "      <td>-1.101124</td>\n",
       "      <td>0</td>\n",
       "    </tr>\n",
       "  </tbody>\n",
       "</table>\n",
       "<p>5 rows × 81 columns</p>\n",
       "</div>"
      ],
      "text/plain": [
       "          0         1         2         3           4         5         6   \\\n",
       "0   3.862122  0.114727 -0.275756  0.015434    5.156334  0.004051 -0.100129   \n",
       "1  11.648793  0.346034 -0.831724  0.046552   22.272500  0.017500 -0.432500   \n",
       "2  12.083185  0.358938 -0.862740  0.048288   18.611267  0.014623 -0.361404   \n",
       "3  15.398974  0.457436 -1.099487  0.061538   25.984583  0.020417 -0.504583   \n",
       "4  61.574270  1.829101 -4.396404  0.246067  105.106180  0.082584 -2.041011   \n",
       "\n",
       "         7           8         9   ...        71         72        73  \\\n",
       "0  0.005209   24.040804 -0.767942  ...  0.027010   1.711897  0.046817   \n",
       "1  0.022500   73.500431 -2.347845  ...  0.094138   9.179310  0.251034   \n",
       "2  0.018801   51.659418 -1.650171  ...  0.057534   4.558219  0.124658   \n",
       "3  0.026250   68.107500 -2.175577  ...  0.075385   7.678846  0.210000   \n",
       "4  0.106180  247.601798 -7.909213  ...  0.283146  29.910112  0.817978   \n",
       "\n",
       "         74        75         76        77        78        79  80  \n",
       "0  0.014534  0.030354   8.043473  0.062122 -0.141125 -0.094534   0  \n",
       "1  0.077931  0.162759  29.780000  0.230000 -0.522500 -0.350000   0  \n",
       "2  0.038699  0.080822  17.133699  0.132329 -0.300616 -0.201370   0  \n",
       "3  0.065192  0.136154  23.289487  0.179872 -0.408622 -0.273718   0  \n",
       "4  0.253933  0.530337  93.689888  0.723596 -1.643820 -1.101124   0  \n",
       "\n",
       "[5 rows x 81 columns]"
      ]
     },
     "execution_count": 45,
     "metadata": {},
     "output_type": "execute_result"
    }
   ],
   "source": [
    "## Carregando os dados da matriz \n",
    "seqs_df = pd.read_csv(\"../data/all.csv\", header=None)\n",
    "seqs_df.head()"
   ]
  },
  {
   "cell_type": "code",
   "execution_count": 46,
   "id": "a28b166a",
   "metadata": {},
   "outputs": [
    {
     "data": {
      "image/png": "[encoded data removed]",
      "text/plain": [
       "<Figure size 432x288 with 1 Axes>"
      ]
     },
     "metadata": {
      "needs_background": "light"
     },
     "output_type": "display_data"
    }
   ],
   "source": [
    "## Plotando o comportamento de uma amostra dos dados \n",
    "classCol = seqs_df.shape[1]-1\n",
    "\n",
    "ax = seqs_df[seqs_df[classCol] == 0][0:50].plot(kind='scatter', x=0, y=77, color='DarkBlue', label=label_classe_0);\n",
    "seqs_df[seqs_df[classCol] == 1][0:50].plot(kind='scatter', x=0, y=77, color='Yellow', label=label_classe_1, ax=ax);\n",
    "plt.show()"
   ]
  },
  {
   "cell_type": "code",
   "execution_count": 47,
   "id": "1591a855",
   "metadata": {},
   "outputs": [
    {
     "data": {
      "text/plain": [
       "array([[ 3.86e+00,  1.15e-01, -2.76e-01,  1.54e-02,  5.16e+00,  4.05e-03,\n",
       "        -1.00e-01,  5.21e-03,  2.40e+01, -7.68e-01, -1.89e-01, -1.80e-01,\n",
       "         5.28e+00, -8.81e-02, -9.55e-03, -1.45e-02,  8.50e+00, -2.53e-01,\n",
       "         6.69e-02,  2.32e-02,  6.57e-01, -1.53e-02,  1.17e-02,  2.73e-03,\n",
       "         2.82e+00,  5.48e-02,  2.72e-02, -6.06e-02,  4.70e+00,  7.04e-02,\n",
       "         1.70e-02, -3.67e-02,  3.78e+00,  7.92e-02,  1.00e-03, -1.80e-03,\n",
       "         1.12e+01,  2.08e-01, -1.73e-01,  6.05e-02,  4.44e+00, -4.71e-02,\n",
       "         3.40e-02,  8.60e-02,  1.05e+01, -2.42e-01, -2.28e-01, -1.16e-01,\n",
       "         9.70e+00, -3.28e-01, -1.24e-01, -7.62e-02,  4.29e+00,  2.51e-02,\n",
       "        -3.43e-02,  1.46e-01,  5.83e+00, -4.47e-02,  7.46e-02,  3.22e-04,\n",
       "         2.49e+00,  3.87e-02,  2.80e-02,  1.78e-02,  6.16e+00,  1.02e-01,\n",
       "         8.91e-02, -1.22e-01,  4.25e+00,  1.04e-01,  4.66e-02,  2.70e-02,\n",
       "         1.71e+00,  4.68e-02,  1.45e-02,  3.04e-02,  8.04e+00,  6.21e-02,\n",
       "        -1.41e-01, -9.45e-02]])"
      ]
     },
     "execution_count": 47,
     "metadata": {},
     "output_type": "execute_result"
    }
   ],
   "source": [
    "## Separando as colunas X e Y\n",
    "feature_df = seqs_df.iloc[:,0:80]\n",
    "X = np.asarray(feature_df)\n",
    "X[0:1]\n"
   ]
  },
  {
   "cell_type": "code",
   "execution_count": 48,
   "id": "fde4bbde",
   "metadata": {},
   "outputs": [
    {
     "data": {
      "text/plain": [
       "array([0, 0, 0, 0, 0])"
      ]
     },
     "execution_count": 48,
     "metadata": {},
     "output_type": "execute_result"
    }
   ],
   "source": [
    "y = np.asarray(seqs_df.iloc[:,80])\n",
    "y [0:5]"
   ]
  },
  {
   "cell_type": "code",
   "execution_count": 49,
   "id": "d6601433",
   "metadata": {},
   "outputs": [
    {
     "name": "stdout",
     "output_type": "stream",
     "text": [
      "Train set: (16442, 80) (16442,)\n",
      "Test set: (4111, 80) (4111,)\n"
     ]
    }
   ],
   "source": [
    "## Dividindo a base em treinamento (80%) e teste (20%)\n",
    "X_train, X_test, y_train, y_test = train_test_split( X, y, test_size=0.2, random_state=4)\n",
    "print ('Train set:', X_train.shape,  y_train.shape)\n",
    "print ('Test set:', X_test.shape,  y_test.shape)"
   ]
  },
  {
   "cell_type": "markdown",
   "id": "e40a8e47",
   "metadata": {},
   "source": [
    "#### Modeling (SVM with Scikit-learn)\n",
    "The SVM algorithm offers a choice of kernel functions for performing its processing. Basically, mapping data into a higher dimensional space is called kernelling. The mathematical function used for the transformation is known as the kernel function, and can be of different types, such as:\n",
    "\n",
    "```\n",
    "1.Linear\n",
    "2.Polynomial\n",
    "3.Radial basis function (RBF)\n",
    "4.Sigmoid\n",
    "```\n",
    "\n",
    "Each of these functions has its characteristics, its pros and cons, and its equation, but as there's no easy way of knowing which function performs best with any given dataset, we usually choose different functions in turn and compare the results. Let's just use the default, RBF (Radial Basis Function) for this lab.\n"
   ]
  },
  {
   "cell_type": "code",
   "execution_count": 71,
   "id": "8732cc61",
   "metadata": {},
   "outputs": [
    {
     "data": {
      "text/plain": [
       "array([0, 0, 0, 0, 0])"
      ]
     },
     "execution_count": 71,
     "metadata": {},
     "output_type": "execute_result"
    }
   ],
   "source": [
    "## Rodando com o algoritmo escolhido\n",
    "from sklearn import svm\n",
    "clf = svm.SVC(kernel='sigmoid')\n",
    "clf.fit(X_train, y_train) \n",
    "yhat = clf.predict(X_test)\n",
    "yhat [0:5]"
   ]
  },
  {
   "cell_type": "code",
   "execution_count": 72,
   "id": "f62fa9c1",
   "metadata": {},
   "outputs": [
    {
     "name": "stdout",
     "output_type": "stream",
     "text": [
      "              precision    recall  f1-score   support\n",
      "\n",
      "           0       1.00      1.00      1.00      4103\n",
      "           1       0.00      0.00      0.00         8\n",
      "\n",
      "    accuracy                           1.00      4111\n",
      "   macro avg       0.50      0.50      0.50      4111\n",
      "weighted avg       1.00      1.00      1.00      4111\n",
      "\n",
      "Confusion matrix, without normalization\n",
      "[[4103    0]\n",
      " [   8    0]]\n"
     ]
    },
    {
     "name": "stderr",
     "output_type": "stream",
     "text": [
      "/opt/miniconda3/lib/python3.9/site-packages/sklearn/metrics/_classification.py:1221: UndefinedMetricWarning: Precision and F-score are ill-defined and being set to 0.0 in labels with no predicted samples. Use `zero_division` parameter to control this behavior.\n",
      "  _warn_prf(average, modifier, msg_start, len(result))\n"
     ]
    },
    {
     "data": {
      "image/png": "[encoded data removed]",
      "text/plain": [
       "<Figure size 432x288 with 2 Axes>"
      ]
     },
     "metadata": {
      "needs_background": "light"
     },
     "output_type": "display_data"
    }
   ],
   "source": [
    "## Gerando a matriz confusao\n",
    "from sklearn.metrics import classification_report, confusion_matrix\n",
    "import itertools\n",
    "\n",
    "def plot_confusion_matrix(cm, classes,\n",
    "                          normalize=False,\n",
    "                          title='Confusion matrix',\n",
    "                          cmap=plt.cm.Blues):\n",
    "    \"\"\"\n",
    "    This function prints and plots the confusion matrix.\n",
    "    Normalization can be applied by setting `normalize=True`.\n",
    "    \"\"\"\n",
    "    if normalize:\n",
    "        cm = cm.astype('float') / cm.sum(axis=1)[:, np.newaxis]\n",
    "        print(\"Normalized confusion matrix\")\n",
    "    else:\n",
    "        print('Confusion matrix, without normalization')\n",
    "\n",
    "    print(cm)\n",
    "\n",
    "    plt.imshow(cm, interpolation='nearest', cmap=cmap)\n",
    "    plt.title(title)\n",
    "    plt.colorbar()\n",
    "    tick_marks = np.arange(len(classes))\n",
    "    plt.xticks(tick_marks, classes, rotation=45)\n",
    "    plt.yticks(tick_marks, classes)\n",
    "\n",
    "    fmt = '.2f' if normalize else 'd'\n",
    "    thresh = cm.max() / 2.\n",
    "    for i, j in itertools.product(range(cm.shape[0]), range(cm.shape[1])):\n",
    "        plt.text(j, i, format(cm[i, j], fmt),\n",
    "                 horizontalalignment=\"center\",\n",
    "                 color=\"white\" if cm[i, j] > thresh else \"black\")\n",
    "\n",
    "    plt.tight_layout()\n",
    "    plt.ylabel('True label')\n",
    "    plt.xlabel('Predicted label')\n",
    "\n",
    "# Compute confusion matrix\n",
    "cnf_matrix = confusion_matrix(y_test, yhat, labels=[0,1])\n",
    "np.set_printoptions(precision=2)\n",
    "\n",
    "print (classification_report(y_test, yhat))\n",
    "\n",
    "# Plot non-normalized confusion matrix\n",
    "plt.figure()\n",
    "plot_confusion_matrix(cnf_matrix, classes=['MMPs(0)','No MMPs(1)'],normalize= False,  title='Confusion matrix')"
   ]
  },
  {
   "cell_type": "code",
   "execution_count": 62,
   "id": "a1098db7",
   "metadata": {},
   "outputs": [
    {
     "data": {
      "text/plain": [
       "['../data/classifier_svm.model']"
      ]
     },
     "execution_count": 62,
     "metadata": {},
     "output_type": "execute_result"
    }
   ],
   "source": [
    "## Salvando o modelo gerado\n",
    "import joblib\n",
    "joblib.dump(clf, \"../data/classifier_svm.model\")"
   ]
  },
  {
   "cell_type": "code",
   "execution_count": 63,
   "id": "4d6601dc",
   "metadata": {},
   "outputs": [],
   "source": [
    "# Recuperando\n",
    "classifier = joblib.load('../data/classifier_svm.model')"
   ]
  },
  {
   "cell_type": "markdown",
   "id": "bde49da2",
   "metadata": {},
   "source": [
    "### Aplicando no mundo real"
   ]
  },
  {
   "cell_type": "code",
   "execution_count": 38,
   "id": "ae12991f",
   "metadata": {},
   "outputs": [],
   "source": [
    "## Convertendo o arquivo em matriz\n",
    "!python ../sequence2matrix_2.py ../data/UP000005640_9606.fasta X > ../data/proteoma_humano.csv\n",
    "\n",
    "## OBS: Remover o X na \"mao\""
   ]
  },
  {
   "cell_type": "code",
   "execution_count": 54,
   "id": "a3d3d576",
   "metadata": {},
   "outputs": [
    {
     "data": {
      "text/html": [
       "<div>\n",
       "<style scoped>\n",
       "    .dataframe tbody tr th:only-of-type {\n",
       "        vertical-align: middle;\n",
       "    }\n",
       "\n",
       "    .dataframe tbody tr th {\n",
       "        vertical-align: top;\n",
       "    }\n",
       "\n",
       "    .dataframe thead th {\n",
       "        text-align: right;\n",
       "    }\n",
       "</style>\n",
       "<table border=\"1\" class=\"dataframe\">\n",
       "  <thead>\n",
       "    <tr style=\"text-align: right;\">\n",
       "      <th></th>\n",
       "      <th>0</th>\n",
       "      <th>1</th>\n",
       "      <th>2</th>\n",
       "      <th>3</th>\n",
       "      <th>4</th>\n",
       "      <th>5</th>\n",
       "      <th>6</th>\n",
       "      <th>7</th>\n",
       "      <th>8</th>\n",
       "      <th>9</th>\n",
       "      <th>...</th>\n",
       "      <th>70</th>\n",
       "      <th>71</th>\n",
       "      <th>72</th>\n",
       "      <th>73</th>\n",
       "      <th>74</th>\n",
       "      <th>75</th>\n",
       "      <th>76</th>\n",
       "      <th>77</th>\n",
       "      <th>78</th>\n",
       "      <th>79</th>\n",
       "    </tr>\n",
       "  </thead>\n",
       "  <tbody>\n",
       "    <tr>\n",
       "      <th>0</th>\n",
       "      <td>3.862122</td>\n",
       "      <td>0.114727</td>\n",
       "      <td>-0.275756</td>\n",
       "      <td>0.015434</td>\n",
       "      <td>5.156334</td>\n",
       "      <td>0.004051</td>\n",
       "      <td>-0.100129</td>\n",
       "      <td>0.005209</td>\n",
       "      <td>24.040804</td>\n",
       "      <td>-0.767942</td>\n",
       "      <td>...</td>\n",
       "      <td>0.046624</td>\n",
       "      <td>0.027010</td>\n",
       "      <td>1.711897</td>\n",
       "      <td>0.046817</td>\n",
       "      <td>0.014534</td>\n",
       "      <td>0.030354</td>\n",
       "      <td>8.043473</td>\n",
       "      <td>0.062122</td>\n",
       "      <td>-0.141125</td>\n",
       "      <td>-0.094534</td>\n",
       "    </tr>\n",
       "    <tr>\n",
       "      <th>1</th>\n",
       "      <td>11.648793</td>\n",
       "      <td>0.346034</td>\n",
       "      <td>-0.831724</td>\n",
       "      <td>0.046552</td>\n",
       "      <td>22.272500</td>\n",
       "      <td>0.017500</td>\n",
       "      <td>-0.432500</td>\n",
       "      <td>0.022500</td>\n",
       "      <td>73.500431</td>\n",
       "      <td>-2.347845</td>\n",
       "      <td>...</td>\n",
       "      <td>0.162500</td>\n",
       "      <td>0.094138</td>\n",
       "      <td>9.179310</td>\n",
       "      <td>0.251034</td>\n",
       "      <td>0.077931</td>\n",
       "      <td>0.162759</td>\n",
       "      <td>29.780000</td>\n",
       "      <td>0.230000</td>\n",
       "      <td>-0.522500</td>\n",
       "      <td>-0.350000</td>\n",
       "    </tr>\n",
       "    <tr>\n",
       "      <th>2</th>\n",
       "      <td>12.083185</td>\n",
       "      <td>0.358938</td>\n",
       "      <td>-0.862740</td>\n",
       "      <td>0.048288</td>\n",
       "      <td>18.611267</td>\n",
       "      <td>0.014623</td>\n",
       "      <td>-0.361404</td>\n",
       "      <td>0.018801</td>\n",
       "      <td>51.659418</td>\n",
       "      <td>-1.650171</td>\n",
       "      <td>...</td>\n",
       "      <td>0.099315</td>\n",
       "      <td>0.057534</td>\n",
       "      <td>4.558219</td>\n",
       "      <td>0.124658</td>\n",
       "      <td>0.038699</td>\n",
       "      <td>0.080822</td>\n",
       "      <td>17.133699</td>\n",
       "      <td>0.132329</td>\n",
       "      <td>-0.300616</td>\n",
       "      <td>-0.201370</td>\n",
       "    </tr>\n",
       "    <tr>\n",
       "      <th>3</th>\n",
       "      <td>15.398974</td>\n",
       "      <td>0.457436</td>\n",
       "      <td>-1.099487</td>\n",
       "      <td>0.061538</td>\n",
       "      <td>25.984583</td>\n",
       "      <td>0.020417</td>\n",
       "      <td>-0.504583</td>\n",
       "      <td>0.026250</td>\n",
       "      <td>68.107500</td>\n",
       "      <td>-2.175577</td>\n",
       "      <td>...</td>\n",
       "      <td>0.130128</td>\n",
       "      <td>0.075385</td>\n",
       "      <td>7.678846</td>\n",
       "      <td>0.210000</td>\n",
       "      <td>0.065192</td>\n",
       "      <td>0.136154</td>\n",
       "      <td>23.289487</td>\n",
       "      <td>0.179872</td>\n",
       "      <td>-0.408622</td>\n",
       "      <td>-0.273718</td>\n",
       "    </tr>\n",
       "    <tr>\n",
       "      <th>4</th>\n",
       "      <td>61.574270</td>\n",
       "      <td>1.829101</td>\n",
       "      <td>-4.396404</td>\n",
       "      <td>0.246067</td>\n",
       "      <td>105.106180</td>\n",
       "      <td>0.082584</td>\n",
       "      <td>-2.041011</td>\n",
       "      <td>0.106180</td>\n",
       "      <td>247.601798</td>\n",
       "      <td>-7.909213</td>\n",
       "      <td>...</td>\n",
       "      <td>0.488764</td>\n",
       "      <td>0.283146</td>\n",
       "      <td>29.910112</td>\n",
       "      <td>0.817978</td>\n",
       "      <td>0.253933</td>\n",
       "      <td>0.530337</td>\n",
       "      <td>93.689888</td>\n",
       "      <td>0.723596</td>\n",
       "      <td>-1.643820</td>\n",
       "      <td>-1.101124</td>\n",
       "    </tr>\n",
       "  </tbody>\n",
       "</table>\n",
       "<p>5 rows × 80 columns</p>\n",
       "</div>"
      ],
      "text/plain": [
       "          0         1         2         3           4         5         6   \\\n",
       "0   3.862122  0.114727 -0.275756  0.015434    5.156334  0.004051 -0.100129   \n",
       "1  11.648793  0.346034 -0.831724  0.046552   22.272500  0.017500 -0.432500   \n",
       "2  12.083185  0.358938 -0.862740  0.048288   18.611267  0.014623 -0.361404   \n",
       "3  15.398974  0.457436 -1.099487  0.061538   25.984583  0.020417 -0.504583   \n",
       "4  61.574270  1.829101 -4.396404  0.246067  105.106180  0.082584 -2.041011   \n",
       "\n",
       "         7           8         9   ...        70        71         72  \\\n",
       "0  0.005209   24.040804 -0.767942  ...  0.046624  0.027010   1.711897   \n",
       "1  0.022500   73.500431 -2.347845  ...  0.162500  0.094138   9.179310   \n",
       "2  0.018801   51.659418 -1.650171  ...  0.099315  0.057534   4.558219   \n",
       "3  0.026250   68.107500 -2.175577  ...  0.130128  0.075385   7.678846   \n",
       "4  0.106180  247.601798 -7.909213  ...  0.488764  0.283146  29.910112   \n",
       "\n",
       "         73        74        75         76        77        78        79  \n",
       "0  0.046817  0.014534  0.030354   8.043473  0.062122 -0.141125 -0.094534  \n",
       "1  0.251034  0.077931  0.162759  29.780000  0.230000 -0.522500 -0.350000  \n",
       "2  0.124658  0.038699  0.080822  17.133699  0.132329 -0.300616 -0.201370  \n",
       "3  0.210000  0.065192  0.136154  23.289487  0.179872 -0.408622 -0.273718  \n",
       "4  0.817978  0.253933  0.530337  93.689888  0.723596 -1.643820 -1.101124  \n",
       "\n",
       "[5 rows x 80 columns]"
      ]
     },
     "execution_count": 54,
     "metadata": {},
     "output_type": "execute_result"
    }
   ],
   "source": [
    "real = pd.read_csv(\"../data/proteoma_humano.csv\", header=None)\n",
    "real.head()\n",
    "\n",
    "### ATENCAO: Verificar se tem 80 colunas"
   ]
  },
  {
   "cell_type": "code",
   "execution_count": 55,
   "id": "8696da63",
   "metadata": {},
   "outputs": [
    {
     "data": {
      "text/plain": [
       "array([[ 3.86e+00,  1.15e-01, -2.76e-01,  1.54e-02,  5.16e+00,  4.05e-03,\n",
       "        -1.00e-01,  5.21e-03,  2.40e+01, -7.68e-01, -1.89e-01, -1.80e-01,\n",
       "         5.28e+00, -8.81e-02, -9.55e-03, -1.45e-02,  8.50e+00, -2.53e-01,\n",
       "         6.69e-02,  2.32e-02,  6.57e-01, -1.53e-02,  1.17e-02,  2.73e-03,\n",
       "         2.82e+00,  5.48e-02,  2.72e-02, -6.06e-02,  4.70e+00,  7.04e-02,\n",
       "         1.70e-02, -3.67e-02,  3.78e+00,  7.92e-02,  1.00e-03, -1.80e-03,\n",
       "         1.12e+01,  2.08e-01, -1.73e-01,  6.05e-02,  4.44e+00, -4.71e-02,\n",
       "         3.40e-02,  8.60e-02,  1.05e+01, -2.42e-01, -2.28e-01, -1.16e-01,\n",
       "         9.70e+00, -3.28e-01, -1.24e-01, -7.62e-02,  4.29e+00,  2.51e-02,\n",
       "        -3.43e-02,  1.46e-01,  5.83e+00, -4.47e-02,  7.46e-02,  3.22e-04,\n",
       "         2.49e+00,  3.87e-02,  2.80e-02,  1.78e-02,  6.16e+00,  1.02e-01,\n",
       "         8.91e-02, -1.22e-01,  4.25e+00,  1.04e-01,  4.66e-02,  2.70e-02,\n",
       "         1.71e+00,  4.68e-02,  1.45e-02,  3.04e-02,  8.04e+00,  6.21e-02,\n",
       "        -1.41e-01, -9.45e-02]])"
      ]
     },
     "execution_count": 55,
     "metadata": {},
     "output_type": "execute_result"
    }
   ],
   "source": [
    "#X_real = real.drop(0, axis=1).values\n",
    "X_real = np.asarray(real)\n",
    "X_real[0:1]"
   ]
  },
  {
   "cell_type": "code",
   "execution_count": null,
   "id": "0963628d",
   "metadata": {},
   "outputs": [],
   "source": [
    "## Normalizando os dados\n",
    "#X_real = preprocessing.StandardScaler().fit(X_real).transform(X_real.astype(float))\n",
    "#X_real[0:1]"
   ]
  },
  {
   "cell_type": "code",
   "execution_count": 64,
   "id": "75755493",
   "metadata": {},
   "outputs": [
    {
     "data": {
      "text/plain": [
       "array([0, 0, 0, ..., 0, 0, 0])"
      ]
     },
     "execution_count": 64,
     "metadata": {},
     "output_type": "execute_result"
    }
   ],
   "source": [
    "# Aplicando os valores de teste novamente\n",
    "y_pred_real = classifier.predict(X_real) \n",
    "y_pred_real"
   ]
  },
  {
   "cell_type": "code",
   "execution_count": 65,
   "id": "c541e6c0",
   "metadata": {},
   "outputs": [],
   "source": [
    "file = open('../data/preditos.txt', 'w')\n",
    "for i in y_pred_real:\n",
    "    file.write(str(i))\n",
    "    file.write('\\n')\n",
    "file.close()"
   ]
  },
  {
   "cell_type": "code",
   "execution_count": 66,
   "id": "d6d34234",
   "metadata": {},
   "outputs": [
    {
     "name": "stdout",
     "output_type": "stream",
     "text": [
      "20588\r\n"
     ]
    }
   ],
   "source": [
    "!grep -c '0' ../data/preditos.txt"
   ]
  },
  {
   "cell_type": "code",
   "execution_count": 67,
   "id": "0ad3c495",
   "metadata": {},
   "outputs": [
    {
     "name": "stdout",
     "output_type": "stream",
     "text": [
      "0\r\n"
     ]
    }
   ],
   "source": [
    "!grep -c '1' ../data/preditos.txt"
   ]
  },
  {
   "cell_type": "markdown",
   "id": "6610c7fc",
   "metadata": {},
   "source": [
    "# Artigo Beiji"
   ]
  },
  {
   "cell_type": "code",
   "execution_count": null,
   "id": "0426fb99",
   "metadata": {},
   "outputs": [],
   "source": [
    "# Transformando os fastas em csv\n",
    "!python ../Scripts/sequence2matrix_2.py /opt/working/MMPs/Metodologia/Data/artigo_Beigi/mmps.fasta 0 > ./mmps.csv\n",
    "!python ../Scripts/sequence2matrix_2.py /opt/working/MMPs/Metodologia/Data/artigo_Beigi/adams.fasta 1 > ./adams.csv\n",
    "!python ../Scripts/sequence2matrix_2.py /opt/working/MMPs/Metodologia/Data/artigo_Beigi/negative.fasta 2 > ./negative.csv"
   ]
  },
  {
   "cell_type": "code",
   "execution_count": null,
   "id": "f0d82789",
   "metadata": {},
   "outputs": [],
   "source": [
    "# Recuperando o modelo saldo do KNN\n",
    "classifier = joblib.load('classifier_knn.model')"
   ]
  },
  {
   "cell_type": "code",
   "execution_count": null,
   "id": "285a95d0",
   "metadata": {},
   "outputs": [],
   "source": [
    "# Lendo o csv\n",
    "real = pd.read_csv(\"negative.csv\", header=None)\n",
    "real.head()"
   ]
  },
  {
   "cell_type": "code",
   "execution_count": null,
   "id": "13fd06cd",
   "metadata": {},
   "outputs": [],
   "source": [
    "# Separando as variaveis independentes\n",
    "X_real = np.asarray(real)\n",
    "X_real[0:1]"
   ]
  },
  {
   "cell_type": "code",
   "execution_count": null,
   "id": "45f9fdb4",
   "metadata": {},
   "outputs": [],
   "source": [
    "## Normalizando os dados\n",
    "#X_real = preprocessing.StandardScaler().fit(X_real).transform(X_real.astype(float))\n",
    "#X_real[0:1]"
   ]
  },
  {
   "cell_type": "code",
   "execution_count": null,
   "id": "9c654a02",
   "metadata": {},
   "outputs": [],
   "source": [
    "# Aplicando os valores de teste novamente\n",
    "y_pred_real = classifier.predict(X_real) \n",
    "y_pred_real"
   ]
  }
 ],
 "metadata": {
  "kernelspec": {
   "display_name": "Python 3 (ipykernel)",
   "language": "python",
   "name": "python3"
  },
  "language_info": {
   "codemirror_mode": {
    "name": "ipython",
    "version": 3
   },
   "file_extension": ".py",
   "mimetype": "text/x-python",
   "name": "python",
   "nbconvert_exporter": "python",
   "pygments_lexer": "ipython3",
   "version": "3.9.1"
  }
 },
 "nbformat": 4,
 "nbformat_minor": 5
}
